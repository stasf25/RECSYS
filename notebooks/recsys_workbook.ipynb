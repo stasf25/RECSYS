{
 "cells": [
  {
   "attachments": {},
   "cell_type": "markdown",
   "metadata": {},
   "source": [
    "## ИНИЦИАЛИЗАЦИЯ СРЕДЫ ##"
   ]
  },
  {
   "cell_type": "code",
   "execution_count": 1,
   "metadata": {},
   "outputs": [],
   "source": [
    "# переменные для управления ходом выполнения ячеек\n",
    "\n",
    "INFER_MODE = True      # True для включения режима расчета inference-рекомендаций\n",
    "\n",
    "CALC_ALS   = True      # True для пересчета и сохранения als_model; \n",
    "                        # False - для загрузки сохраненной als_model\n",
    "CALC_RECS  = True      # True для пересчета и сохранения personal_als, similarity и top_popular;\n",
    "                        # False - для загрузки сохраненных personal_als, similarity и top_popular\n",
    "\n",
    "ALS_GRID   = False      # True для подбора гиперпараметров ALS (~ 1 час)\n",
    "CB_GRID    = False      # True для подбора гиперпараметров Catboost (только при INFER_MODE==False)\n",
    "\n",
    "if CB_GRID and INFER_MODE: raise(Exception(\"Неверная комбинация параметров управления\"))"
   ]
  },
  {
   "attachments": {},
   "cell_type": "markdown",
   "metadata": {},
   "source": [
    "> <ins>**ВАЖНО**</ins>: \\\n",
    "> Перед запуском данного Notebook необходимо запустить сервер MLFlow !"
   ]
  },
  {
   "cell_type": "code",
   "execution_count": 2,
   "metadata": {},
   "outputs": [],
   "source": [
    "# код для условного выполнения ячеек, начинающихся с %%exec_if <condition>\n",
    "from IPython.core.magic import register_cell_magic\n",
    "from IPython import get_ipython\n",
    "@register_cell_magic\n",
    "def exec_if(line, cell):\n",
    "    try:\n",
    "        if eval(line): get_ipython().run_cell(cell)\n",
    "    except:\n",
    "        pass\n",
    "    return\n",
    "   "
   ]
  },
  {
   "cell_type": "code",
   "execution_count": 3,
   "metadata": {},
   "outputs": [],
   "source": [
    "# Инициализируем окружение\n",
    "import os, joblib, s3fs\n",
    "import pandas as pd\n",
    "import numpy  as np\n",
    "\n",
    "pd.options.display.max_columns = 100\n",
    "pd.options.display.max_rows = 100 \n",
    "\n",
    "from dotenv import load_dotenv, find_dotenv, dotenv_values\n",
    "load_dotenv(find_dotenv(\"env.services\"))\n",
    "\n",
    "PROJECT_ROOT     = f\"{find_dotenv()[0:-5]}\"\n",
    "DATA_DIR         = f\"{PROJECT_ROOT}/data\"\n",
    "MODEL_NAME       = os.environ['MLFLOW_MODEL_NAME']\n",
    "EXPERIMENT_NAME  = os.environ['MLFLOW_EXPERIMENT_NAME']\n",
    "MLFLOW_SERVER_URL= f\"http://localhost:{os.environ['MLFLOW_SERVER_PORT']}\"\n",
    "RANDOM_STATE     = 42\n",
    "SECRETS          = dotenv_values()                        # НЕ загружаем credentials в переменные окружения\n",
    "S3_DIR           = f\"{SECRETS['S3_BUCKET_NAME']}/Diplom\"\n",
    "\n",
    "s3 = s3fs.core.S3FileSystem(\n",
    "    endpoint_url=SECRETS['AWS_ENDPOINT_URL'],\n",
    "    key         =SECRETS['AWS_ACCESS_KEY_ID'],\n",
    "    secret      =SECRETS['AWS_SECRET_ACCESS_KEY'], cache_regions=True\n",
    ")\n",
    "\n",
    "# перенаправление вывода logging в notebook\n",
    "import logging\n",
    "logging.basicConfig(level=logging.INFO, format='%(message)s', force=True)\n"
   ]
  },
  {
   "attachments": {},
   "cell_type": "markdown",
   "metadata": {},
   "source": [
    "## ОБЗОР И ПРЕДОБРАБОТКА ДАННЫХ ##"
   ]
  },
  {
   "cell_type": "code",
   "execution_count": 4,
   "metadata": {},
   "outputs": [
    {
     "name": "stdout",
     "output_type": "stream",
     "text": [
      "<class 'pandas.core.frame.DataFrame'>\n",
      "RangeIndex: 1669 entries, 0 to 1668\n",
      "Data columns (total 2 columns):\n",
      " #   Column      Non-Null Count  Dtype  \n",
      "---  ------      --------------  -----  \n",
      " 0   categoryid  1669 non-null   int64  \n",
      " 1   parentid    1644 non-null   float64\n",
      "dtypes: float64(1), int64(1)\n",
      "memory usage: 26.2 KB\n"
     ]
    }
   ],
   "source": [
    "# загружаем лес категорий\n",
    "with s3.open(f\"{S3_DIR}/data/category_tree.csv\", mode='r') as fd:\n",
    "    ctree = pd.read_csv(fd)\n",
    "ctree.info(show_counts=True)"
   ]
  },
  {
   "cell_type": "code",
   "execution_count": 5,
   "metadata": {},
   "outputs": [
    {
     "data": {
      "text/html": [
       "<div>\n",
       "<style scoped>\n",
       "    .dataframe tbody tr th:only-of-type {\n",
       "        vertical-align: middle;\n",
       "    }\n",
       "\n",
       "    .dataframe tbody tr th {\n",
       "        vertical-align: top;\n",
       "    }\n",
       "\n",
       "    .dataframe thead th {\n",
       "        text-align: right;\n",
       "    }\n",
       "</style>\n",
       "<table border=\"1\" class=\"dataframe\">\n",
       "  <thead>\n",
       "    <tr style=\"text-align: right;\">\n",
       "      <th></th>\n",
       "      <th>categoryid</th>\n",
       "      <th>parentid</th>\n",
       "    </tr>\n",
       "  </thead>\n",
       "  <tbody>\n",
       "    <tr>\n",
       "      <th>count</th>\n",
       "      <td>1669.000000</td>\n",
       "      <td>1644.000000</td>\n",
       "    </tr>\n",
       "    <tr>\n",
       "      <th>mean</th>\n",
       "      <td>849.285201</td>\n",
       "      <td>847.571168</td>\n",
       "    </tr>\n",
       "    <tr>\n",
       "      <th>std</th>\n",
       "      <td>490.195116</td>\n",
       "      <td>505.058485</td>\n",
       "    </tr>\n",
       "    <tr>\n",
       "      <th>min</th>\n",
       "      <td>0.000000</td>\n",
       "      <td>8.000000</td>\n",
       "    </tr>\n",
       "    <tr>\n",
       "      <th>25%</th>\n",
       "      <td>427.000000</td>\n",
       "      <td>381.000000</td>\n",
       "    </tr>\n",
       "    <tr>\n",
       "      <th>50%</th>\n",
       "      <td>848.000000</td>\n",
       "      <td>866.000000</td>\n",
       "    </tr>\n",
       "    <tr>\n",
       "      <th>75%</th>\n",
       "      <td>1273.000000</td>\n",
       "      <td>1291.000000</td>\n",
       "    </tr>\n",
       "    <tr>\n",
       "      <th>max</th>\n",
       "      <td>1698.000000</td>\n",
       "      <td>1698.000000</td>\n",
       "    </tr>\n",
       "  </tbody>\n",
       "</table>\n",
       "</div>"
      ],
      "text/plain": [
       "        categoryid     parentid\n",
       "count  1669.000000  1644.000000\n",
       "mean    849.285201   847.571168\n",
       "std     490.195116   505.058485\n",
       "min       0.000000     8.000000\n",
       "25%     427.000000   381.000000\n",
       "50%     848.000000   866.000000\n",
       "75%    1273.000000  1291.000000\n",
       "max    1698.000000  1698.000000"
      ]
     },
     "execution_count": 5,
     "metadata": {},
     "output_type": "execute_result"
    }
   ],
   "source": [
    "# смотрим диапазоны значений\n",
    "ctree.describe()"
   ]
  },
  {
   "cell_type": "code",
   "execution_count": 6,
   "metadata": {},
   "outputs": [
    {
     "data": {
      "text/plain": [
       "parents    1\n",
       "dtype: int64"
      ]
     },
     "execution_count": 6,
     "metadata": {},
     "output_type": "execute_result"
    }
   ],
   "source": [
    "# преобразуем parentid у корневых категорий\n",
    "ctree['parentid'] = ctree['parentid'].fillna(-1).astype('int')\n",
    "\n",
    "# убеждаемся, что деревья категорий не пересекаются и не дублируются (ровно 1 родитель у каждого узла)\n",
    "ctree.groupby('categoryid').agg(parents=('parentid','count')).max()"
   ]
  },
  {
   "cell_type": "code",
   "execution_count": 7,
   "metadata": {},
   "outputs": [
    {
     "data": {
      "text/plain": [
       "True"
      ]
     },
     "execution_count": 7,
     "metadata": {},
     "output_type": "execute_result"
    }
   ],
   "source": [
    "# убеждаемся в отсутствии некорректных parentid\n",
    "ctree.query(\"parentid not in @ctree['categoryid'].unique()\").shape[0] == ctree.query(\"parentid == -1\").shape[0]"
   ]
  },
  {
   "cell_type": "code",
   "execution_count": 8,
   "metadata": {},
   "outputs": [
    {
     "data": {
      "text/html": [
       "<div>\n",
       "<style scoped>\n",
       "    .dataframe tbody tr th:only-of-type {\n",
       "        vertical-align: middle;\n",
       "    }\n",
       "\n",
       "    .dataframe tbody tr th {\n",
       "        vertical-align: top;\n",
       "    }\n",
       "\n",
       "    .dataframe thead th {\n",
       "        text-align: right;\n",
       "    }\n",
       "</style>\n",
       "<table border=\"1\" class=\"dataframe\">\n",
       "  <thead>\n",
       "    <tr style=\"text-align: right;\">\n",
       "      <th></th>\n",
       "      <th>categoryid</th>\n",
       "      <th>parentid</th>\n",
       "      <th>root</th>\n",
       "      <th>depth</th>\n",
       "    </tr>\n",
       "  </thead>\n",
       "  <tbody>\n",
       "    <tr>\n",
       "      <th>0</th>\n",
       "      <td>1016</td>\n",
       "      <td>213</td>\n",
       "      <td>1532</td>\n",
       "      <td>4</td>\n",
       "    </tr>\n",
       "    <tr>\n",
       "      <th>1</th>\n",
       "      <td>809</td>\n",
       "      <td>169</td>\n",
       "      <td>395</td>\n",
       "      <td>4</td>\n",
       "    </tr>\n",
       "    <tr>\n",
       "      <th>2</th>\n",
       "      <td>570</td>\n",
       "      <td>9</td>\n",
       "      <td>653</td>\n",
       "      <td>4</td>\n",
       "    </tr>\n",
       "    <tr>\n",
       "      <th>3</th>\n",
       "      <td>1691</td>\n",
       "      <td>885</td>\n",
       "      <td>1579</td>\n",
       "      <td>3</td>\n",
       "    </tr>\n",
       "    <tr>\n",
       "      <th>4</th>\n",
       "      <td>536</td>\n",
       "      <td>1691</td>\n",
       "      <td>1579</td>\n",
       "      <td>4</td>\n",
       "    </tr>\n",
       "  </tbody>\n",
       "</table>\n",
       "</div>"
      ],
      "text/plain": [
       "   categoryid  parentid  root  depth\n",
       "0        1016       213  1532      4\n",
       "1         809       169   395      4\n",
       "2         570         9   653      4\n",
       "3        1691       885  1579      3\n",
       "4         536      1691  1579      4"
      ]
     },
     "execution_count": 8,
     "metadata": {},
     "output_type": "execute_result"
    }
   ],
   "source": [
    "# определяем корневую категорию и глубину вложенности для каждого узла\n",
    "def get_ctree_root(id, verbose=False):\n",
    "    nodelist = [id]\n",
    "    while True:\n",
    "        nodelist += [ ctree.at[nodelist[-1], 'parentid'] ]\n",
    "        if nodelist[-1] == -1: break\n",
    "    if verbose: print(nodelist)\n",
    "    return nodelist[-2], len(nodelist) -1\n",
    "vec_ctree_root = np.vectorize(get_ctree_root)\n",
    "\n",
    "ctree.set_index('categoryid', inplace=True)\n",
    "ctree['root'], ctree['depth'] = vec_ctree_root(ctree.index.values)\n",
    "ctree.reset_index(inplace=True)\n",
    "ctree.head()"
   ]
  },
  {
   "cell_type": "code",
   "execution_count": 9,
   "metadata": {},
   "outputs": [
    {
     "data": {
      "text/plain": [
       "categoryid    1669\n",
       "parentid       363\n",
       "root            25\n",
       "depth            6\n",
       "dtype: int64"
      ]
     },
     "execution_count": 9,
     "metadata": {},
     "output_type": "execute_result"
    }
   ],
   "source": [
    "ctree.nunique()"
   ]
  },
  {
   "cell_type": "code",
   "execution_count": 10,
   "metadata": {},
   "outputs": [
    {
     "data": {
      "text/plain": [
       "depth\n",
       "3    702\n",
       "4    665\n",
       "2    174\n",
       "5     90\n",
       "1     25\n",
       "6     13\n",
       "Name: count, dtype: int64"
      ]
     },
     "execution_count": 10,
     "metadata": {},
     "output_type": "execute_result"
    }
   ],
   "source": [
    "ctree['depth'].value_counts()"
   ]
  },
  {
   "cell_type": "code",
   "execution_count": 11,
   "metadata": {},
   "outputs": [
    {
     "data": {
      "text/html": [
       "<div>\n",
       "<style scoped>\n",
       "    .dataframe tbody tr th:only-of-type {\n",
       "        vertical-align: middle;\n",
       "    }\n",
       "\n",
       "    .dataframe tbody tr th {\n",
       "        vertical-align: top;\n",
       "    }\n",
       "\n",
       "    .dataframe thead th {\n",
       "        text-align: right;\n",
       "    }\n",
       "</style>\n",
       "<table border=\"1\" class=\"dataframe\">\n",
       "  <thead>\n",
       "    <tr style=\"text-align: right;\">\n",
       "      <th></th>\n",
       "      <th>treesize</th>\n",
       "      <th>depth</th>\n",
       "    </tr>\n",
       "    <tr>\n",
       "      <th>root</th>\n",
       "      <th></th>\n",
       "      <th></th>\n",
       "    </tr>\n",
       "  </thead>\n",
       "  <tbody>\n",
       "    <tr>\n",
       "      <th>140</th>\n",
       "      <td>290</td>\n",
       "      <td>6</td>\n",
       "    </tr>\n",
       "    <tr>\n",
       "      <th>1600</th>\n",
       "      <td>187</td>\n",
       "      <td>6</td>\n",
       "    </tr>\n",
       "    <tr>\n",
       "      <th>653</th>\n",
       "      <td>154</td>\n",
       "      <td>4</td>\n",
       "    </tr>\n",
       "    <tr>\n",
       "      <th>1579</th>\n",
       "      <td>135</td>\n",
       "      <td>4</td>\n",
       "    </tr>\n",
       "    <tr>\n",
       "      <th>1532</th>\n",
       "      <td>130</td>\n",
       "      <td>6</td>\n",
       "    </tr>\n",
       "    <tr>\n",
       "      <th>395</th>\n",
       "      <td>120</td>\n",
       "      <td>5</td>\n",
       "    </tr>\n",
       "    <tr>\n",
       "      <th>1482</th>\n",
       "      <td>101</td>\n",
       "      <td>4</td>\n",
       "    </tr>\n",
       "    <tr>\n",
       "      <th>250</th>\n",
       "      <td>97</td>\n",
       "      <td>4</td>\n",
       "    </tr>\n",
       "    <tr>\n",
       "      <th>1224</th>\n",
       "      <td>70</td>\n",
       "      <td>4</td>\n",
       "    </tr>\n",
       "    <tr>\n",
       "      <th>431</th>\n",
       "      <td>66</td>\n",
       "      <td>3</td>\n",
       "    </tr>\n",
       "    <tr>\n",
       "      <th>1490</th>\n",
       "      <td>51</td>\n",
       "      <td>4</td>\n",
       "    </tr>\n",
       "    <tr>\n",
       "      <th>378</th>\n",
       "      <td>47</td>\n",
       "      <td>4</td>\n",
       "    </tr>\n",
       "    <tr>\n",
       "      <th>679</th>\n",
       "      <td>45</td>\n",
       "      <td>4</td>\n",
       "    </tr>\n",
       "    <tr>\n",
       "      <th>1698</th>\n",
       "      <td>45</td>\n",
       "      <td>4</td>\n",
       "    </tr>\n",
       "    <tr>\n",
       "      <th>791</th>\n",
       "      <td>41</td>\n",
       "      <td>3</td>\n",
       "    </tr>\n",
       "    <tr>\n",
       "      <th>755</th>\n",
       "      <td>17</td>\n",
       "      <td>3</td>\n",
       "    </tr>\n",
       "    <tr>\n",
       "      <th>1394</th>\n",
       "      <td>16</td>\n",
       "      <td>4</td>\n",
       "    </tr>\n",
       "    <tr>\n",
       "      <th>803</th>\n",
       "      <td>14</td>\n",
       "      <td>3</td>\n",
       "    </tr>\n",
       "    <tr>\n",
       "      <th>1057</th>\n",
       "      <td>10</td>\n",
       "      <td>4</td>\n",
       "    </tr>\n",
       "    <tr>\n",
       "      <th>1452</th>\n",
       "      <td>10</td>\n",
       "      <td>4</td>\n",
       "    </tr>\n",
       "    <tr>\n",
       "      <th>1692</th>\n",
       "      <td>9</td>\n",
       "      <td>4</td>\n",
       "    </tr>\n",
       "    <tr>\n",
       "      <th>659</th>\n",
       "      <td>5</td>\n",
       "      <td>5</td>\n",
       "    </tr>\n",
       "    <tr>\n",
       "      <th>1182</th>\n",
       "      <td>4</td>\n",
       "      <td>4</td>\n",
       "    </tr>\n",
       "    <tr>\n",
       "      <th>859</th>\n",
       "      <td>4</td>\n",
       "      <td>2</td>\n",
       "    </tr>\n",
       "    <tr>\n",
       "      <th>231</th>\n",
       "      <td>1</td>\n",
       "      <td>1</td>\n",
       "    </tr>\n",
       "  </tbody>\n",
       "</table>\n",
       "</div>"
      ],
      "text/plain": [
       "      treesize  depth\n",
       "root                 \n",
       "140        290      6\n",
       "1600       187      6\n",
       "653        154      4\n",
       "1579       135      4\n",
       "1532       130      6\n",
       "395        120      5\n",
       "1482       101      4\n",
       "250         97      4\n",
       "1224        70      4\n",
       "431         66      3\n",
       "1490        51      4\n",
       "378         47      4\n",
       "679         45      4\n",
       "1698        45      4\n",
       "791         41      3\n",
       "755         17      3\n",
       "1394        16      4\n",
       "803         14      3\n",
       "1057        10      4\n",
       "1452        10      4\n",
       "1692         9      4\n",
       "659          5      5\n",
       "1182         4      4\n",
       "859          4      2\n",
       "231          1      1"
      ]
     },
     "execution_count": 11,
     "metadata": {},
     "output_type": "execute_result"
    }
   ],
   "source": [
    "# статистика по деревьям категорий\n",
    "ctree.groupby('root').agg(\n",
    "    treesize=('categoryid','count'), depth=('depth','max')\n",
    ").sort_values(by='treesize', ascending=False)"
   ]
  },
  {
   "cell_type": "code",
   "execution_count": 12,
   "metadata": {},
   "outputs": [
    {
     "name": "stdout",
     "output_type": "stream",
     "text": [
      "<class 'pandas.core.frame.DataFrame'>\n",
      "RangeIndex: 10999999 entries, 0 to 10999998\n",
      "Data columns (total 4 columns):\n",
      " #   Column     Non-Null Count     Dtype \n",
      "---  ------     --------------     ----- \n",
      " 0   timestamp  10999999 non-null  int64 \n",
      " 1   itemid     10999999 non-null  int64 \n",
      " 2   property   10999999 non-null  object\n",
      " 3   value      10999999 non-null  object\n",
      "dtypes: int64(2), object(2)\n",
      "memory usage: 335.7+ MB\n"
     ]
    }
   ],
   "source": [
    "# загружаем каталог товаров\n",
    "with s3.open(f\"{S3_DIR}/data/item_properties_part1.csv\", mode='r') as fd:\n",
    "    item1 = pd.read_csv(fd)\n",
    "item1.info(show_counts=True)"
   ]
  },
  {
   "cell_type": "code",
   "execution_count": 13,
   "metadata": {},
   "outputs": [
    {
     "name": "stdout",
     "output_type": "stream",
     "text": [
      "<class 'pandas.core.frame.DataFrame'>\n",
      "RangeIndex: 9275903 entries, 0 to 9275902\n",
      "Data columns (total 4 columns):\n",
      " #   Column     Non-Null Count    Dtype \n",
      "---  ------     --------------    ----- \n",
      " 0   timestamp  9275903 non-null  int64 \n",
      " 1   itemid     9275903 non-null  int64 \n",
      " 2   property   9275903 non-null  object\n",
      " 3   value      9275903 non-null  object\n",
      "dtypes: int64(2), object(2)\n",
      "memory usage: 283.1+ MB\n"
     ]
    }
   ],
   "source": [
    "# загружаем каталог товаров - часть2\n",
    "with s3.open(f\"{S3_DIR}/data/item_properties_part2.csv\", mode='r') as fd:\n",
    "    item2 = pd.read_csv(fd)\n",
    "item2.info(show_counts=True)"
   ]
  },
  {
   "cell_type": "code",
   "execution_count": 14,
   "metadata": {},
   "outputs": [
    {
     "data": {
      "text/plain": [
       "(18, 18)"
      ]
     },
     "execution_count": 14,
     "metadata": {},
     "output_type": "execute_result"
    }
   ],
   "source": [
    "# количество уникальных значений timestamp в 1-ой и 2-ой частях\n",
    "item1['timestamp'].nunique(), item2['timestamp'].nunique()"
   ]
  },
  {
   "cell_type": "code",
   "execution_count": 15,
   "metadata": {},
   "outputs": [
    {
     "data": {
      "text/plain": [
       "set()"
      ]
     },
     "execution_count": 15,
     "metadata": {},
     "output_type": "execute_result"
    }
   ],
   "source": [
    "# выясняем, что части 1 и 2 каталога формируются в одно время\n",
    "set(item1['timestamp'].unique()) - set(item2['timestamp'].unique())"
   ]
  },
  {
   "cell_type": "code",
   "execution_count": 16,
   "metadata": {},
   "outputs": [
    {
     "data": {
      "text/plain": [
       "(Timestamp('2015-05-10 03:00:00'), Timestamp('2015-09-13 03:00:00'))"
      ]
     },
     "execution_count": 16,
     "metadata": {},
     "output_type": "execute_result"
    }
   ],
   "source": [
    "# время первого и последнего формирования каталога в датасете\n",
    "pd.to_datetime(item1['timestamp'].min(), unit='ms'), pd.to_datetime(item1['timestamp'].max(), unit='ms')"
   ]
  },
  {
   "cell_type": "code",
   "execution_count": 17,
   "metadata": {},
   "outputs": [
    {
     "name": "stdout",
     "output_type": "stream",
     "text": [
      "417053 417053\n"
     ]
    },
    {
     "data": {
      "text/plain": [
       "set()"
      ]
     },
     "execution_count": 17,
     "metadata": {},
     "output_type": "execute_result"
    }
   ],
   "source": [
    "# выясняем, что 1-я и 2-я части item_properties относятся к одним и тем же items\n",
    "print(item1['itemid'].nunique(), item2['itemid'].nunique())\n",
    "set(item1['itemid'].unique()) - set(item2['itemid'].unique())"
   ]
  },
  {
   "cell_type": "code",
   "execution_count": 18,
   "metadata": {},
   "outputs": [
    {
     "name": "stdout",
     "output_type": "stream",
     "text": [
      "<class 'pandas.core.frame.DataFrame'>\n",
      "RangeIndex: 20275902 entries, 0 to 20275901\n",
      "Data columns (total 4 columns):\n",
      " #   Column     Non-Null Count     Dtype \n",
      "---  ------     --------------     ----- \n",
      " 0   timestamp  20275902 non-null  int64 \n",
      " 1   itemid     20275902 non-null  int64 \n",
      " 2   property   20275902 non-null  object\n",
      " 3   value      20275902 non-null  object\n",
      "dtypes: int64(2), object(2)\n",
      "memory usage: 618.8+ MB\n"
     ]
    }
   ],
   "source": [
    "# объединяем обе части\n",
    "items = pd.concat([item1, item2], axis=0, ignore_index=True)\n",
    "items.info(show_counts=True)"
   ]
  },
  {
   "cell_type": "code",
   "execution_count": 19,
   "metadata": {},
   "outputs": [
    {
     "data": {
      "text/plain": [
       "timestamp         18\n",
       "itemid        417053\n",
       "property        1104\n",
       "value        1966868\n",
       "dtype: int64"
      ]
     },
     "execution_count": 19,
     "metadata": {},
     "output_type": "execute_result"
    }
   ],
   "source": [
    "items.nunique()"
   ]
  },
  {
   "cell_type": "code",
   "execution_count": 20,
   "metadata": {},
   "outputs": [
    {
     "data": {
      "text/html": [
       "<div>\n",
       "<style scoped>\n",
       "    .dataframe tbody tr th:only-of-type {\n",
       "        vertical-align: middle;\n",
       "    }\n",
       "\n",
       "    .dataframe tbody tr th {\n",
       "        vertical-align: top;\n",
       "    }\n",
       "\n",
       "    .dataframe thead th {\n",
       "        text-align: right;\n",
       "    }\n",
       "</style>\n",
       "<table border=\"1\" class=\"dataframe\">\n",
       "  <thead>\n",
       "    <tr style=\"text-align: right;\">\n",
       "      <th></th>\n",
       "      <th>items</th>\n",
       "      <th>dist_items</th>\n",
       "      <th>dist_props</th>\n",
       "      <th>dist_vals</th>\n",
       "    </tr>\n",
       "    <tr>\n",
       "      <th>timestamp</th>\n",
       "      <th></th>\n",
       "      <th></th>\n",
       "      <th></th>\n",
       "      <th></th>\n",
       "    </tr>\n",
       "  </thead>\n",
       "  <tbody>\n",
       "    <tr>\n",
       "      <th>2015-05-10 03:00:00</th>\n",
       "      <td>3012756</td>\n",
       "      <td>399294</td>\n",
       "      <td>459</td>\n",
       "      <td>941110</td>\n",
       "    </tr>\n",
       "    <tr>\n",
       "      <th>2015-05-17 03:00:00</th>\n",
       "      <td>1027889</td>\n",
       "      <td>345391</td>\n",
       "      <td>973</td>\n",
       "      <td>276746</td>\n",
       "    </tr>\n",
       "    <tr>\n",
       "      <th>2015-05-24 03:00:00</th>\n",
       "      <td>1815598</td>\n",
       "      <td>390648</td>\n",
       "      <td>1036</td>\n",
       "      <td>293292</td>\n",
       "    </tr>\n",
       "    <tr>\n",
       "      <th>2015-05-31 03:00:00</th>\n",
       "      <td>2620101</td>\n",
       "      <td>399860</td>\n",
       "      <td>1044</td>\n",
       "      <td>500700</td>\n",
       "    </tr>\n",
       "    <tr>\n",
       "      <th>2015-06-07 03:00:00</th>\n",
       "      <td>1686681</td>\n",
       "      <td>393289</td>\n",
       "      <td>1036</td>\n",
       "      <td>309722</td>\n",
       "    </tr>\n",
       "    <tr>\n",
       "      <th>2015-06-14 03:00:00</th>\n",
       "      <td>755965</td>\n",
       "      <td>308127</td>\n",
       "      <td>966</td>\n",
       "      <td>188042</td>\n",
       "    </tr>\n",
       "    <tr>\n",
       "      <th>2015-06-28 03:00:00</th>\n",
       "      <td>2368972</td>\n",
       "      <td>403277</td>\n",
       "      <td>1054</td>\n",
       "      <td>495262</td>\n",
       "    </tr>\n",
       "    <tr>\n",
       "      <th>2015-07-05 03:00:00</th>\n",
       "      <td>497785</td>\n",
       "      <td>232021</td>\n",
       "      <td>469</td>\n",
       "      <td>150245</td>\n",
       "    </tr>\n",
       "    <tr>\n",
       "      <th>2015-07-12 03:00:00</th>\n",
       "      <td>593657</td>\n",
       "      <td>250021</td>\n",
       "      <td>840</td>\n",
       "      <td>167956</td>\n",
       "    </tr>\n",
       "    <tr>\n",
       "      <th>2015-07-19 03:00:00</th>\n",
       "      <td>563575</td>\n",
       "      <td>237501</td>\n",
       "      <td>705</td>\n",
       "      <td>165436</td>\n",
       "    </tr>\n",
       "    <tr>\n",
       "      <th>2015-07-26 03:00:00</th>\n",
       "      <td>519460</td>\n",
       "      <td>236266</td>\n",
       "      <td>570</td>\n",
       "      <td>158245</td>\n",
       "    </tr>\n",
       "    <tr>\n",
       "      <th>2015-08-02 03:00:00</th>\n",
       "      <td>529315</td>\n",
       "      <td>237544</td>\n",
       "      <td>538</td>\n",
       "      <td>158587</td>\n",
       "    </tr>\n",
       "    <tr>\n",
       "      <th>2015-08-09 03:00:00</th>\n",
       "      <td>542778</td>\n",
       "      <td>237881</td>\n",
       "      <td>572</td>\n",
       "      <td>160794</td>\n",
       "    </tr>\n",
       "    <tr>\n",
       "      <th>2015-08-16 03:00:00</th>\n",
       "      <td>1488244</td>\n",
       "      <td>367608</td>\n",
       "      <td>1024</td>\n",
       "      <td>244630</td>\n",
       "    </tr>\n",
       "    <tr>\n",
       "      <th>2015-08-23 03:00:00</th>\n",
       "      <td>571339</td>\n",
       "      <td>244682</td>\n",
       "      <td>754</td>\n",
       "      <td>168493</td>\n",
       "    </tr>\n",
       "    <tr>\n",
       "      <th>2015-08-30 03:00:00</th>\n",
       "      <td>532586</td>\n",
       "      <td>239447</td>\n",
       "      <td>565</td>\n",
       "      <td>162747</td>\n",
       "    </tr>\n",
       "    <tr>\n",
       "      <th>2015-09-06 03:00:00</th>\n",
       "      <td>566183</td>\n",
       "      <td>243538</td>\n",
       "      <td>629</td>\n",
       "      <td>200279</td>\n",
       "    </tr>\n",
       "    <tr>\n",
       "      <th>2015-09-13 03:00:00</th>\n",
       "      <td>583018</td>\n",
       "      <td>244499</td>\n",
       "      <td>650</td>\n",
       "      <td>205108</td>\n",
       "    </tr>\n",
       "  </tbody>\n",
       "</table>\n",
       "</div>"
      ],
      "text/plain": [
       "                       items  dist_items  dist_props  dist_vals\n",
       "timestamp                                                      \n",
       "2015-05-10 03:00:00  3012756      399294         459     941110\n",
       "2015-05-17 03:00:00  1027889      345391         973     276746\n",
       "2015-05-24 03:00:00  1815598      390648        1036     293292\n",
       "2015-05-31 03:00:00  2620101      399860        1044     500700\n",
       "2015-06-07 03:00:00  1686681      393289        1036     309722\n",
       "2015-06-14 03:00:00   755965      308127         966     188042\n",
       "2015-06-28 03:00:00  2368972      403277        1054     495262\n",
       "2015-07-05 03:00:00   497785      232021         469     150245\n",
       "2015-07-12 03:00:00   593657      250021         840     167956\n",
       "2015-07-19 03:00:00   563575      237501         705     165436\n",
       "2015-07-26 03:00:00   519460      236266         570     158245\n",
       "2015-08-02 03:00:00   529315      237544         538     158587\n",
       "2015-08-09 03:00:00   542778      237881         572     160794\n",
       "2015-08-16 03:00:00  1488244      367608        1024     244630\n",
       "2015-08-23 03:00:00   571339      244682         754     168493\n",
       "2015-08-30 03:00:00   532586      239447         565     162747\n",
       "2015-09-06 03:00:00   566183      243538         629     200279\n",
       "2015-09-13 03:00:00   583018      244499         650     205108"
      ]
     },
     "execution_count": 20,
     "metadata": {},
     "output_type": "execute_result"
    }
   ],
   "source": [
    "# статистика загрузок\n",
    "items.groupby(pd.to_datetime(items['timestamp'], unit='ms')).agg(\n",
    "    items=('itemid','count'), dist_items=('itemid','nunique'), dist_props=('property','nunique'), dist_vals=('value','nunique')\n",
    ")"
   ]
  },
  {
   "cell_type": "code",
   "execution_count": 21,
   "metadata": {},
   "outputs": [],
   "source": [
    "# сдвигаем начало \"операционного дня\" к началу календарных суток\n",
    "TIMELAG = 3*3600*1000\n",
    "items['timestamp'] = items['timestamp'] - TIMELAG"
   ]
  },
  {
   "cell_type": "code",
   "execution_count": 22,
   "metadata": {},
   "outputs": [
    {
     "data": {
      "text/plain": [
       "0"
      ]
     },
     "execution_count": 22,
     "metadata": {},
     "output_type": "execute_result"
    }
   ],
   "source": [
    "# убеждаемся, что внутри каждой загрузки properties каждого объекта уникальны\n",
    "items.groupby(['timestamp','itemid']).agg(\n",
    "    props=('property','count'), dist_props=('property','nunique')\n",
    ").query(\"dist_props < props\").shape[0]"
   ]
  },
  {
   "cell_type": "code",
   "execution_count": 23,
   "metadata": {},
   "outputs": [
    {
     "data": {
      "text/plain": [
       "property\n",
       "888           3000398\n",
       "790           1790516\n",
       "available     1503639\n",
       "categoryid     788214\n",
       "6              631471\n",
       "               ...   \n",
       "472                 1\n",
       "634                 1\n",
       "57                  1\n",
       "1091                1\n",
       "769                 1\n",
       "Name: count, Length: 1104, dtype: int64"
      ]
     },
     "execution_count": 23,
     "metadata": {},
     "output_type": "execute_result"
    }
   ],
   "source": [
    "# смотрим содержимое колонки properties\n",
    "items['property'].value_counts()\n"
   ]
  },
  {
   "cell_type": "code",
   "execution_count": 24,
   "metadata": {},
   "outputs": [
    {
     "data": {
      "text/plain": [
       "value\n",
       "0    863086\n",
       "1    640553\n",
       "Name: count, dtype: int64"
      ]
     },
     "execution_count": 24,
     "metadata": {},
     "output_type": "execute_result"
    }
   ],
   "source": [
    "# смотрим, какие значения может принимать 'available'\n",
    "items.query(\"property == 'available'\")['value'].value_counts()"
   ]
  },
  {
   "cell_type": "code",
   "execution_count": 25,
   "metadata": {},
   "outputs": [
    {
     "data": {
      "text/plain": [
       "((417053, 2), 1, 18, 1, 2)"
      ]
     },
     "execution_count": 25,
     "metadata": {},
     "output_type": "execute_result"
    }
   ],
   "source": [
    "# смотрим статистику значений атрибута 'available' в разрезе товаров\n",
    "itemav = items.query(\"property == 'available'\").groupby('itemid').agg(vals=('value','count'),dist_vals=('value','nunique'))\n",
    "itemav.shape, itemav['vals'].min(), itemav['vals'].max(), itemav['dist_vals'].min(), itemav['dist_vals'].max()"
   ]
  },
  {
   "cell_type": "code",
   "execution_count": 26,
   "metadata": {},
   "outputs": [
    {
     "data": {
      "text/plain": [
       "((417053, 2), 1, 18, 1, 4)"
      ]
     },
     "execution_count": 26,
     "metadata": {},
     "output_type": "execute_result"
    }
   ],
   "source": [
    "# смотрим статистику значений атрибута 'categoryid' в разрезе товаров\n",
    "itemcat = items.query(\"property == 'categoryid'\").groupby('itemid').agg(vals=('value','count'),dist_vals=('value','nunique'))\n",
    "itemcat.shape, itemcat['vals'].min(), itemcat['vals'].max(), itemcat['dist_vals'].min(), itemcat['dist_vals'].max()"
   ]
  },
  {
   "cell_type": "code",
   "execution_count": 27,
   "metadata": {},
   "outputs": [
    {
     "data": {
      "text/html": [
       "<div>\n",
       "<style scoped>\n",
       "    .dataframe tbody tr th:only-of-type {\n",
       "        vertical-align: middle;\n",
       "    }\n",
       "\n",
       "    .dataframe tbody tr th {\n",
       "        vertical-align: top;\n",
       "    }\n",
       "\n",
       "    .dataframe thead th {\n",
       "        text-align: right;\n",
       "    }\n",
       "</style>\n",
       "<table border=\"1\" class=\"dataframe\">\n",
       "  <thead>\n",
       "    <tr style=\"text-align: right;\">\n",
       "      <th></th>\n",
       "      <th>vals</th>\n",
       "      <th>dist_vals</th>\n",
       "    </tr>\n",
       "    <tr>\n",
       "      <th>itemid</th>\n",
       "      <th></th>\n",
       "      <th></th>\n",
       "    </tr>\n",
       "  </thead>\n",
       "  <tbody>\n",
       "    <tr>\n",
       "      <th>310572</th>\n",
       "      <td>13</td>\n",
       "      <td>4</td>\n",
       "    </tr>\n",
       "    <tr>\n",
       "      <th>3590</th>\n",
       "      <td>18</td>\n",
       "      <td>4</td>\n",
       "    </tr>\n",
       "    <tr>\n",
       "      <th>62122</th>\n",
       "      <td>13</td>\n",
       "      <td>4</td>\n",
       "    </tr>\n",
       "    <tr>\n",
       "      <th>5070</th>\n",
       "      <td>18</td>\n",
       "      <td>4</td>\n",
       "    </tr>\n",
       "    <tr>\n",
       "      <th>302562</th>\n",
       "      <td>18</td>\n",
       "      <td>4</td>\n",
       "    </tr>\n",
       "  </tbody>\n",
       "</table>\n",
       "</div>"
      ],
      "text/plain": [
       "        vals  dist_vals\n",
       "itemid                 \n",
       "310572    13          4\n",
       "3590      18          4\n",
       "62122     13          4\n",
       "5070      18          4\n",
       "302562    18          4"
      ]
     },
     "execution_count": 27,
     "metadata": {},
     "output_type": "execute_result"
    }
   ],
   "source": [
    "# топ товаров с изменяющейся категорией\n",
    "itemcat.sort_values(by='dist_vals', ascending=False).head()"
   ]
  },
  {
   "cell_type": "code",
   "execution_count": 28,
   "metadata": {},
   "outputs": [
    {
     "data": {
      "text/html": [
       "<div>\n",
       "<style scoped>\n",
       "    .dataframe tbody tr th:only-of-type {\n",
       "        vertical-align: middle;\n",
       "    }\n",
       "\n",
       "    .dataframe tbody tr th {\n",
       "        vertical-align: top;\n",
       "    }\n",
       "\n",
       "    .dataframe thead th {\n",
       "        text-align: right;\n",
       "    }\n",
       "</style>\n",
       "<table border=\"1\" class=\"dataframe\">\n",
       "  <thead>\n",
       "    <tr style=\"text-align: right;\">\n",
       "      <th></th>\n",
       "      <th>timestamp</th>\n",
       "      <th>itemid</th>\n",
       "      <th>property</th>\n",
       "      <th>value</th>\n",
       "      <th>categoryid</th>\n",
       "      <th>root</th>\n",
       "    </tr>\n",
       "  </thead>\n",
       "  <tbody>\n",
       "    <tr>\n",
       "      <th>0</th>\n",
       "      <td>1431216000000</td>\n",
       "      <td>5070</td>\n",
       "      <td>categoryid</td>\n",
       "      <td>1167</td>\n",
       "      <td>1167</td>\n",
       "      <td>250</td>\n",
       "    </tr>\n",
       "    <tr>\n",
       "      <th>1</th>\n",
       "      <td>1431820800000</td>\n",
       "      <td>5070</td>\n",
       "      <td>categoryid</td>\n",
       "      <td>1167</td>\n",
       "      <td>1167</td>\n",
       "      <td>250</td>\n",
       "    </tr>\n",
       "    <tr>\n",
       "      <th>2</th>\n",
       "      <td>1432425600000</td>\n",
       "      <td>5070</td>\n",
       "      <td>categoryid</td>\n",
       "      <td>1167</td>\n",
       "      <td>1167</td>\n",
       "      <td>250</td>\n",
       "    </tr>\n",
       "    <tr>\n",
       "      <th>3</th>\n",
       "      <td>1433030400000</td>\n",
       "      <td>5070</td>\n",
       "      <td>categoryid</td>\n",
       "      <td>1167</td>\n",
       "      <td>1167</td>\n",
       "      <td>250</td>\n",
       "    </tr>\n",
       "    <tr>\n",
       "      <th>4</th>\n",
       "      <td>1433635200000</td>\n",
       "      <td>5070</td>\n",
       "      <td>categoryid</td>\n",
       "      <td>1167</td>\n",
       "      <td>1167</td>\n",
       "      <td>250</td>\n",
       "    </tr>\n",
       "    <tr>\n",
       "      <th>5</th>\n",
       "      <td>1434240000000</td>\n",
       "      <td>5070</td>\n",
       "      <td>categoryid</td>\n",
       "      <td>1167</td>\n",
       "      <td>1167</td>\n",
       "      <td>250</td>\n",
       "    </tr>\n",
       "    <tr>\n",
       "      <th>6</th>\n",
       "      <td>1435449600000</td>\n",
       "      <td>5070</td>\n",
       "      <td>categoryid</td>\n",
       "      <td>1167</td>\n",
       "      <td>1167</td>\n",
       "      <td>250</td>\n",
       "    </tr>\n",
       "    <tr>\n",
       "      <th>7</th>\n",
       "      <td>1436054400000</td>\n",
       "      <td>5070</td>\n",
       "      <td>categoryid</td>\n",
       "      <td>519</td>\n",
       "      <td>519</td>\n",
       "      <td>1452</td>\n",
       "    </tr>\n",
       "    <tr>\n",
       "      <th>8</th>\n",
       "      <td>1436659200000</td>\n",
       "      <td>5070</td>\n",
       "      <td>categoryid</td>\n",
       "      <td>519</td>\n",
       "      <td>519</td>\n",
       "      <td>1452</td>\n",
       "    </tr>\n",
       "    <tr>\n",
       "      <th>9</th>\n",
       "      <td>1437264000000</td>\n",
       "      <td>5070</td>\n",
       "      <td>categoryid</td>\n",
       "      <td>176</td>\n",
       "      <td>176</td>\n",
       "      <td>395</td>\n",
       "    </tr>\n",
       "    <tr>\n",
       "      <th>10</th>\n",
       "      <td>1437868800000</td>\n",
       "      <td>5070</td>\n",
       "      <td>categoryid</td>\n",
       "      <td>176</td>\n",
       "      <td>176</td>\n",
       "      <td>395</td>\n",
       "    </tr>\n",
       "    <tr>\n",
       "      <th>11</th>\n",
       "      <td>1438473600000</td>\n",
       "      <td>5070</td>\n",
       "      <td>categoryid</td>\n",
       "      <td>706</td>\n",
       "      <td>706</td>\n",
       "      <td>395</td>\n",
       "    </tr>\n",
       "    <tr>\n",
       "      <th>12</th>\n",
       "      <td>1439078400000</td>\n",
       "      <td>5070</td>\n",
       "      <td>categoryid</td>\n",
       "      <td>706</td>\n",
       "      <td>706</td>\n",
       "      <td>395</td>\n",
       "    </tr>\n",
       "    <tr>\n",
       "      <th>13</th>\n",
       "      <td>1439683200000</td>\n",
       "      <td>5070</td>\n",
       "      <td>categoryid</td>\n",
       "      <td>706</td>\n",
       "      <td>706</td>\n",
       "      <td>395</td>\n",
       "    </tr>\n",
       "    <tr>\n",
       "      <th>14</th>\n",
       "      <td>1440288000000</td>\n",
       "      <td>5070</td>\n",
       "      <td>categoryid</td>\n",
       "      <td>706</td>\n",
       "      <td>706</td>\n",
       "      <td>395</td>\n",
       "    </tr>\n",
       "    <tr>\n",
       "      <th>15</th>\n",
       "      <td>1440892800000</td>\n",
       "      <td>5070</td>\n",
       "      <td>categoryid</td>\n",
       "      <td>706</td>\n",
       "      <td>706</td>\n",
       "      <td>395</td>\n",
       "    </tr>\n",
       "    <tr>\n",
       "      <th>16</th>\n",
       "      <td>1441497600000</td>\n",
       "      <td>5070</td>\n",
       "      <td>categoryid</td>\n",
       "      <td>706</td>\n",
       "      <td>706</td>\n",
       "      <td>395</td>\n",
       "    </tr>\n",
       "    <tr>\n",
       "      <th>17</th>\n",
       "      <td>1442102400000</td>\n",
       "      <td>5070</td>\n",
       "      <td>categoryid</td>\n",
       "      <td>706</td>\n",
       "      <td>706</td>\n",
       "      <td>395</td>\n",
       "    </tr>\n",
       "  </tbody>\n",
       "</table>\n",
       "</div>"
      ],
      "text/plain": [
       "        timestamp  itemid    property value categoryid  root\n",
       "0   1431216000000    5070  categoryid  1167       1167   250\n",
       "1   1431820800000    5070  categoryid  1167       1167   250\n",
       "2   1432425600000    5070  categoryid  1167       1167   250\n",
       "3   1433030400000    5070  categoryid  1167       1167   250\n",
       "4   1433635200000    5070  categoryid  1167       1167   250\n",
       "5   1434240000000    5070  categoryid  1167       1167   250\n",
       "6   1435449600000    5070  categoryid  1167       1167   250\n",
       "7   1436054400000    5070  categoryid   519        519  1452\n",
       "8   1436659200000    5070  categoryid   519        519  1452\n",
       "9   1437264000000    5070  categoryid   176        176   395\n",
       "10  1437868800000    5070  categoryid   176        176   395\n",
       "11  1438473600000    5070  categoryid   706        706   395\n",
       "12  1439078400000    5070  categoryid   706        706   395\n",
       "13  1439683200000    5070  categoryid   706        706   395\n",
       "14  1440288000000    5070  categoryid   706        706   395\n",
       "15  1440892800000    5070  categoryid   706        706   395\n",
       "16  1441497600000    5070  categoryid   706        706   395\n",
       "17  1442102400000    5070  categoryid   706        706   395"
      ]
     },
     "execution_count": 28,
     "metadata": {},
     "output_type": "execute_result"
    }
   ],
   "source": [
    "# пример товара с изменяющейся категорией\n",
    "items.query(\"property == 'categoryid' and itemid==5070\").sort_values(by='timestamp').merge(\n",
    "    ctree[['categoryid','root']].astype(str), how='left', left_on='value', right_on='categoryid'\n",
    ")"
   ]
  },
  {
   "cell_type": "code",
   "execution_count": 29,
   "metadata": {},
   "outputs": [
    {
     "data": {
      "text/plain": [
       "137"
      ]
     },
     "execution_count": 29,
     "metadata": {},
     "output_type": "execute_result"
    }
   ],
   "source": [
    "# определяем itemid товаров, категории которых отсутствуют в ctree\n",
    "bad_itemids = set(\n",
    "    items.query(\"property == 'categoryid'\").sort_values(by='timestamp').merge(\n",
    "        ctree[['categoryid']].astype(str), how='left', left_on='value', right_on='categoryid'\n",
    "    ).query(\"categoryid.isna()\")['itemid']\n",
    ")\n",
    "len(bad_itemids)"
   ]
  },
  {
   "cell_type": "code",
   "execution_count": 30,
   "metadata": {},
   "outputs": [
    {
     "data": {
      "text/plain": [
       "(20271942, 4)"
      ]
     },
     "execution_count": 30,
     "metadata": {},
     "output_type": "execute_result"
    }
   ],
   "source": [
    "# удаляем записи о товарах с некорректными categoryid\n",
    "items.query(\"itemid not in @bad_itemids\", inplace=True)\n",
    "items.shape"
   ]
  },
  {
   "cell_type": "code",
   "execution_count": 31,
   "metadata": {},
   "outputs": [
    {
     "data": {
      "text/plain": [
       "((788013, 3), (1503502, 3))"
      ]
     },
     "execution_count": 31,
     "metadata": {},
     "output_type": "execute_result"
    }
   ],
   "source": [
    "# выделяем записи categoryid и available в отдельнуые таблицы\n",
    "items_ctgr = items.query(\"property == 'categoryid'\").sort_values(\n",
    "    ['timestamp','itemid'], ascending=[False,True], ignore_index=True\n",
    ").drop(columns='property').rename(columns={'value':'categoryid'})\n",
    "items_ctgr['categoryid'] = items_ctgr['categoryid'].astype(int)\n",
    "\n",
    "items_avail= items.query(\"property == 'available'\").sort_values(\n",
    "    ['timestamp','itemid'], ascending=[False,True], ignore_index=True\n",
    ").drop(columns='property')\n",
    "items_ctgr.shape, items_avail.shape"
   ]
  },
  {
   "cell_type": "code",
   "execution_count": 32,
   "metadata": {},
   "outputs": [
    {
     "data": {
      "text/plain": [
       "(17980427, 4)"
      ]
     },
     "execution_count": 32,
     "metadata": {},
     "output_type": "execute_result"
    }
   ],
   "source": [
    "# удаляем записи categoryid и available из item_properties\n",
    "items.query(\"property != 'available'  and  property != 'categoryid'\", inplace=True)\n",
    "items.shape"
   ]
  },
  {
   "cell_type": "code",
   "execution_count": 33,
   "metadata": {},
   "outputs": [
    {
     "data": {
      "text/html": [
       "<div>\n",
       "<style scoped>\n",
       "    .dataframe tbody tr th:only-of-type {\n",
       "        vertical-align: middle;\n",
       "    }\n",
       "\n",
       "    .dataframe tbody tr th {\n",
       "        vertical-align: top;\n",
       "    }\n",
       "\n",
       "    .dataframe thead th {\n",
       "        text-align: right;\n",
       "    }\n",
       "</style>\n",
       "<table border=\"1\" class=\"dataframe\">\n",
       "  <thead>\n",
       "    <tr style=\"text-align: right;\">\n",
       "      <th></th>\n",
       "      <th>timestamp</th>\n",
       "      <th>itemid</th>\n",
       "      <th>property</th>\n",
       "      <th>value</th>\n",
       "      <th>value_code</th>\n",
       "    </tr>\n",
       "  </thead>\n",
       "  <tbody>\n",
       "    <tr>\n",
       "      <th>1</th>\n",
       "      <td>1441497600000</td>\n",
       "      <td>206783</td>\n",
       "      <td>888</td>\n",
       "      <td>1116713 960601 n277.200</td>\n",
       "      <td>42817</td>\n",
       "    </tr>\n",
       "    <tr>\n",
       "      <th>2</th>\n",
       "      <td>1439078400000</td>\n",
       "      <td>395014</td>\n",
       "      <td>400</td>\n",
       "      <td>n552.000 639502 n720.000 424566</td>\n",
       "      <td>891</td>\n",
       "    </tr>\n",
       "    <tr>\n",
       "      <th>3</th>\n",
       "      <td>1431216000000</td>\n",
       "      <td>59481</td>\n",
       "      <td>790</td>\n",
       "      <td>n15360.000</td>\n",
       "      <td>6759</td>\n",
       "    </tr>\n",
       "    <tr>\n",
       "      <th>4</th>\n",
       "      <td>1431820800000</td>\n",
       "      <td>156781</td>\n",
       "      <td>917</td>\n",
       "      <td>828513</td>\n",
       "      <td>271855</td>\n",
       "    </tr>\n",
       "    <tr>\n",
       "      <th>6</th>\n",
       "      <td>1434240000000</td>\n",
       "      <td>89534</td>\n",
       "      <td>213</td>\n",
       "      <td>1121373</td>\n",
       "      <td>1</td>\n",
       "    </tr>\n",
       "  </tbody>\n",
       "</table>\n",
       "</div>"
      ],
      "text/plain": [
       "       timestamp  itemid property                            value  value_code\n",
       "1  1441497600000  206783      888          1116713 960601 n277.200       42817\n",
       "2  1439078400000  395014      400  n552.000 639502 n720.000 424566         891\n",
       "3  1431216000000   59481      790                       n15360.000        6759\n",
       "4  1431820800000  156781      917                           828513      271855\n",
       "6  1434240000000   89534      213                          1121373           1"
      ]
     },
     "execution_count": 33,
     "metadata": {},
     "output_type": "execute_result"
    }
   ],
   "source": [
    "# заменяем уникальные значения property-value числовым кодом\n",
    "items['value_code'] = (\n",
    "    items.sort_values(by=['property','value']).groupby('property')['value'].transform('rank',method='dense').astype(int)\n",
    ")\n",
    "items.head()"
   ]
  },
  {
   "cell_type": "code",
   "execution_count": 34,
   "metadata": {},
   "outputs": [
    {
     "data": {
      "text/html": [
       "<div>\n",
       "<style scoped>\n",
       "    .dataframe tbody tr th:only-of-type {\n",
       "        vertical-align: middle;\n",
       "    }\n",
       "\n",
       "    .dataframe tbody tr th {\n",
       "        vertical-align: top;\n",
       "    }\n",
       "\n",
       "    .dataframe thead th {\n",
       "        text-align: right;\n",
       "    }\n",
       "</style>\n",
       "<table border=\"1\" class=\"dataframe\">\n",
       "  <thead>\n",
       "    <tr style=\"text-align: right;\">\n",
       "      <th></th>\n",
       "      <th>property</th>\n",
       "      <th>items</th>\n",
       "      <th>values</th>\n",
       "    </tr>\n",
       "  </thead>\n",
       "  <tbody>\n",
       "    <tr>\n",
       "      <th>0</th>\n",
       "      <td>0</td>\n",
       "      <td>41406</td>\n",
       "      <td>859</td>\n",
       "    </tr>\n",
       "    <tr>\n",
       "      <th>1</th>\n",
       "      <td>1</td>\n",
       "      <td>5649</td>\n",
       "      <td>3</td>\n",
       "    </tr>\n",
       "    <tr>\n",
       "      <th>2</th>\n",
       "      <td>10</td>\n",
       "      <td>468</td>\n",
       "      <td>3</td>\n",
       "    </tr>\n",
       "    <tr>\n",
       "      <th>3</th>\n",
       "      <td>100</td>\n",
       "      <td>244</td>\n",
       "      <td>15</td>\n",
       "    </tr>\n",
       "    <tr>\n",
       "      <th>4</th>\n",
       "      <td>1000</td>\n",
       "      <td>2853</td>\n",
       "      <td>3</td>\n",
       "    </tr>\n",
       "  </tbody>\n",
       "</table>\n",
       "</div>"
      ],
      "text/plain": [
       "  property  items  values\n",
       "0        0  41406     859\n",
       "1        1   5649       3\n",
       "2       10    468       3\n",
       "3      100    244      15\n",
       "4     1000   2853       3"
      ]
     },
     "execution_count": 34,
     "metadata": {},
     "output_type": "execute_result"
    }
   ],
   "source": [
    "# характеристики properties\n",
    "props = items.groupby('property').agg(items=('itemid','count'), values=('value_code','max')).reset_index()\n",
    "props.head()"
   ]
  },
  {
   "cell_type": "code",
   "execution_count": 35,
   "metadata": {},
   "outputs": [
    {
     "data": {
      "text/html": [
       "<div>\n",
       "<style scoped>\n",
       "    .dataframe tbody tr th:only-of-type {\n",
       "        vertical-align: middle;\n",
       "    }\n",
       "\n",
       "    .dataframe tbody tr th {\n",
       "        vertical-align: top;\n",
       "    }\n",
       "\n",
       "    .dataframe thead th {\n",
       "        text-align: right;\n",
       "    }\n",
       "</style>\n",
       "<table border=\"1\" class=\"dataframe\">\n",
       "  <thead>\n",
       "    <tr style=\"text-align: right;\">\n",
       "      <th></th>\n",
       "      <th>n_props</th>\n",
       "      <th>n_items_from</th>\n",
       "      <th>n_items_to</th>\n",
       "    </tr>\n",
       "    <tr>\n",
       "      <th>values</th>\n",
       "      <th></th>\n",
       "      <th></th>\n",
       "      <th></th>\n",
       "    </tr>\n",
       "  </thead>\n",
       "  <tbody>\n",
       "    <tr>\n",
       "      <th>1</th>\n",
       "      <td>97</td>\n",
       "      <td>1</td>\n",
       "      <td>416916</td>\n",
       "    </tr>\n",
       "    <tr>\n",
       "      <th>2</th>\n",
       "      <td>121</td>\n",
       "      <td>2</td>\n",
       "      <td>17258</td>\n",
       "    </tr>\n",
       "    <tr>\n",
       "      <th>3</th>\n",
       "      <td>89</td>\n",
       "      <td>3</td>\n",
       "      <td>54141</td>\n",
       "    </tr>\n",
       "    <tr>\n",
       "      <th>4</th>\n",
       "      <td>71</td>\n",
       "      <td>4</td>\n",
       "      <td>20094</td>\n",
       "    </tr>\n",
       "    <tr>\n",
       "      <th>5</th>\n",
       "      <td>49</td>\n",
       "      <td>5</td>\n",
       "      <td>29033</td>\n",
       "    </tr>\n",
       "    <tr>\n",
       "      <th>6</th>\n",
       "      <td>46</td>\n",
       "      <td>14</td>\n",
       "      <td>54141</td>\n",
       "    </tr>\n",
       "    <tr>\n",
       "      <th>7</th>\n",
       "      <td>25</td>\n",
       "      <td>10</td>\n",
       "      <td>11536</td>\n",
       "    </tr>\n",
       "    <tr>\n",
       "      <th>8</th>\n",
       "      <td>44</td>\n",
       "      <td>14</td>\n",
       "      <td>37100</td>\n",
       "    </tr>\n",
       "    <tr>\n",
       "      <th>9</th>\n",
       "      <td>38</td>\n",
       "      <td>28</td>\n",
       "      <td>239372</td>\n",
       "    </tr>\n",
       "    <tr>\n",
       "      <th>10</th>\n",
       "      <td>21</td>\n",
       "      <td>28</td>\n",
       "      <td>17018</td>\n",
       "    </tr>\n",
       "  </tbody>\n",
       "</table>\n",
       "</div>"
      ],
      "text/plain": [
       "        n_props  n_items_from  n_items_to\n",
       "values                                   \n",
       "1            97             1      416916\n",
       "2           121             2       17258\n",
       "3            89             3       54141\n",
       "4            71             4       20094\n",
       "5            49             5       29033\n",
       "6            46            14       54141\n",
       "7            25            10       11536\n",
       "8            44            14       37100\n",
       "9            38            28      239372\n",
       "10           21            28       17018"
      ]
     },
     "execution_count": 35,
     "metadata": {},
     "output_type": "execute_result"
    }
   ],
   "source": [
    "# исследуем целесообразность выделения категориальных properties\n",
    "props.query(\"values <= 10\").groupby('values').agg(\n",
    "    n_props=('property','count'), n_items_from=('items','min'), n_items_to=('items','max')\n",
    ")\n"
   ]
  },
  {
   "cell_type": "code",
   "execution_count": 36,
   "metadata": {},
   "outputs": [
    {
     "data": {
      "text/plain": [
       "(445,)"
      ]
     },
     "execution_count": 36,
     "metadata": {},
     "output_type": "execute_result"
    }
   ],
   "source": [
    "# выделяем категориальные признаки, присущие ограниченному количеству товаров (n_items_to)\n",
    "categorical_props = props.query(\"values >1 and values <9\")['property'].astype(int).unique()\n",
    "categorical_props.shape"
   ]
  },
  {
   "cell_type": "code",
   "execution_count": 37,
   "metadata": {},
   "outputs": [
    {
     "data": {
      "text/html": [
       "<div>\n",
       "<style scoped>\n",
       "    .dataframe tbody tr th:only-of-type {\n",
       "        vertical-align: middle;\n",
       "    }\n",
       "\n",
       "    .dataframe tbody tr th {\n",
       "        vertical-align: top;\n",
       "    }\n",
       "\n",
       "    .dataframe thead th {\n",
       "        text-align: right;\n",
       "    }\n",
       "</style>\n",
       "<table border=\"1\" class=\"dataframe\">\n",
       "  <thead>\n",
       "    <tr style=\"text-align: right;\">\n",
       "      <th></th>\n",
       "      <th>timestamp</th>\n",
       "      <th>itemid</th>\n",
       "      <th>property</th>\n",
       "      <th>value_code</th>\n",
       "    </tr>\n",
       "  </thead>\n",
       "  <tbody>\n",
       "    <tr>\n",
       "      <th>0</th>\n",
       "      <td>1442102400000</td>\n",
       "      <td>0</td>\n",
       "      <td>6</td>\n",
       "      <td>3711</td>\n",
       "    </tr>\n",
       "    <tr>\n",
       "      <th>1</th>\n",
       "      <td>1442102400000</td>\n",
       "      <td>1</td>\n",
       "      <td>790</td>\n",
       "      <td>25706</td>\n",
       "    </tr>\n",
       "    <tr>\n",
       "      <th>2</th>\n",
       "      <td>1442102400000</td>\n",
       "      <td>1</td>\n",
       "      <td>888</td>\n",
       "      <td>150746</td>\n",
       "    </tr>\n",
       "    <tr>\n",
       "      <th>3</th>\n",
       "      <td>1442102400000</td>\n",
       "      <td>3</td>\n",
       "      <td>283</td>\n",
       "      <td>77707</td>\n",
       "    </tr>\n",
       "    <tr>\n",
       "      <th>4</th>\n",
       "      <td>1442102400000</td>\n",
       "      <td>4</td>\n",
       "      <td>591</td>\n",
       "      <td>1</td>\n",
       "    </tr>\n",
       "  </tbody>\n",
       "</table>\n",
       "</div>"
      ],
      "text/plain": [
       "       timestamp  itemid  property  value_code\n",
       "0  1442102400000       0         6        3711\n",
       "1  1442102400000       1       790       25706\n",
       "2  1442102400000       1       888      150746\n",
       "3  1442102400000       3       283       77707\n",
       "4  1442102400000       4       591           1"
      ]
     },
     "execution_count": 37,
     "metadata": {},
     "output_type": "execute_result"
    }
   ],
   "source": [
    "# преобразуем содержимое таблицы в целые числа\n",
    "items = items.drop(columns=['value']).astype(int).sort_values(\n",
    "    ['timestamp','itemid','property'], ascending=[False,True,True], ignore_index=True\n",
    ")\n",
    "items.head()"
   ]
  },
  {
   "cell_type": "code",
   "execution_count": 38,
   "metadata": {},
   "outputs": [
    {
     "name": "stdout",
     "output_type": "stream",
     "text": [
      "<class 'pandas.core.frame.DataFrame'>\n",
      "RangeIndex: 17980427 entries, 0 to 17980426\n",
      "Data columns (total 4 columns):\n",
      " #   Column      Non-Null Count     Dtype\n",
      "---  ------      --------------     -----\n",
      " 0   timestamp   17980427 non-null  int64\n",
      " 1   itemid      17980427 non-null  int64\n",
      " 2   property    17980427 non-null  int64\n",
      " 3   value_code  17980427 non-null  int64\n",
      "dtypes: int64(4)\n",
      "memory usage: 548.7 MB\n"
     ]
    }
   ],
   "source": [
    "del item1, item2\n",
    "items.info(show_counts=True)"
   ]
  },
  {
   "cell_type": "code",
   "execution_count": 39,
   "metadata": {},
   "outputs": [],
   "source": [
    "# определяем процедуры для извлечения item properties\n",
    "\n",
    "def get_registered_items(timestamp):\n",
    "    ''' Возвращает набор itemid, для которых определена корректная категория на заданный момент времени '''\n",
    "    return  set(items_ctgr.query(\"timestamp <= @timestamp\")['itemid'])\n",
    "\n",
    "def get_unavailable_items(timestamp):\n",
    "    ''' Возвращает набор itemid, для которых установлен признак available==0 на заданный момент времени '''\n",
    "    tmp = items_avail.query(\"timestamp <= @timestamp\").drop_duplicates(subset=['itemid'], keep='first')\n",
    "    return  set(tmp.query(\"value == '0'\")['itemid'])\n",
    "\n",
    "def get_available_items(timestamp):\n",
    "    ''' Возвращает набор itemid, доступных на заданный момент времени '''\n",
    "    return  get_registered_items(timestamp) - get_unavailable_items(timestamp)\n",
    "\n",
    "def get_item_availability(timestamp):\n",
    "    ''' Возвращает признак доступности товаров, актуальный на заданный момент времени '''\n",
    "    lst = get_registered_items(timestamp)\n",
    "    tmp = items_avail.query(\"timestamp <= @timestamp and itemid in @lst\") \\\n",
    "                     .drop_duplicates(subset=['itemid'], keep='first').reset_index(drop=True)\n",
    "    return  tmp[['itemid','value']]\n",
    "\n",
    "def get_item_category(timestamp, itemid=None):\n",
    "    ''' Возвращает категории товаров/товара, актуальные на заданный момент времени '''\n",
    "    tmp = items_ctgr.query(\"timestamp <= @timestamp\") \\\n",
    "                    .drop_duplicates(subset=['itemid'], keep='first').reset_index(drop=True)\n",
    "    return  tmp[['itemid','categoryid']] if itemid is None  else  tmp.query(\"itemid == @itemid\")['categoryid'].value\n",
    "\n",
    "def get_item_properties(timestamp, itemid=None):\n",
    "    ''' Возвращает свойства товаров/товара, актуальные на заданный момент времени '''\n",
    "    tmp = items.query(\"timestamp <= @timestamp\") \\\n",
    "               .drop_duplicates(subset=['itemid','property'], keep='first').reset_index(drop=True)\n",
    "    return  tmp[['itemid','property','value_code']] if itemid is None  \\\n",
    "      else  tmp.query(\"itemid == @itemid\")[['property','value_code']]\n"
   ]
  },
  {
   "cell_type": "code",
   "execution_count": 40,
   "metadata": {},
   "outputs": [
    {
     "name": "stdout",
     "output_type": "stream",
     "text": [
      "2015-05-10 00:00:00 214452 183484 117274\n",
      "2015-05-17 00:00:00 239060 203487 119450\n",
      "2015-05-24 00:00:00 254749 225695 112683\n",
      "2015-05-31 00:00:00 317864 281520 94249\n",
      "2015-06-07 00:00:00 337646 293380 91897\n",
      "2015-06-14 00:00:00 340767 290261 95838\n",
      "2015-06-28 00:00:00 404357 354422 51493\n",
      "2015-07-05 00:00:00 404539 346213 59097\n",
      "2015-07-12 00:00:00 405848 349116 57631\n",
      "2015-07-19 00:00:00 407224 353100 55240\n",
      "2015-07-26 00:00:00 407632 351466 57199\n",
      "2015-08-02 00:00:00 408030 351683 57330\n",
      "2015-08-09 00:00:00 408785 354058 55771\n",
      "2015-08-16 00:00:00 411670 356957 55180\n",
      "2015-08-23 00:00:00 412906 358822 54339\n",
      "2015-08-30 00:00:00 413607 362553 51309\n",
      "2015-09-06 00:00:00 414988 363129 52072\n",
      "2015-09-13 00:00:00 416916 362906 54010\n"
     ]
    }
   ],
   "source": [
    "# зарегистрированные (присвоена категория), недоступные и доступные товары по результатам загрузок\n",
    "for load_date in np.sort(items['timestamp'].unique()):\n",
    "    print(pd.to_datetime(load_date, unit='ms'), len(get_registered_items(load_date)),\n",
    "          len(get_unavailable_items(load_date)), len(get_available_items(load_date))\n",
    "    )"
   ]
  },
  {
   "attachments": {},
   "cell_type": "markdown",
   "metadata": {},
   "source": [
    "> ***ВАЖНОЕ НАБЛЮДЕНИЕ:*** \\\n",
    "> Суммарное количество доступных и недоступных items почти всегд превышает количество товаров,\n",
    "> которым присвоена категория. \\\n",
    "> Это означает, что признак доступности может загружаться ДО присвоения товару категории"
   ]
  },
  {
   "cell_type": "code",
   "execution_count": 41,
   "metadata": {},
   "outputs": [
    {
     "name": "stdout",
     "output_type": "stream",
     "text": [
      "<class 'pandas.core.frame.DataFrame'>\n",
      "RangeIndex: 2756101 entries, 0 to 2756100\n",
      "Data columns (total 5 columns):\n",
      " #   Column         Non-Null Count    Dtype  \n",
      "---  ------         --------------    -----  \n",
      " 0   timestamp      2756101 non-null  int64  \n",
      " 1   visitorid      2756101 non-null  int64  \n",
      " 2   event          2756101 non-null  object \n",
      " 3   itemid         2756101 non-null  int64  \n",
      " 4   transactionid  22457 non-null    float64\n",
      "dtypes: float64(1), int64(3), object(1)\n",
      "memory usage: 105.1+ MB\n"
     ]
    }
   ],
   "source": [
    "# загружаем события\n",
    "with s3.open(f\"{S3_DIR}/data/events.csv\", mode='r') as fd:\n",
    "    events = pd.read_csv(fd)\n",
    "events.info(show_counts=True)"
   ]
  },
  {
   "cell_type": "code",
   "execution_count": 42,
   "metadata": {},
   "outputs": [
    {
     "data": {
      "text/plain": [
       "(Timestamp('2015-05-03 00:00:04.384000'),\n",
       " Timestamp('2015-09-17 23:59:47.788000'))"
      ]
     },
     "execution_count": 42,
     "metadata": {},
     "output_type": "execute_result"
    }
   ],
   "source": [
    "# сдвигаем начало \"операционного дня\" к началу календарных суток\n",
    "events['timestamp'] = events['timestamp'] - TIMELAG\n",
    "\n",
    "# диапазон дат событий\n",
    "pd.to_datetime(events['timestamp'].min(), unit='ms'), pd.to_datetime(events['timestamp'].max(), unit='ms')"
   ]
  },
  {
   "cell_type": "code",
   "execution_count": 43,
   "metadata": {},
   "outputs": [
    {
     "data": {
      "text/plain": [
       "timestamp        2750455\n",
       "visitorid        1407580\n",
       "event                  3\n",
       "itemid            235061\n",
       "transactionid      17672\n",
       "dtype: int64"
      ]
     },
     "execution_count": 43,
     "metadata": {},
     "output_type": "execute_result"
    }
   ],
   "source": [
    "# изначальное количество уникальных пользователей, товаров и транзакций...\n",
    "events.nunique()"
   ]
  },
  {
   "cell_type": "code",
   "execution_count": 44,
   "metadata": {},
   "outputs": [
    {
     "data": {
      "text/plain": [
       "event\n",
       "view           2664312\n",
       "addtocart        69332\n",
       "transaction      22457\n",
       "Name: count, dtype: int64"
      ]
     },
     "execution_count": 44,
     "metadata": {},
     "output_type": "execute_result"
    }
   ],
   "source": [
    "# дисбаланс операций\n",
    "events['event'].value_counts()"
   ]
  },
  {
   "cell_type": "code",
   "execution_count": 45,
   "metadata": {},
   "outputs": [
    {
     "data": {
      "text/plain": [
       "event\n",
       "0    2410035\n",
       "1      68499\n",
       "2      21982\n",
       "Name: count, dtype: int64"
      ]
     },
     "execution_count": 45,
     "metadata": {},
     "output_type": "execute_result"
    }
   ],
   "source": [
    "# убираем события с объектами, категории которых не зарегистрированы в ctree\n",
    "events.query(\"itemid in @items_ctgr['itemid'].unique()\", inplace=True)\n",
    "\n",
    "# кодируем значения в колонке event\n",
    "events['event'] = events['event'].replace({'view':'0', 'addtocart':'1', 'transaction':'2'}).astype(int)\n",
    "events['event'].value_counts()"
   ]
  },
  {
   "cell_type": "code",
   "execution_count": 46,
   "metadata": {},
   "outputs": [
    {
     "name": "stdout",
     "output_type": "stream",
     "text": [
      "1431216000000 2015-05-10 00:00:00 2375843 0\n",
      "1431820800000 2015-05-17 00:00:00 2318204 71585\n",
      "1432425600000 2015-05-24 00:00:00 2261831 156316\n",
      "1433030400000 2015-05-31 00:00:00 2215618 239517\n",
      "1433635200000 2015-06-07 00:00:00 2188277 346085\n",
      "1434240000000 2015-06-14 00:00:00 2168674 446159\n",
      "1435449600000 2015-06-28 00:00:00 2125640 664218\n",
      "1436054400000 2015-07-05 00:00:00 2123785 789840\n",
      "1436659200000 2015-07-12 00:00:00 2121183 930025\n",
      "1437264000000 2015-07-19 00:00:00 2119411 1068329\n",
      "1437868800000 2015-07-26 00:00:00 2116784 1213727\n",
      "1438473600000 2015-08-02 00:00:00 2113502 1357185\n",
      "1439078400000 2015-08-09 00:00:00 2109576 1470706\n",
      "1439683200000 2015-08-16 00:00:00 2106727 1574921\n",
      "1440288000000 2015-08-23 00:00:00 2104996 1688694\n",
      "1440892800000 2015-08-30 00:00:00 2103361 1800691\n",
      "1441497600000 2015-09-06 00:00:00 2101486 1907610\n",
      "1442102400000 2015-09-13 00:00:00 2099173 2028594\n",
      "1442534387789 2015-09-17 23:59:47.789000 2099173 2099173\n"
     ]
    }
   ],
   "source": [
    "# удаляем события, произошедшие до регистрации категорий соответствующих items\n",
    "# и, заодно, определяем актуальную категорию товара для каждого события\n",
    "\n",
    "events.sort_values(by='timestamp', inplace=True)\n",
    "evtmp = events.query(\"timestamp < @events['timestamp'].min()\")    # инициализируем временный dataframe\n",
    "prev_date = 0\n",
    "\n",
    "for load_date in sorted(items['timestamp'].unique().tolist() + [events['timestamp'].max()+1]):\n",
    "    valid_items = get_registered_items(load_date-1)\n",
    "    events.query(\"timestamp >= @load_date or itemid in @valid_items\", inplace=True)  # удаление незарегистрированных\n",
    "    #'''\n",
    "    evtmp = pd.concat([\n",
    "        evtmp,\n",
    "        events.query(\"timestamp < @load_date and timestamp >= @prev_date\").merge(\n",
    "            get_item_category(load_date-1), how='left', on='itemid'                  # получение актуальной категории\n",
    "        ).merge(\n",
    "            get_item_availability(load_date-1), how='left', on='itemid'              # получение актуальной доступности\n",
    "        )\n",
    "    ], axis=0, ignore_index=True)\n",
    "    #'''\n",
    "    prev_date = load_date\n",
    "    print(load_date, pd.to_datetime(load_date, unit='ms'), events.shape[0], evtmp.shape[0])\n"
   ]
  },
  {
   "cell_type": "code",
   "execution_count": 47,
   "metadata": {},
   "outputs": [
    {
     "name": "stdout",
     "output_type": "stream",
     "text": [
      "<class 'pandas.core.frame.DataFrame'>\n",
      "RangeIndex: 2099173 entries, 0 to 2099172\n",
      "Data columns (total 7 columns):\n",
      " #   Column         Non-Null Count    Dtype  \n",
      "---  ------         --------------    -----  \n",
      " 0   timestamp      2099173 non-null  int64  \n",
      " 1   visitorid      2099173 non-null  int64  \n",
      " 2   event          2099173 non-null  int64  \n",
      " 3   itemid         2099173 non-null  int64  \n",
      " 4   transactionid  18244 non-null    float64\n",
      " 5   categoryid     2099173 non-null  float64\n",
      " 6   value          2008409 non-null  object \n",
      "dtypes: float64(2), int64(4), object(1)\n",
      "memory usage: 112.1+ MB\n"
     ]
    }
   ],
   "source": [
    "evtmp.info(show_counts=True)"
   ]
  },
  {
   "cell_type": "code",
   "execution_count": 48,
   "metadata": {},
   "outputs": [
    {
     "data": {
      "text/plain": [
       "value\n",
       "1    1217763\n",
       "0     790646\n",
       "Name: count, dtype: int64"
      ]
     },
     "execution_count": 48,
     "metadata": {},
     "output_type": "execute_result"
    }
   ],
   "source": [
    "# смотрим статистику доступности товаров, с которыми были взаимодействия\n",
    "evtmp['value'].value_counts()"
   ]
  },
  {
   "attachments": {},
   "cell_type": "markdown",
   "metadata": {},
   "source": [
    "ВЫВОД: Большая часть взаимодействий совершена с товарами, имеющими признак доступности ==1"
   ]
  },
  {
   "cell_type": "code",
   "execution_count": 49,
   "metadata": {},
   "outputs": [
    {
     "data": {
      "text/plain": [
       "event\n",
       "0    88803\n",
       "1     1499\n",
       "2      462\n",
       "Name: count, dtype: int64"
      ]
     },
     "execution_count": 49,
     "metadata": {},
     "output_type": "execute_result"
    }
   ],
   "source": [
    "# взаимодействия с товарами, не имевшими признака доступности на момент взаимодействия\n",
    "evtmp.query(\"value.isna()\")['event'].value_counts()"
   ]
  },
  {
   "attachments": {},
   "cell_type": "markdown",
   "metadata": {},
   "source": [
    "ВЫВОД: Если к моменту определения категории товара его доступность явно не определена, товар целесообразно считать доступным"
   ]
  },
  {
   "cell_type": "code",
   "execution_count": 50,
   "metadata": {},
   "outputs": [
    {
     "name": "stdout",
     "output_type": "stream",
     "text": [
      "<class 'pandas.core.frame.DataFrame'>\n",
      "RangeIndex: 2099173 entries, 0 to 2099172\n",
      "Data columns (total 7 columns):\n",
      " #   Column         Dtype  \n",
      "---  ------         -----  \n",
      " 0   timestamp      int64  \n",
      " 1   visitorid      int64  \n",
      " 2   event          int64  \n",
      " 3   itemid         int64  \n",
      " 4   transactionid  float64\n",
      " 5   categoryid     float64\n",
      " 6   value          int8   \n",
      "dtypes: float64(2), int64(4), int8(1)\n",
      "memory usage: 98.1 MB\n"
     ]
    }
   ],
   "source": [
    "# проставляем признак доступности на основании вышеприведенного вывода\n",
    "evtmp['value'] = evtmp['value'].fillna('1').astype(np.int8)\n",
    "evtmp.info()"
   ]
  },
  {
   "cell_type": "code",
   "execution_count": 51,
   "metadata": {},
   "outputs": [
    {
     "data": {
      "text/plain": [
       "value\n",
       "1    16981\n",
       "0     1263\n",
       "Name: count, dtype: int64"
      ]
     },
     "execution_count": 51,
     "metadata": {},
     "output_type": "execute_result"
    }
   ],
   "source": [
    "# смотрим, препятствует ли ЯВНО УКАЗАННАЯ недоступность товара его покупке\n",
    "evtmp.query(\"event > 1\")['value'].value_counts()"
   ]
  },
  {
   "attachments": {},
   "cell_type": "markdown",
   "metadata": {},
   "source": [
    "ВЫВОД: Около 7% покупок совершены с товарами, имевшими на момент покупки явно установленный признак недоступности.\n"
   ]
  },
  {
   "cell_type": "code",
   "execution_count": 52,
   "metadata": {},
   "outputs": [
    {
     "name": "stdout",
     "output_type": "stream",
     "text": [
      "<class 'pandas.core.frame.DataFrame'>\n",
      "RangeIndex: 2099173 entries, 0 to 2099172\n",
      "Data columns (total 8 columns):\n",
      " #   Column         Non-Null Count    Dtype  \n",
      "---  ------         --------------    -----  \n",
      " 0   timestamp      2099173 non-null  int64  \n",
      " 1   visitorid      2099173 non-null  int64  \n",
      " 2   event          2099173 non-null  int8   \n",
      " 3   itemid         2099173 non-null  int64  \n",
      " 4   transactionid  18244 non-null    float64\n",
      " 5   categoryid     2099173 non-null  int64  \n",
      " 6   available      2099173 non-null  int8   \n",
      " 7   root           2099173 non-null  int64  \n",
      "dtypes: float64(1), int64(5), int8(2)\n",
      "memory usage: 100.1 MB\n"
     ]
    }
   ],
   "source": [
    "# добавляем в таблицу событий информацию о root-категории товаров, актуальной на момент взаимодействия\n",
    "events = evtmp.astype({\n",
    "    'event': np.int8, 'categoryid': int\n",
    "}).rename(columns={'value':'available'}).merge(\n",
    "    ctree[['categoryid','root']], how='left', on='categoryid'\n",
    ").sort_values(by='timestamp', ignore_index=True)\n",
    "del      evtmp\n",
    "events.info(show_counts=True)"
   ]
  },
  {
   "cell_type": "code",
   "execution_count": 53,
   "metadata": {},
   "outputs": [
    {
     "data": {
      "text/plain": [
       "(timestamp        2095194\n",
       " visitorid        1076473\n",
       " event                  3\n",
       " itemid            171817\n",
       " transactionid      14524\n",
       " categoryid          1139\n",
       " available              2\n",
       " root                  23\n",
       " dtype: int64,\n",
       " event\n",
       " 0    2023564\n",
       " 1      57365\n",
       " 2      18244\n",
       " Name: count, dtype: int64)"
      ]
     },
     "execution_count": 53,
     "metadata": {},
     "output_type": "execute_result"
    }
   ],
   "source": [
    "# смотрим, с чем остались...\n",
    "events.nunique(), events['event'].value_counts()"
   ]
  },
  {
   "cell_type": "code",
   "execution_count": 54,
   "metadata": {},
   "outputs": [
    {
     "data": {
      "text/html": [
       "<div>\n",
       "<style scoped>\n",
       "    .dataframe tbody tr th:only-of-type {\n",
       "        vertical-align: middle;\n",
       "    }\n",
       "\n",
       "    .dataframe tbody tr th {\n",
       "        vertical-align: top;\n",
       "    }\n",
       "\n",
       "    .dataframe thead th {\n",
       "        text-align: right;\n",
       "    }\n",
       "</style>\n",
       "<table border=\"1\" class=\"dataframe\">\n",
       "  <thead>\n",
       "    <tr style=\"text-align: right;\">\n",
       "      <th></th>\n",
       "      <th>timestamp</th>\n",
       "      <th>visitorid</th>\n",
       "      <th>event</th>\n",
       "      <th>itemid</th>\n",
       "      <th>transactionid</th>\n",
       "      <th>categoryid</th>\n",
       "      <th>available</th>\n",
       "      <th>root</th>\n",
       "    </tr>\n",
       "  </thead>\n",
       "  <tbody>\n",
       "    <tr>\n",
       "      <th>493870</th>\n",
       "      <td>1434496041984</td>\n",
       "      <td>869183</td>\n",
       "      <td>0</td>\n",
       "      <td>5070</td>\n",
       "      <td>NaN</td>\n",
       "      <td>1167</td>\n",
       "      <td>1</td>\n",
       "      <td>250</td>\n",
       "    </tr>\n",
       "    <tr>\n",
       "      <th>494028</th>\n",
       "      <td>1434496658687</td>\n",
       "      <td>869183</td>\n",
       "      <td>0</td>\n",
       "      <td>5070</td>\n",
       "      <td>NaN</td>\n",
       "      <td>1167</td>\n",
       "      <td>1</td>\n",
       "      <td>250</td>\n",
       "    </tr>\n",
       "    <tr>\n",
       "      <th>494044</th>\n",
       "      <td>1434496711396</td>\n",
       "      <td>869183</td>\n",
       "      <td>1</td>\n",
       "      <td>5070</td>\n",
       "      <td>NaN</td>\n",
       "      <td>1167</td>\n",
       "      <td>1</td>\n",
       "      <td>250</td>\n",
       "    </tr>\n",
       "    <tr>\n",
       "      <th>494058</th>\n",
       "      <td>1434496744421</td>\n",
       "      <td>869183</td>\n",
       "      <td>0</td>\n",
       "      <td>5070</td>\n",
       "      <td>NaN</td>\n",
       "      <td>1167</td>\n",
       "      <td>1</td>\n",
       "      <td>250</td>\n",
       "    </tr>\n",
       "    <tr>\n",
       "      <th>494669</th>\n",
       "      <td>1434498846176</td>\n",
       "      <td>869183</td>\n",
       "      <td>2</td>\n",
       "      <td>5070</td>\n",
       "      <td>8612.0</td>\n",
       "      <td>1167</td>\n",
       "      <td>1</td>\n",
       "      <td>250</td>\n",
       "    </tr>\n",
       "    <tr>\n",
       "      <th>494781</th>\n",
       "      <td>1434499292327</td>\n",
       "      <td>869183</td>\n",
       "      <td>0</td>\n",
       "      <td>5070</td>\n",
       "      <td>NaN</td>\n",
       "      <td>1167</td>\n",
       "      <td>1</td>\n",
       "      <td>250</td>\n",
       "    </tr>\n",
       "    <tr>\n",
       "      <th>510312</th>\n",
       "      <td>1434575173398</td>\n",
       "      <td>869183</td>\n",
       "      <td>0</td>\n",
       "      <td>5070</td>\n",
       "      <td>NaN</td>\n",
       "      <td>1167</td>\n",
       "      <td>1</td>\n",
       "      <td>250</td>\n",
       "    </tr>\n",
       "    <tr>\n",
       "      <th>556882</th>\n",
       "      <td>1434841706538</td>\n",
       "      <td>1098033</td>\n",
       "      <td>0</td>\n",
       "      <td>5070</td>\n",
       "      <td>NaN</td>\n",
       "      <td>1167</td>\n",
       "      <td>1</td>\n",
       "      <td>250</td>\n",
       "    </tr>\n",
       "    <tr>\n",
       "      <th>601518</th>\n",
       "      <td>1435088303377</td>\n",
       "      <td>693709</td>\n",
       "      <td>0</td>\n",
       "      <td>5070</td>\n",
       "      <td>NaN</td>\n",
       "      <td>1167</td>\n",
       "      <td>1</td>\n",
       "      <td>250</td>\n",
       "    </tr>\n",
       "    <tr>\n",
       "      <th>616773</th>\n",
       "      <td>1435168478816</td>\n",
       "      <td>825321</td>\n",
       "      <td>0</td>\n",
       "      <td>5070</td>\n",
       "      <td>NaN</td>\n",
       "      <td>1167</td>\n",
       "      <td>1</td>\n",
       "      <td>250</td>\n",
       "    </tr>\n",
       "    <tr>\n",
       "      <th>616809</th>\n",
       "      <td>1435168558187</td>\n",
       "      <td>825321</td>\n",
       "      <td>0</td>\n",
       "      <td>5070</td>\n",
       "      <td>NaN</td>\n",
       "      <td>1167</td>\n",
       "      <td>1</td>\n",
       "      <td>250</td>\n",
       "    </tr>\n",
       "    <tr>\n",
       "      <th>634643</th>\n",
       "      <td>1435263667838</td>\n",
       "      <td>825321</td>\n",
       "      <td>0</td>\n",
       "      <td>5070</td>\n",
       "      <td>NaN</td>\n",
       "      <td>1167</td>\n",
       "      <td>1</td>\n",
       "      <td>250</td>\n",
       "    </tr>\n",
       "    <tr>\n",
       "      <th>634816</th>\n",
       "      <td>1435264281052</td>\n",
       "      <td>319048</td>\n",
       "      <td>0</td>\n",
       "      <td>5070</td>\n",
       "      <td>NaN</td>\n",
       "      <td>1167</td>\n",
       "      <td>1</td>\n",
       "      <td>250</td>\n",
       "    </tr>\n",
       "    <tr>\n",
       "      <th>810772</th>\n",
       "      <td>1436189415093</td>\n",
       "      <td>825321</td>\n",
       "      <td>0</td>\n",
       "      <td>5070</td>\n",
       "      <td>NaN</td>\n",
       "      <td>519</td>\n",
       "      <td>1</td>\n",
       "      <td>1452</td>\n",
       "    </tr>\n",
       "    <tr>\n",
       "      <th>1259141</th>\n",
       "      <td>1438012222779</td>\n",
       "      <td>310759</td>\n",
       "      <td>0</td>\n",
       "      <td>5070</td>\n",
       "      <td>NaN</td>\n",
       "      <td>176</td>\n",
       "      <td>0</td>\n",
       "      <td>395</td>\n",
       "    </tr>\n",
       "    <tr>\n",
       "      <th>1657836</th>\n",
       "      <td>1440102945555</td>\n",
       "      <td>310759</td>\n",
       "      <td>0</td>\n",
       "      <td>5070</td>\n",
       "      <td>NaN</td>\n",
       "      <td>706</td>\n",
       "      <td>1</td>\n",
       "      <td>395</td>\n",
       "    </tr>\n",
       "    <tr>\n",
       "      <th>2000687</th>\n",
       "      <td>1441956391758</td>\n",
       "      <td>84903</td>\n",
       "      <td>0</td>\n",
       "      <td>5070</td>\n",
       "      <td>NaN</td>\n",
       "      <td>706</td>\n",
       "      <td>0</td>\n",
       "      <td>395</td>\n",
       "    </tr>\n",
       "  </tbody>\n",
       "</table>\n",
       "</div>"
      ],
      "text/plain": [
       "             timestamp  visitorid  event  itemid  transactionid  categoryid  \\\n",
       "493870   1434496041984     869183      0    5070            NaN        1167   \n",
       "494028   1434496658687     869183      0    5070            NaN        1167   \n",
       "494044   1434496711396     869183      1    5070            NaN        1167   \n",
       "494058   1434496744421     869183      0    5070            NaN        1167   \n",
       "494669   1434498846176     869183      2    5070         8612.0        1167   \n",
       "494781   1434499292327     869183      0    5070            NaN        1167   \n",
       "510312   1434575173398     869183      0    5070            NaN        1167   \n",
       "556882   1434841706538    1098033      0    5070            NaN        1167   \n",
       "601518   1435088303377     693709      0    5070            NaN        1167   \n",
       "616773   1435168478816     825321      0    5070            NaN        1167   \n",
       "616809   1435168558187     825321      0    5070            NaN        1167   \n",
       "634643   1435263667838     825321      0    5070            NaN        1167   \n",
       "634816   1435264281052     319048      0    5070            NaN        1167   \n",
       "810772   1436189415093     825321      0    5070            NaN         519   \n",
       "1259141  1438012222779     310759      0    5070            NaN         176   \n",
       "1657836  1440102945555     310759      0    5070            NaN         706   \n",
       "2000687  1441956391758      84903      0    5070            NaN         706   \n",
       "\n",
       "         available  root  \n",
       "493870           1   250  \n",
       "494028           1   250  \n",
       "494044           1   250  \n",
       "494058           1   250  \n",
       "494669           1   250  \n",
       "494781           1   250  \n",
       "510312           1   250  \n",
       "556882           1   250  \n",
       "601518           1   250  \n",
       "616773           1   250  \n",
       "616809           1   250  \n",
       "634643           1   250  \n",
       "634816           1   250  \n",
       "810772           1  1452  \n",
       "1259141          0   395  \n",
       "1657836          1   395  \n",
       "2000687          0   395  "
      ]
     },
     "execution_count": 54,
     "metadata": {},
     "output_type": "execute_result"
    }
   ],
   "source": [
    "# пример взаимодействий с товаром с переменной категорией\n",
    "events.query(\"itemid == 5070\") #.shape"
   ]
  },
  {
   "cell_type": "code",
   "execution_count": 55,
   "metadata": {},
   "outputs": [
    {
     "data": {
      "text/plain": [
       "(27, 26)"
      ]
     },
     "execution_count": 55,
     "metadata": {},
     "output_type": "execute_result"
    }
   ],
   "source": [
    "# смотрим на транзакции\n",
    "transact = events.query(\"transactionid >= 0\").groupby('transactionid').agg(\n",
    "    timestamp=('timestamp','min'), items=('itemid','count'), dist_items=('itemid','nunique'),\n",
    "    dates=('timestamp','nunique'), last=('timestamp','max')\n",
    ")\n",
    "transact['duration'] = transact['last'] - transact['timestamp']\n",
    "transact['items'].max(), transact['dates'].max()"
   ]
  },
  {
   "cell_type": "code",
   "execution_count": 56,
   "metadata": {},
   "outputs": [
    {
     "data": {
      "text/html": [
       "<div>\n",
       "<style scoped>\n",
       "    .dataframe tbody tr th:only-of-type {\n",
       "        vertical-align: middle;\n",
       "    }\n",
       "\n",
       "    .dataframe tbody tr th {\n",
       "        vertical-align: top;\n",
       "    }\n",
       "\n",
       "    .dataframe thead th {\n",
       "        text-align: right;\n",
       "    }\n",
       "</style>\n",
       "<table border=\"1\" class=\"dataframe\">\n",
       "  <thead>\n",
       "    <tr style=\"text-align: right;\">\n",
       "      <th></th>\n",
       "      <th>timestamp</th>\n",
       "      <th>items</th>\n",
       "      <th>dist_items</th>\n",
       "      <th>dates</th>\n",
       "      <th>last</th>\n",
       "      <th>duration</th>\n",
       "    </tr>\n",
       "    <tr>\n",
       "      <th>transactionid</th>\n",
       "      <th></th>\n",
       "      <th></th>\n",
       "      <th></th>\n",
       "      <th></th>\n",
       "      <th></th>\n",
       "      <th></th>\n",
       "    </tr>\n",
       "  </thead>\n",
       "  <tbody>\n",
       "    <tr>\n",
       "      <th>8351.0</th>\n",
       "      <td>1441972592372</td>\n",
       "      <td>27</td>\n",
       "      <td>14</td>\n",
       "      <td>26</td>\n",
       "      <td>1441973045760</td>\n",
       "      <td>453388</td>\n",
       "    </tr>\n",
       "    <tr>\n",
       "      <th>2753.0</th>\n",
       "      <td>1436968996326</td>\n",
       "      <td>23</td>\n",
       "      <td>23</td>\n",
       "      <td>9</td>\n",
       "      <td>1436968997204</td>\n",
       "      <td>878</td>\n",
       "    </tr>\n",
       "    <tr>\n",
       "      <th>6993.0</th>\n",
       "      <td>1439483845665</td>\n",
       "      <td>21</td>\n",
       "      <td>21</td>\n",
       "      <td>14</td>\n",
       "      <td>1439483846043</td>\n",
       "      <td>378</td>\n",
       "    </tr>\n",
       "    <tr>\n",
       "      <th>7063.0</th>\n",
       "      <td>1431615924598</td>\n",
       "      <td>20</td>\n",
       "      <td>20</td>\n",
       "      <td>14</td>\n",
       "      <td>1431615925116</td>\n",
       "      <td>518</td>\n",
       "    </tr>\n",
       "    <tr>\n",
       "      <th>765.0</th>\n",
       "      <td>1431610813291</td>\n",
       "      <td>17</td>\n",
       "      <td>17</td>\n",
       "      <td>13</td>\n",
       "      <td>1431610813832</td>\n",
       "      <td>541</td>\n",
       "    </tr>\n",
       "  </tbody>\n",
       "</table>\n",
       "</div>"
      ],
      "text/plain": [
       "                   timestamp  items  dist_items  dates           last  \\\n",
       "transactionid                                                           \n",
       "8351.0         1441972592372     27          14     26  1441973045760   \n",
       "2753.0         1436968996326     23          23      9  1436968997204   \n",
       "6993.0         1439483845665     21          21     14  1439483846043   \n",
       "7063.0         1431615924598     20          20     14  1431615925116   \n",
       "765.0          1431610813291     17          17     13  1431610813832   \n",
       "\n",
       "               duration  \n",
       "transactionid            \n",
       "8351.0           453388  \n",
       "2753.0              878  \n",
       "6993.0              378  \n",
       "7063.0              518  \n",
       "765.0               541  "
      ]
     },
     "execution_count": 56,
     "metadata": {},
     "output_type": "execute_result"
    }
   ],
   "source": [
    "# крупнейшие транзакции (по количеству товаров)\n",
    "transact.sort_values(by='items',ascending=False).head()"
   ]
  },
  {
   "cell_type": "code",
   "execution_count": 57,
   "metadata": {},
   "outputs": [
    {
     "name": "stdout",
     "output_type": "stream",
     "text": [
      "<class 'pandas.core.frame.DataFrame'>\n",
      "Index: 14524 entries, 0.0 to 17671.0\n",
      "Data columns (total 6 columns):\n",
      " #   Column      Non-Null Count  Dtype\n",
      "---  ------      --------------  -----\n",
      " 0   timestamp   14524 non-null  int64\n",
      " 1   items       14524 non-null  int64\n",
      " 2   dist_items  14524 non-null  int64\n",
      " 3   dates       14524 non-null  int64\n",
      " 4   last        14524 non-null  int64\n",
      " 5   duration    14524 non-null  int64\n",
      "dtypes: int64(6)\n",
      "memory usage: 794.3 KB\n"
     ]
    }
   ],
   "source": [
    "transact.info(show_counts=True)"
   ]
  },
  {
   "cell_type": "code",
   "execution_count": 58,
   "metadata": {},
   "outputs": [],
   "source": [
    "# сохраняем очищенные данные\n",
    "\n",
    "with s3.open(f\"{S3_DIR}/data/category_tree.parquet\", mode='wb') as fd:\n",
    "    ctree.to_parquet(fd)\n",
    "\n",
    "with s3.open(f\"{S3_DIR}/data/item_properties.parquet\", mode='wb') as fd:\n",
    "    items.to_parquet(fd)\n",
    "\n",
    "with s3.open(f\"{S3_DIR}/data/item_categories.parquet\", mode='wb') as fd:\n",
    "    items_ctgr.to_parquet(fd)\n",
    "\n",
    "with s3.open(f\"{S3_DIR}/data/item_availability.parquet\", mode='wb') as fd:\n",
    "    items_avail.to_parquet(fd)\n",
    "\n",
    "with s3.open(f\"{S3_DIR}/data/events.parquet\", mode='wb') as fd:\n",
    "    events.to_parquet(fd)\n",
    "\n",
    "with s3.open(f\"{S3_DIR}/data/transactions.parquet\", mode='wb') as fd:\n",
    "    transact.to_parquet(fd)\n"
   ]
  },
  {
   "attachments": {},
   "cell_type": "markdown",
   "metadata": {},
   "source": [
    "### ВЫВОДЫ ###\n",
    "\n",
    "ВЫЯВЛЕННЫЕ ПРОБЛЕМЫ С ДАННЫМИ:\n",
    "1. Установление признака доступности и иных признаков товара может предшествовать присвоению категории, однако \n",
    "бывают случаи, когда признак доступности устанавливается существенно позже.\n",
    "2. Большая часть взаимодействий совершена с товарами, имевшими признак доступности ==1, однако, около 7% **покупок** \n",
    "совершены с товарами, имевшими явно установленный признак НЕдоступности на момент сделки.\n",
    "3. Часть взаимодействий с товарами совершена до первичного присвоения товару какой-либо категории.\n",
    "4. Часть значений свойства categoryid (137 шт) отсутствует в справочнике категорий.\n",
    "5. В таблицах событий и свойств товаров выявлено наличие сдвига по времени на 3 часа относительно начала\n",
    "календарных суток.\n",
    "\n",
    "КОРРЕКТИРУЮЩИЕ ДЕЙСТВИЯ:\n",
    "1. Из справочника свойств товаров (item_properties) удалены свойства categoryid, значения которых отсутствуют\n",
    "в справочнике категорий.\n",
    "2. Если при первичном присвоении товару какой-либо категории признак доступности для него явно не задан,\n",
    "то товар считается доступным (устанавливается признак==1).\n",
    "3. Удалены взаимодействия с товарами, совершенные до первичного присвоения товару какой-либо категории.\n",
    "4. В таблицу событий для каждого события добавлена информация о категории товара, которая была актуальна\n",
    "на момент совершения события.\n",
    "5. В таблицах событий и свойств товаров время начала \"операционного дня\" приведено к началу календарных суток.\n"
   ]
  },
  {
   "attachments": {},
   "cell_type": "markdown",
   "metadata": {},
   "source": [
    "## ВИЗУАЛИЗАЦИЯ И СЕМАНТИЧЕСКИЙ АНАЛИЗ ДАННЫХ ##"
   ]
  },
  {
   "cell_type": "code",
   "execution_count": 59,
   "metadata": {},
   "outputs": [],
   "source": [
    "# загружаем очищенные данные\n",
    "\n",
    "with s3.open(f\"{S3_DIR}/data/category_tree.parquet\", mode='rb') as fd:\n",
    "    ctree = pd.read_parquet(fd)\n",
    "\n",
    "with s3.open(f\"{S3_DIR}/data/item_properties.parquet\", mode='rb') as fd:\n",
    "    items = pd.read_parquet(fd)\n",
    "\n",
    "with s3.open(f\"{S3_DIR}/data/item_categories.parquet\", mode='rb') as fd:\n",
    "    items_ctgr = pd.read_parquet(fd)\n",
    "\n",
    "with s3.open(f\"{S3_DIR}/data/item_availability.parquet\", mode='rb') as fd:\n",
    "    items_avail = pd.read_parquet(fd)\n",
    "\n",
    "with s3.open(f\"{S3_DIR}/data/events.parquet\", mode='rb') as fd:\n",
    "    events = pd.read_parquet(fd)\n",
    "\n",
    "with s3.open(f\"{S3_DIR}/data/transactions.parquet\", mode='rb') as fd:\n",
    "    transact = pd.read_parquet(fd)\n"
   ]
  },
  {
   "cell_type": "code",
   "execution_count": 60,
   "metadata": {},
   "outputs": [
    {
     "data": {
      "text/plain": [
       "1076473"
      ]
     },
     "execution_count": 60,
     "metadata": {},
     "output_type": "execute_result"
    }
   ],
   "source": [
    "# всего уникальных клиентов\n",
    "events['visitorid'].nunique()"
   ]
  },
  {
   "cell_type": "code",
   "execution_count": 61,
   "metadata": {},
   "outputs": [
    {
     "data": {
      "text/plain": [
       "(171817, 245099, 416916)"
      ]
     },
     "execution_count": 61,
     "metadata": {},
     "output_type": "execute_result"
    }
   ],
   "source": [
    "# количество товаров, с которыми было и с которыми не было взаимодействий пользователей\n",
    "events['itemid'].nunique(), items.query(\"itemid not in @events['itemid'].unique()\")['itemid'].nunique(), \\\n",
    "items['itemid'].nunique()"
   ]
  },
  {
   "cell_type": "code",
   "execution_count": 62,
   "metadata": {},
   "outputs": [
    {
     "data": {
      "text/html": [
       "<div>\n",
       "<style scoped>\n",
       "    .dataframe tbody tr th:only-of-type {\n",
       "        vertical-align: middle;\n",
       "    }\n",
       "\n",
       "    .dataframe tbody tr th {\n",
       "        vertical-align: top;\n",
       "    }\n",
       "\n",
       "    .dataframe thead th {\n",
       "        text-align: right;\n",
       "    }\n",
       "</style>\n",
       "<table border=\"1\" class=\"dataframe\">\n",
       "  <thead>\n",
       "    <tr style=\"text-align: right;\">\n",
       "      <th>event</th>\n",
       "      <th>0</th>\n",
       "      <th>1</th>\n",
       "      <th>2</th>\n",
       "    </tr>\n",
       "    <tr>\n",
       "      <th>visitorid</th>\n",
       "      <th></th>\n",
       "      <th></th>\n",
       "      <th></th>\n",
       "    </tr>\n",
       "  </thead>\n",
       "  <tbody>\n",
       "    <tr>\n",
       "      <th>1150086</th>\n",
       "      <td>5053</td>\n",
       "      <td>652</td>\n",
       "      <td>504</td>\n",
       "    </tr>\n",
       "    <tr>\n",
       "      <th>152963</th>\n",
       "      <td>2126</td>\n",
       "      <td>357</td>\n",
       "      <td>337</td>\n",
       "    </tr>\n",
       "    <tr>\n",
       "      <th>530559</th>\n",
       "      <td>2610</td>\n",
       "      <td>396</td>\n",
       "      <td>268</td>\n",
       "    </tr>\n",
       "    <tr>\n",
       "      <th>861299</th>\n",
       "      <td>1463</td>\n",
       "      <td>209</td>\n",
       "      <td>164</td>\n",
       "    </tr>\n",
       "    <tr>\n",
       "      <th>684514</th>\n",
       "      <td>1490</td>\n",
       "      <td>193</td>\n",
       "      <td>157</td>\n",
       "    </tr>\n",
       "    <tr>\n",
       "      <th>890980</th>\n",
       "      <td>589</td>\n",
       "      <td>206</td>\n",
       "      <td>139</td>\n",
       "    </tr>\n",
       "    <tr>\n",
       "      <th>1297062</th>\n",
       "      <td>1340</td>\n",
       "      <td>148</td>\n",
       "      <td>130</td>\n",
       "    </tr>\n",
       "    <tr>\n",
       "      <th>247235</th>\n",
       "      <td>1162</td>\n",
       "      <td>157</td>\n",
       "      <td>126</td>\n",
       "    </tr>\n",
       "    <tr>\n",
       "      <th>645525</th>\n",
       "      <td>1135</td>\n",
       "      <td>123</td>\n",
       "      <td>106</td>\n",
       "    </tr>\n",
       "    <tr>\n",
       "      <th>76757</th>\n",
       "      <td>860</td>\n",
       "      <td>168</td>\n",
       "      <td>99</td>\n",
       "    </tr>\n",
       "  </tbody>\n",
       "</table>\n",
       "</div>"
      ],
      "text/plain": [
       "event         0    1    2\n",
       "visitorid                \n",
       "1150086    5053  652  504\n",
       "152963     2126  357  337\n",
       "530559     2610  396  268\n",
       "861299     1463  209  164\n",
       "684514     1490  193  157\n",
       "890980      589  206  139\n",
       "1297062    1340  148  130\n",
       "247235     1162  157  126\n",
       "645525     1135  123  106\n",
       "76757       860  168   99"
      ]
     },
     "execution_count": 62,
     "metadata": {},
     "output_type": "execute_result"
    }
   ],
   "source": [
    "# наиболее активные покупатели\n",
    "events.groupby(['visitorid'])['event'].value_counts().unstack(fill_value=0).sort_values(by=2,ascending=False).head(10)"
   ]
  },
  {
   "cell_type": "code",
   "execution_count": 63,
   "metadata": {},
   "outputs": [
    {
     "data": {
      "text/plain": [
       "(483, 211, 13)"
      ]
     },
     "execution_count": 63,
     "metadata": {},
     "output_type": "execute_result"
    }
   ],
   "source": [
    "# количество уникальных товаров, приобретенных наиболее активным покупателем\n",
    "events.query(\"visitorid==1150086 and event==2\")['itemid'].nunique(), \\\n",
    "events.query(\"visitorid==1150086 and event==2\")['categoryid'].nunique(), \\\n",
    "events.query(\"visitorid==1150086 and event==2\")['root'].nunique()"
   ]
  },
  {
   "cell_type": "code",
   "execution_count": 64,
   "metadata": {},
   "outputs": [
    {
     "data": {
      "text/html": [
       "<div>\n",
       "<style scoped>\n",
       "    .dataframe tbody tr th:only-of-type {\n",
       "        vertical-align: middle;\n",
       "    }\n",
       "\n",
       "    .dataframe tbody tr th {\n",
       "        vertical-align: top;\n",
       "    }\n",
       "\n",
       "    .dataframe thead th {\n",
       "        text-align: right;\n",
       "    }\n",
       "</style>\n",
       "<table border=\"1\" class=\"dataframe\">\n",
       "  <thead>\n",
       "    <tr style=\"text-align: right;\">\n",
       "      <th>event</th>\n",
       "      <th>0</th>\n",
       "      <th>1</th>\n",
       "      <th>2</th>\n",
       "    </tr>\n",
       "    <tr>\n",
       "      <th>itemid</th>\n",
       "      <th></th>\n",
       "      <th></th>\n",
       "      <th></th>\n",
       "    </tr>\n",
       "  </thead>\n",
       "  <tbody>\n",
       "    <tr>\n",
       "      <th>461686</th>\n",
       "      <td>2263</td>\n",
       "      <td>290</td>\n",
       "      <td>128</td>\n",
       "    </tr>\n",
       "    <tr>\n",
       "      <th>213834</th>\n",
       "      <td>281</td>\n",
       "      <td>17</td>\n",
       "      <td>92</td>\n",
       "    </tr>\n",
       "    <tr>\n",
       "      <th>119736</th>\n",
       "      <td>436</td>\n",
       "      <td>31</td>\n",
       "      <td>63</td>\n",
       "    </tr>\n",
       "    <tr>\n",
       "      <th>312728</th>\n",
       "      <td>910</td>\n",
       "      <td>155</td>\n",
       "      <td>45</td>\n",
       "    </tr>\n",
       "    <tr>\n",
       "      <th>445351</th>\n",
       "      <td>794</td>\n",
       "      <td>83</td>\n",
       "      <td>43</td>\n",
       "    </tr>\n",
       "    <tr>\n",
       "      <th>48030</th>\n",
       "      <td>986</td>\n",
       "      <td>95</td>\n",
       "      <td>41</td>\n",
       "    </tr>\n",
       "    <tr>\n",
       "      <th>7943</th>\n",
       "      <td>1171</td>\n",
       "      <td>81</td>\n",
       "      <td>36</td>\n",
       "    </tr>\n",
       "    <tr>\n",
       "      <th>416017</th>\n",
       "      <td>393</td>\n",
       "      <td>49</td>\n",
       "      <td>32</td>\n",
       "    </tr>\n",
       "    <tr>\n",
       "      <th>17478</th>\n",
       "      <td>396</td>\n",
       "      <td>50</td>\n",
       "      <td>28</td>\n",
       "    </tr>\n",
       "    <tr>\n",
       "      <th>334401</th>\n",
       "      <td>186</td>\n",
       "      <td>8</td>\n",
       "      <td>28</td>\n",
       "    </tr>\n",
       "  </tbody>\n",
       "</table>\n",
       "</div>"
      ],
      "text/plain": [
       "event      0    1    2\n",
       "itemid                \n",
       "461686  2263  290  128\n",
       "213834   281   17   92\n",
       "119736   436   31   63\n",
       "312728   910  155   45\n",
       "445351   794   83   43\n",
       "48030    986   95   41\n",
       "7943    1171   81   36\n",
       "416017   393   49   32\n",
       "17478    396   50   28\n",
       "334401   186    8   28"
      ]
     },
     "execution_count": 64,
     "metadata": {},
     "output_type": "execute_result"
    }
   ],
   "source": [
    "# наиболее покупаемые товары\n",
    "events.groupby(['itemid'])['event'].value_counts().unstack(fill_value=0).sort_values(by=2,ascending=False).head(10)"
   ]
  },
  {
   "cell_type": "code",
   "execution_count": 65,
   "metadata": {},
   "outputs": [
    {
     "data": {
      "text/html": [
       "<div>\n",
       "<style scoped>\n",
       "    .dataframe tbody tr th:only-of-type {\n",
       "        vertical-align: middle;\n",
       "    }\n",
       "\n",
       "    .dataframe tbody tr th {\n",
       "        vertical-align: top;\n",
       "    }\n",
       "\n",
       "    .dataframe thead th {\n",
       "        text-align: right;\n",
       "    }\n",
       "</style>\n",
       "<table border=\"1\" class=\"dataframe\">\n",
       "  <thead>\n",
       "    <tr style=\"text-align: right;\">\n",
       "      <th>event</th>\n",
       "      <th>0</th>\n",
       "      <th>1</th>\n",
       "      <th>2</th>\n",
       "    </tr>\n",
       "    <tr>\n",
       "      <th>categoryid</th>\n",
       "      <th></th>\n",
       "      <th></th>\n",
       "      <th></th>\n",
       "    </tr>\n",
       "  </thead>\n",
       "  <tbody>\n",
       "    <tr>\n",
       "      <th>959</th>\n",
       "      <td>43450</td>\n",
       "      <td>1426</td>\n",
       "      <td>464</td>\n",
       "    </tr>\n",
       "    <tr>\n",
       "      <th>1051</th>\n",
       "      <td>62367</td>\n",
       "      <td>1494</td>\n",
       "      <td>421</td>\n",
       "    </tr>\n",
       "    <tr>\n",
       "      <th>1483</th>\n",
       "      <td>52647</td>\n",
       "      <td>1188</td>\n",
       "      <td>369</td>\n",
       "    </tr>\n",
       "    <tr>\n",
       "      <th>196</th>\n",
       "      <td>22703</td>\n",
       "      <td>664</td>\n",
       "      <td>260</td>\n",
       "    </tr>\n",
       "    <tr>\n",
       "      <th>1542</th>\n",
       "      <td>10380</td>\n",
       "      <td>560</td>\n",
       "      <td>248</td>\n",
       "    </tr>\n",
       "    <tr>\n",
       "      <th>342</th>\n",
       "      <td>39221</td>\n",
       "      <td>1107</td>\n",
       "      <td>235</td>\n",
       "    </tr>\n",
       "    <tr>\n",
       "      <th>1163</th>\n",
       "      <td>6074</td>\n",
       "      <td>315</td>\n",
       "      <td>229</td>\n",
       "    </tr>\n",
       "    <tr>\n",
       "      <th>1037</th>\n",
       "      <td>4814</td>\n",
       "      <td>643</td>\n",
       "      <td>222</td>\n",
       "    </tr>\n",
       "    <tr>\n",
       "      <th>686</th>\n",
       "      <td>5237</td>\n",
       "      <td>379</td>\n",
       "      <td>210</td>\n",
       "    </tr>\n",
       "    <tr>\n",
       "      <th>618</th>\n",
       "      <td>10871</td>\n",
       "      <td>511</td>\n",
       "      <td>200</td>\n",
       "    </tr>\n",
       "  </tbody>\n",
       "</table>\n",
       "</div>"
      ],
      "text/plain": [
       "event           0     1    2\n",
       "categoryid                  \n",
       "959         43450  1426  464\n",
       "1051        62367  1494  421\n",
       "1483        52647  1188  369\n",
       "196         22703   664  260\n",
       "1542        10380   560  248\n",
       "342         39221  1107  235\n",
       "1163         6074   315  229\n",
       "1037         4814   643  222\n",
       "686          5237   379  210\n",
       "618         10871   511  200"
      ]
     },
     "execution_count": 65,
     "metadata": {},
     "output_type": "execute_result"
    }
   ],
   "source": [
    "# наиболее популярные категории товаров\n",
    "events.groupby(['categoryid'])['event'].value_counts().unstack(fill_value=0).sort_values(by=2,ascending=False).head(10)"
   ]
  },
  {
   "cell_type": "code",
   "execution_count": 66,
   "metadata": {},
   "outputs": [
    {
     "data": {
      "text/html": [
       "<div>\n",
       "<style scoped>\n",
       "    .dataframe tbody tr th:only-of-type {\n",
       "        vertical-align: middle;\n",
       "    }\n",
       "\n",
       "    .dataframe tbody tr th {\n",
       "        vertical-align: top;\n",
       "    }\n",
       "\n",
       "    .dataframe thead th {\n",
       "        text-align: right;\n",
       "    }\n",
       "</style>\n",
       "<table border=\"1\" class=\"dataframe\">\n",
       "  <thead>\n",
       "    <tr style=\"text-align: right;\">\n",
       "      <th></th>\n",
       "      <th>event</th>\n",
       "      <th>0</th>\n",
       "      <th>1</th>\n",
       "      <th>2</th>\n",
       "    </tr>\n",
       "    <tr>\n",
       "      <th>visitorid</th>\n",
       "      <th>itemid</th>\n",
       "      <th></th>\n",
       "      <th></th>\n",
       "      <th></th>\n",
       "    </tr>\n",
       "  </thead>\n",
       "  <tbody>\n",
       "    <tr>\n",
       "      <th>152963</th>\n",
       "      <th>119736</th>\n",
       "      <td>18</td>\n",
       "      <td>0</td>\n",
       "      <td>14</td>\n",
       "    </tr>\n",
       "    <tr>\n",
       "      <th>530559</th>\n",
       "      <th>119736</th>\n",
       "      <td>18</td>\n",
       "      <td>9</td>\n",
       "      <td>8</td>\n",
       "    </tr>\n",
       "    <tr>\n",
       "      <th>1385029</th>\n",
       "      <th>382885</th>\n",
       "      <td>66</td>\n",
       "      <td>5</td>\n",
       "      <td>5</td>\n",
       "    </tr>\n",
       "    <tr>\n",
       "      <th>530559</th>\n",
       "      <th>213834</th>\n",
       "      <td>6</td>\n",
       "      <td>1</td>\n",
       "      <td>5</td>\n",
       "    </tr>\n",
       "    <tr>\n",
       "      <th>890980</th>\n",
       "      <th>213834</th>\n",
       "      <td>0</td>\n",
       "      <td>0</td>\n",
       "      <td>5</td>\n",
       "    </tr>\n",
       "    <tr>\n",
       "      <th>1172087</th>\n",
       "      <th>312728</th>\n",
       "      <td>6</td>\n",
       "      <td>0</td>\n",
       "      <td>5</td>\n",
       "    </tr>\n",
       "    <tr>\n",
       "      <th>660393</th>\n",
       "      <th>224549</th>\n",
       "      <td>9</td>\n",
       "      <td>6</td>\n",
       "      <td>5</td>\n",
       "    </tr>\n",
       "    <tr>\n",
       "      <th>1020024</th>\n",
       "      <th>396042</th>\n",
       "      <td>6</td>\n",
       "      <td>7</td>\n",
       "      <td>5</td>\n",
       "    </tr>\n",
       "    <tr>\n",
       "      <th>1365706</th>\n",
       "      <th>227311</th>\n",
       "      <td>4</td>\n",
       "      <td>5</td>\n",
       "      <td>5</td>\n",
       "    </tr>\n",
       "    <tr>\n",
       "      <th>1145382</th>\n",
       "      <th>365015</th>\n",
       "      <td>6</td>\n",
       "      <td>4</td>\n",
       "      <td>5</td>\n",
       "    </tr>\n",
       "  </tbody>\n",
       "</table>\n",
       "</div>"
      ],
      "text/plain": [
       "event              0  1   2\n",
       "visitorid itemid           \n",
       "152963    119736  18  0  14\n",
       "530559    119736  18  9   8\n",
       "1385029   382885  66  5   5\n",
       "530559    213834   6  1   5\n",
       "890980    213834   0  0   5\n",
       "1172087   312728   6  0   5\n",
       "660393    224549   9  6   5\n",
       "1020024   396042   6  7   5\n",
       "1365706   227311   4  5   5\n",
       "1145382   365015   6  4   5"
      ]
     },
     "execution_count": 66,
     "metadata": {},
     "output_type": "execute_result"
    }
   ],
   "source": [
    "# товары - лидеры повторных покупок\n",
    "events.groupby(['visitorid','itemid'])['event'].value_counts().unstack(fill_value=0) \\\n",
    "      .sort_values(by=2,ascending=False).head(10)"
   ]
  },
  {
   "attachments": {},
   "cell_type": "markdown",
   "metadata": {},
   "source": [
    "ВАЖНОЕ НАБЛЮДЕНИЕ: Бывают покупки без добавления в корзину - \"в один клик\""
   ]
  },
  {
   "cell_type": "code",
   "execution_count": 67,
   "metadata": {},
   "outputs": [],
   "source": [
    "import matplotlib.pyplot as plt\n",
    "import matplotlib.dates as mdates\n",
    "import seaborn as sns"
   ]
  },
  {
   "cell_type": "code",
   "execution_count": 68,
   "metadata": {},
   "outputs": [
    {
     "data": {
      "image/png": "[encoded data removed]",
      "text/plain": [
       "<Figure size 1500x600 with 1 Axes>"
      ]
     },
     "metadata": {},
     "output_type": "display_data"
    }
   ],
   "source": [
    "# распределение пользователей по общей продолжительности их взаимодействия с системой (в днях)\n",
    "user_tf = events.groupby('visitorid').agg(min_ts=('timestamp','min'), max_ts=('timestamp','max')).reset_index()\n",
    "user_tf['duration'] = (user_tf['max_ts'] - user_tf['min_ts'] -1)/(24*3600*1000) +1\n",
    "fig = plt.figure()\n",
    "fig.set_size_inches (15, 6, forward=True)\n",
    "sns.histplot(user_tf, x='duration', bins=100, log=True)\n",
    "plt.show()\n"
   ]
  },
  {
   "cell_type": "code",
   "execution_count": 69,
   "metadata": {},
   "outputs": [
    {
     "data": {
      "image/png": "[encoded data removed]",
      "text/plain": [
       "<Figure size 1500x600 with 1 Axes>"
      ]
     },
     "metadata": {},
     "output_type": "display_data"
    }
   ],
   "source": [
    "# распределение целевых взаимодействий по пользователям\n",
    "item_per_user = events.query(\"event > 0\").groupby('visitorid').agg(items=('itemid','count')).reset_index()\n",
    "\n",
    "fig = plt.figure()\n",
    "fig.set_size_inches (15, 6, forward=True)\n",
    "sns.histplot(item_per_user, x='items', bins=100, log=True)\n",
    "plt.show()\n",
    "\n",
    "del item_per_user"
   ]
  },
  {
   "cell_type": "code",
   "execution_count": 70,
   "metadata": {},
   "outputs": [
    {
     "name": "stderr",
     "output_type": "stream",
     "text": [
      "Using categorical units to plot a list of strings that are all parsable as floats or dates. If these strings should be plotted as numbers, cast to the appropriate data type before plotting.\n",
      "Using categorical units to plot a list of strings that are all parsable as floats or dates. If these strings should be plotted as numbers, cast to the appropriate data type before plotting.\n"
     ]
    },
    {
     "data": {
      "image/png": "[encoded data removed]",
      "text/plain": [
       "<Figure size 1500x600 with 1 Axes>"
      ]
     },
     "metadata": {},
     "output_type": "display_data"
    }
   ],
   "source": [
    "# визуализируем распределение events по дням\n",
    "item_per_day = events.groupby(pd.to_datetime(events['timestamp'], unit='ms').dt.date).agg(\n",
    "    items=('itemid','count')\n",
    ")\n",
    "\n",
    "fig, ax = plt.subplots(figsize=(15, 6))\n",
    "sns.barplot(item_per_day, x='timestamp', y='items', log=True, ax=ax)\n",
    "\n",
    "plt.xticks (rotation=45)\n",
    "ax.set_xticks(ax.get_xticks()[::7])\n",
    "ax.tick_params(axis='x', which='minor', bottom=False)\n",
    "plt.show()\n",
    "#del item_per_day"
   ]
  },
  {
   "cell_type": "code",
   "execution_count": 71,
   "metadata": {},
   "outputs": [
    {
     "name": "stderr",
     "output_type": "stream",
     "text": [
      "Using categorical units to plot a list of strings that are all parsable as floats or dates. If these strings should be plotted as numbers, cast to the appropriate data type before plotting.\n",
      "Using categorical units to plot a list of strings that are all parsable as floats or dates. If these strings should be plotted as numbers, cast to the appropriate data type before plotting.\n"
     ]
    },
    {
     "data": {
      "image/png": "[encoded data removed]",
      "text/plain": [
       "<Figure size 1500x600 with 1 Axes>"
      ]
     },
     "metadata": {},
     "output_type": "display_data"
    }
   ],
   "source": [
    "# визуализируем количество целевых действий пользователей (добавление в корзину + покупки) по дням\n",
    "event_per_day = events.groupby(pd.to_datetime(events['timestamp'], unit='ms').dt.date)['event'] \\\n",
    "                      .value_counts().unstack(fill_value=0)\n",
    "event_per_day['target_actions'] = event_per_day[1] + event_per_day[2]\n",
    "\n",
    "fig, ax = plt.subplots(figsize=(15, 6))\n",
    "sns.barplot(event_per_day, x='timestamp', y='target_actions', ax=ax)\n",
    "\n",
    "plt.xticks (rotation=45)\n",
    "ax.set_xticks(ax.get_xticks()[::7])\n",
    "ax.tick_params(axis='x', which='minor', bottom=False)\n",
    "plt.show()\n",
    "\n",
    "#del event_per_day"
   ]
  },
  {
   "cell_type": "code",
   "execution_count": 72,
   "metadata": {},
   "outputs": [
    {
     "data": {
      "text/plain": [
       "<Axes: xlabel='timestamp'>"
      ]
     },
     "execution_count": 72,
     "metadata": {},
     "output_type": "execute_result"
    },
    {
     "data": {
      "image/png": "[encoded data removed]",
      "text/plain": [
       "<Figure size 640x480 with 1 Axes>"
      ]
     },
     "metadata": {},
     "output_type": "display_data"
    }
   ],
   "source": [
    "# кумулятивное количество целевых действий (для выбора split_date и inference_date)\n",
    "events_percent = (event_per_day / event_per_day.sum()).cumsum()\n",
    "events_percent.plot(kind='line', rot=45, grid=True)"
   ]
  },
  {
   "cell_type": "code",
   "execution_count": 73,
   "metadata": {},
   "outputs": [
    {
     "data": {
      "image/png": "[encoded data removed]",
      "text/plain": [
       "<Figure size 640x480 with 1 Axes>"
      ]
     },
     "metadata": {},
     "output_type": "display_data"
    }
   ],
   "source": [
    "# визуализируем количество целевых действий пользователей (добавление в корзину + покупки) по дням недели\n",
    "event_per_weekday = events.groupby(pd.to_datetime(events['timestamp'], unit='ms').dt.dayofweek)['event'] \\\n",
    "                          .value_counts().unstack(fill_value=0).drop(columns=[0]).astype(float)\n",
    "\n",
    "# для каждого дня недели делим value_counts на соответствующее число недель (к-во вхождений данного дня в диапазон дат)\n",
    "for dw in range(7):\n",
    "    event_per_weekday.loc[(pd.to_datetime(items['timestamp'].min(), unit='ms').dayofweek +dw)%7, :] /= (\n",
    "        pd.to_datetime(events['timestamp'].max(), unit='ms') - \n",
    "        pd.to_datetime(events['timestamp'].min()+ dw *1440*60*1000, unit='ms')\n",
    "    ).days // 7\n",
    "event_per_weekday.plot(kind='bar', stacked=True, color=['skyblue','red'])\n",
    "\n",
    "plt.xticks(range(7), labels=['пн','вт','ср','чт','пт','сб','вс'])\n",
    "plt.xlabel('День недели')\n",
    "plt.ylabel('Среднее число целевых действий')\n",
    "plt.title ('Добавления в корзину и покупки по дням недели')\n",
    "plt.legend(['добавления','покупки'])\n",
    "plt.show()\n",
    "\n",
    "del event_per_weekday"
   ]
  },
  {
   "attachments": {},
   "cell_type": "markdown",
   "metadata": {},
   "source": [
    "##### Из приведенных визуализаций следует:\n",
    "1. Подавляющее большинство клиентов являются \"однодневками\", совершающими некоторое количество взаимодействий с сервисом в течение одного-двух дней и больше не возвращающимися.\n",
    "2. Подавляющее большинство **целевых** взаимодействий (добавление в корзину/покупка) совершаются пользователями\n",
    "с ограниченным ассортиментом \"любимых\" товаров\n",
    "3. Явно выраженной сезонности в количестве как общих, так и целевых взаимодействий пользователей с системой не наблюдается.\n",
    "Вместе с тем, имеет место явное снижение количества целевых взаимодействий в отдельные дни недели (суббота, воскресенье и, отчасти, пятница)\n",
    "\n",
    "### ВЫВОДЫ\n",
    "1. Такая структура клиентской базы влечет за собой необходимость работы с очень большим количеством \"холодных\" пользователей, что повышает значимость онлайн-рекомендаций, основанных на подборе **_подобных_** товаров.\n",
    "2. В качестве \"технологического окна\" для формирования новых рекомендаций на основе свежих данных целесообразно выбрать ночь с субботы на воскресенье.\n"
   ]
  },
  {
   "attachments": {},
   "cell_type": "markdown",
   "metadata": {},
   "source": [
    "## ФОРМИРОВАНИЕ РЕКОМЕНДАЦИЙ ##"
   ]
  },
  {
   "cell_type": "code",
   "execution_count": 74,
   "metadata": {},
   "outputs": [],
   "source": [
    "# загружаем очищенные данные\n",
    "\n",
    "with s3.open(f\"{S3_DIR}/data/category_tree.parquet\", mode='rb') as fd:\n",
    "    ctree = pd.read_parquet(fd)\n",
    "\n",
    "with s3.open(f\"{S3_DIR}/data/item_properties.parquet\", mode='rb') as fd:\n",
    "    items = pd.read_parquet(fd)\n",
    "\n",
    "with s3.open(f\"{S3_DIR}/data/item_categories.parquet\", mode='rb') as fd:\n",
    "    items_ctgr = pd.read_parquet(fd)\n",
    "\n",
    "with s3.open(f\"{S3_DIR}/data/item_availability.parquet\", mode='rb') as fd:\n",
    "    items_avail = pd.read_parquet(fd)\n",
    "\n",
    "with s3.open(f\"{S3_DIR}/data/events.parquet\", mode='rb') as fd:\n",
    "    events = pd.read_parquet(fd)\n",
    "\n",
    "with s3.open(f\"{S3_DIR}/data/transactions.parquet\", mode='rb') as fd:\n",
    "    transact = pd.read_parquet(fd)\n"
   ]
  },
  {
   "cell_type": "code",
   "execution_count": 75,
   "metadata": {},
   "outputs": [
    {
     "name": "stdout",
     "output_type": "stream",
     "text": [
      "Split date: 2015-08-15   Events percent: 74.4812   Hot users: 20123   Cold users: 272980\n",
      "Split date: 2015-08-16   Events percent: 75.0258   Hot users: 19964   Cold users: 266910\n",
      "Split date: 2015-08-17   Events percent: 75.6865   Hot users: 19839   Cold users: 259474\n",
      "Split date: 2015-08-18   Events percent: 76.5928   Hot users: 19542   Cold users: 249945\n",
      "Split date: 2015-08-19   Events percent: 77.4662   Hot users: 19190   Cold users: 240669\n",
      "Split date: 2015-08-20   Events percent: 78.3082   Hot users: 18777   Cold users: 231790\n",
      "Split date: 2015-08-21   Events percent: 79.0941   Hot users: 18378   Cold users: 223702\n",
      "Split date: 2015-08-22   Events percent: 79.8555   Hot users: 17939   Cold users: 215700\n",
      "Split date: 2015-08-23   Events percent: 80.4457   Hot users: 17663   Cold users: 209260\n",
      "Split date: 2015-08-24   Events percent: 81.059   Hot users: 17416   Cold users: 202206\n",
      "Split date: 2015-08-25   Events percent: 81.8905   Hot users: 16968   Cold users: 193398\n",
      "Split date: 2015-08-26   Events percent: 82.7072   Hot users: 16459   Cold users: 184829\n",
      "Split date: 2015-08-27   Events percent: 83.515   Hot users: 15956   Cold users: 176491\n",
      "Split date: 2015-08-28   Events percent: 84.3428   Hot users: 15389   Cold users: 167719\n",
      "Split date: 2015-08-29   Events percent: 85.1636   Hot users: 14831   Cold users: 159142\n",
      "Split date: 2015-08-30   Events percent: 85.781   Hot users: 14479   Cold users: 152371\n",
      "Split date: 2015-08-31   Events percent: 86.5063   Hot users: 14130   Cold users: 144728\n",
      "Split date: 2015-09-01   Events percent: 87.2726   Hot users: 13556   Cold users: 136301\n",
      "Split date: 2015-09-02   Events percent: 88.0315   Hot users: 13012   Cold users: 128277\n",
      "Split date: 2015-09-03   Events percent: 88.7898   Hot users: 12445   Cold users: 120259\n",
      "Split date: 2015-09-04   Events percent: 89.5555   Hot users: 11867   Cold users: 111886\n",
      "Split date: 2015-09-05   Events percent: 90.2681   Hot users: 11363   Cold users: 104160\n",
      "Split date: 2015-09-06   Events percent: 90.8744   Hot users: 10971   Cold users: 97595\n",
      "Split date: 2015-09-07   Events percent: 91.5171   Hot users: 10447   Cold users: 90531\n",
      "Split date: 2015-09-08   Events percent: 92.3715   Hot users: 9732   Cold users: 81461\n",
      "Split date: 2015-09-09   Events percent: 93.2563   Hot users: 9021   Cold users: 72115\n",
      "Split date: 2015-09-10   Events percent: 94.163   Hot users: 8095   Cold users: 62625\n"
     ]
    }
   ],
   "source": [
    "# смотрим данные для выбора train_test_split_date и inference_split_date\n",
    "\n",
    "for date in pd.date_range(start=pd.to_datetime(\"2015-08-15\"), end=pd.to_datetime(\"2015-09-10\"), freq='D'):\n",
    "    \n",
    "    train_test_global_time_split_idx = events['timestamp'] < pd.Timestamp(date).value/1000000\n",
    "    events_train = events[train_test_global_time_split_idx]\n",
    "    events_test  = events[~train_test_global_time_split_idx]\n",
    "\n",
    "    hot_users = events_test[events_test['visitorid'].isin(events_train['visitorid'].unique())]['visitorid'].unique()\n",
    "    print(\n",
    "        \"Split date:\", pd.to_datetime(pd.Timestamp(date).value/1000000, unit='ms').date(),\n",
    "        \"  Events percent:\", round(events_train.shape[0] / events.shape[0] *100, 4),\n",
    "        \"  Hot users:\", len(hot_users),\n",
    "        \"  Cold users:\", events_test.query(\"visitorid not in @hot_users\")['visitorid'].nunique()\n",
    "    )\n"
   ]
  },
  {
   "cell_type": "code",
   "execution_count": 76,
   "metadata": {},
   "outputs": [
    {
     "data": {
      "text/plain": [
       "(timestamp        0\n",
       " visitorid        0\n",
       " event            0\n",
       " itemid           0\n",
       " transactionid    0\n",
       " categoryid       0\n",
       " available        0\n",
       " root             0\n",
       " dtype: int64,\n",
       " Series([], Name: count, dtype: int64))"
      ]
     },
     "execution_count": 76,
     "metadata": {},
     "output_type": "execute_result"
    }
   ],
   "source": [
    "# разбиваем данные на тренировочную, валидационную и тестовую выборки\n",
    "\n",
    "train_test_split_date = pd.to_datetime(\"2015-08-19\")        # берем в train порядка 77% events (среда)\n",
    "inference_split_date  = pd.to_datetime(\"2015-09-02\")        # среда, разбивающая тестовую выборку почти пополам\n",
    "if INFER_MODE: train_test_split_date = inference_split_date # для расчета inference расширяем train-набор\n",
    "\n",
    "\n",
    "train_test_global_time_split_idx = pd.to_datetime(events['timestamp'], unit='ms') < train_test_split_date\n",
    "events_train = events[train_test_global_time_split_idx].copy()\n",
    "events_test  = events[~train_test_global_time_split_idx] #.copy()\n",
    "del train_test_global_time_split_idx\n",
    "\n",
    "# пользователи, для которых понадобятся персональные рекомендации\n",
    "hot_users = events_test[events_test['visitorid'].isin(events_train['visitorid'].unique())]['visitorid'].unique()\n",
    "\n",
    "# выделяем из тестовой выборки валидационную (events_target)\n",
    "target_test_global_time_split_idx = pd.to_datetime(events_test['timestamp'], unit='ms') < inference_split_date\n",
    "events_target = events_test[target_test_global_time_split_idx].copy()\n",
    "events_test   = events_test[~target_test_global_time_split_idx].copy()\n",
    "del target_test_global_time_split_idx\n",
    "del events\n",
    "\n",
    "if INFER_MODE and events_target.shape[0] > 0:\n",
    "    raise Exception(\"В режиме INFER_MODE events_target должен быть ПУСТЫМ\")\n",
    "events_target.nunique(), events_target['event'].value_counts()"
   ]
  },
  {
   "cell_type": "code",
   "execution_count": 77,
   "metadata": {},
   "outputs": [
    {
     "data": {
      "text/plain": [
       "(timestamp        250850\n",
       " visitorid        141289\n",
       " event                 3\n",
       " itemid            65128\n",
       " transactionid      1647\n",
       " categoryid         1005\n",
       " available             2\n",
       " root                 22\n",
       " dtype: int64,\n",
       " event\n",
       " 0    242217\n",
       " 1      6929\n",
       " 2      2093\n",
       " Name: count, dtype: int64)"
      ]
     },
     "execution_count": 77,
     "metadata": {},
     "output_type": "execute_result"
    }
   ],
   "source": [
    "events_test.nunique(), events_test['event'].value_counts()"
   ]
  },
  {
   "attachments": {},
   "cell_type": "markdown",
   "metadata": {},
   "source": [
    "### Расчет персональных коллаборативных рекомендаций ###"
   ]
  },
  {
   "cell_type": "code",
   "execution_count": 78,
   "metadata": {},
   "outputs": [
    {
     "data": {
      "text/plain": [
       "<threadpoolctl.threadpool_limits at 0x7f93e3c2cb80>"
      ]
     },
     "execution_count": 78,
     "metadata": {},
     "output_type": "execute_result"
    }
   ],
   "source": [
    "import scipy\n",
    "from implicit.als            import AlternatingLeastSquares\n",
    "from implicit.evaluation     import mean_average_precision_at_k, precision_at_k\n",
    "from sklearn.model_selection import ParameterGrid\n",
    "from catboost                import CatBoostClassifier, Pool\n",
    "from threadpoolctl           import threadpool_limits\n",
    "threadpool_limits(1, \"blas\")\n"
   ]
  },
  {
   "cell_type": "code",
   "execution_count": 79,
   "metadata": {},
   "outputs": [],
   "source": [
    "def als_validate(csr_train, csr_val, k=10, **kwargs):\n",
    "    ''' Обучает и валидирует ALS с заданными гиперпараметрами '''\n",
    "    model = AlternatingLeastSquares(random_state=RANDOM_STATE, **kwargs)\n",
    "    model.fit(csr_train)\n",
    "    map_k = mean_average_precision_at_k(model, csr_train, csr_val, k, show_progress=False)\n",
    "    print(f\"{kwargs} ==> MAP@{k}: {map_k:6.5f}\")\n",
    "    #map_k = precision_at_k(model, csr_train, csr_val, k, show_progress=False)\n",
    "    #print(f\"{kwargs} ==> Precision@{k}: {map_k:6.5f}\")\n",
    "    return  model, map_k\n",
    "\n",
    "\n",
    "def als_train(csr_train, csr_val, **hyper_params):\n",
    "    ''' Обучает ALS с возможным подбором гиперпараметров '''\n",
    "\n",
    "    if hyper_params:\n",
    "        model = AlternatingLeastSquares(random_state=RANDOM_STATE, **hyper_params)\n",
    "        model.fit(csr_train)\n",
    "        return  model, hyper_params\n",
    "    \n",
    "    grid = {\n",
    "        'alpha':     [100.0], 'regularization':[0.005,1.0], \n",
    "        'iterations':[15,10],        'factors':[150,100]\n",
    "    }\n",
    "    best_metric = 0\n",
    "    best_params = {}\n",
    "    best_model  = None\n",
    "\n",
    "    for params in list(ParameterGrid(grid)):\n",
    "        model, metric = als_validate(csr_train, csr_val, **params)\n",
    "        if metric > best_metric:\n",
    "            best_metric = metric\n",
    "            best_params = params\n",
    "            best_model  = model\n",
    "    return  best_model, best_params\n",
    "\n"
   ]
  },
  {
   "cell_type": "code",
   "execution_count": 80,
   "metadata": {},
   "outputs": [],
   "source": [
    "def calc_item_rating(df):\n",
    "    ''' Формирует вектор рейтинга взаимодействий: наличие просмотров + добавления в корзину + покупки*2 '''\n",
    "    return ((df[0] > 0) + df[1] + df[2]*2).astype(np.int16)\n",
    "\n",
    "def user_item_matrix(events_set, users):\n",
    "    ''' Формирует и возвращает матрицу взаимодействий в dense и sparse формате '''\n",
    "    user_item = events_set.query(\"visitorid in @users\").groupby(['visitorid','itemid'])['event'] \\\n",
    "                          .value_counts().unstack(fill_value=0).reset_index()\n",
    "    \n",
    "    # формируем рейтинг взаимодействий\n",
    "    user_item['rating'] = calc_item_rating(user_item)  #((user_item[0] > 0) + user_item[1] + user_item[2]*2).astype(np.int16)\n",
    "    return user_item, scipy.sparse.csr_matrix(\n",
    "          (user_item['rating'], (user_item['visitorid'], user_item['itemid']))\n",
    "    )\n"
   ]
  },
  {
   "cell_type": "code",
   "execution_count": 81,
   "metadata": {},
   "outputs": [
    {
     "data": {
      "text/html": [
       "<div>\n",
       "<style scoped>\n",
       "    .dataframe tbody tr th:only-of-type {\n",
       "        vertical-align: middle;\n",
       "    }\n",
       "\n",
       "    .dataframe tbody tr th {\n",
       "        vertical-align: top;\n",
       "    }\n",
       "\n",
       "    .dataframe thead th {\n",
       "        text-align: right;\n",
       "    }\n",
       "</style>\n",
       "<table border=\"1\" class=\"dataframe\">\n",
       "  <thead>\n",
       "    <tr style=\"text-align: right;\">\n",
       "      <th>event</th>\n",
       "      <th>visitorid</th>\n",
       "      <th>itemid</th>\n",
       "      <th>0</th>\n",
       "      <th>1</th>\n",
       "      <th>2</th>\n",
       "      <th>rating</th>\n",
       "    </tr>\n",
       "  </thead>\n",
       "  <tbody>\n",
       "    <tr>\n",
       "      <th>6807</th>\n",
       "      <td>6958</td>\n",
       "      <td>431417</td>\n",
       "      <td>5</td>\n",
       "      <td>29</td>\n",
       "      <td>1</td>\n",
       "      <td>32</td>\n",
       "    </tr>\n",
       "    <tr>\n",
       "      <th>6780</th>\n",
       "      <td>6958</td>\n",
       "      <td>184011</td>\n",
       "      <td>1</td>\n",
       "      <td>26</td>\n",
       "      <td>1</td>\n",
       "      <td>29</td>\n",
       "    </tr>\n",
       "    <tr>\n",
       "      <th>6796</th>\n",
       "      <td>6958</td>\n",
       "      <td>339822</td>\n",
       "      <td>3</td>\n",
       "      <td>24</td>\n",
       "      <td>1</td>\n",
       "      <td>27</td>\n",
       "    </tr>\n",
       "    <tr>\n",
       "      <th>6799</th>\n",
       "      <td>6958</td>\n",
       "      <td>374855</td>\n",
       "      <td>8</td>\n",
       "      <td>25</td>\n",
       "      <td>0</td>\n",
       "      <td>26</td>\n",
       "    </tr>\n",
       "    <tr>\n",
       "      <th>154199</th>\n",
       "      <td>152963</td>\n",
       "      <td>119736</td>\n",
       "      <td>10</td>\n",
       "      <td>0</td>\n",
       "      <td>12</td>\n",
       "      <td>25</td>\n",
       "    </tr>\n",
       "  </tbody>\n",
       "</table>\n",
       "</div>"
      ],
      "text/plain": [
       "event   visitorid  itemid   0   1   2  rating\n",
       "6807         6958  431417   5  29   1      32\n",
       "6780         6958  184011   1  26   1      29\n",
       "6796         6958  339822   3  24   1      27\n",
       "6799         6958  374855   8  25   0      26\n",
       "154199     152963  119736  10   0  12      25"
      ]
     },
     "execution_count": 81,
     "metadata": {},
     "output_type": "execute_result"
    }
   ],
   "source": [
    "# матрица взаимодействий на тренировочной выборке\n",
    "user_item_train, user_item_matrix_train = user_item_matrix(events_train, events_train['visitorid'].unique())\n",
    "#user_item_train, user_item_matrix_train = user_item_matrix(events_train, hot_users)\n",
    "user_item_train.sort_values (by='rating', ascending=False).head()\n"
   ]
  },
  {
   "cell_type": "code",
   "execution_count": 82,
   "metadata": {},
   "outputs": [
    {
     "data": {
      "text/html": [
       "<div>\n",
       "<style scoped>\n",
       "    .dataframe tbody tr th:only-of-type {\n",
       "        vertical-align: middle;\n",
       "    }\n",
       "\n",
       "    .dataframe tbody tr th {\n",
       "        vertical-align: top;\n",
       "    }\n",
       "\n",
       "    .dataframe thead th {\n",
       "        text-align: right;\n",
       "    }\n",
       "</style>\n",
       "<table border=\"1\" class=\"dataframe\">\n",
       "  <thead>\n",
       "    <tr style=\"text-align: right;\">\n",
       "      <th>event</th>\n",
       "      <th>visitorid</th>\n",
       "      <th>itemid</th>\n",
       "      <th>0</th>\n",
       "      <th>1</th>\n",
       "      <th>2</th>\n",
       "      <th>rating</th>\n",
       "    </tr>\n",
       "  </thead>\n",
       "  <tbody>\n",
       "    <tr>\n",
       "      <th>13232</th>\n",
       "      <td>661052</td>\n",
       "      <td>204235</td>\n",
       "      <td>0</td>\n",
       "      <td>12</td>\n",
       "      <td>0</td>\n",
       "      <td>12</td>\n",
       "    </tr>\n",
       "    <tr>\n",
       "      <th>10200</th>\n",
       "      <td>518659</td>\n",
       "      <td>387697</td>\n",
       "      <td>12</td>\n",
       "      <td>2</td>\n",
       "      <td>3</td>\n",
       "      <td>9</td>\n",
       "    </tr>\n",
       "    <tr>\n",
       "      <th>1147</th>\n",
       "      <td>75630</td>\n",
       "      <td>79056</td>\n",
       "      <td>12</td>\n",
       "      <td>2</td>\n",
       "      <td>3</td>\n",
       "      <td>9</td>\n",
       "    </tr>\n",
       "    <tr>\n",
       "      <th>23963</th>\n",
       "      <td>1172087</td>\n",
       "      <td>312728</td>\n",
       "      <td>5</td>\n",
       "      <td>0</td>\n",
       "      <td>4</td>\n",
       "      <td>9</td>\n",
       "    </tr>\n",
       "    <tr>\n",
       "      <th>24700</th>\n",
       "      <td>1213423</td>\n",
       "      <td>185863</td>\n",
       "      <td>4</td>\n",
       "      <td>3</td>\n",
       "      <td>2</td>\n",
       "      <td>8</td>\n",
       "    </tr>\n",
       "  </tbody>\n",
       "</table>\n",
       "</div>"
      ],
      "text/plain": [
       "event  visitorid  itemid   0   1  2  rating\n",
       "13232     661052  204235   0  12  0      12\n",
       "10200     518659  387697  12   2  3       9\n",
       "1147       75630   79056  12   2  3       9\n",
       "23963    1172087  312728   5   0  4       9\n",
       "24700    1213423  185863   4   3  2       8"
      ]
     },
     "execution_count": 82,
     "metadata": {},
     "output_type": "execute_result"
    }
   ],
   "source": [
    "# матрица взаимодействий на валидационной выборке\n",
    "user_item_val, user_item_matrix_val = user_item_matrix(events_test  if INFER_MODE  else events_target, hot_users)\n",
    "user_item_val.sort_values (by='rating', ascending=False).head()\n"
   ]
  },
  {
   "cell_type": "code",
   "execution_count": 83,
   "metadata": {},
   "outputs": [
    {
     "data": {
      "application/vnd.jupyter.widget-view+json": {
       "model_id": "cb4bb4917d4a46e182333093d52cf57b",
       "version_major": 2,
       "version_minor": 0
      },
      "text/plain": [
       "  0%|          | 0/10 [00:00<?, ?it/s]"
      ]
     },
     "metadata": {},
     "output_type": "display_data"
    },
    {
     "data": {
      "text/plain": [
       "{'alpha': 100.0, 'factors': 150, 'iterations': 10, 'regularization': 0.005}"
      ]
     },
     "execution_count": 83,
     "metadata": {},
     "output_type": "execute_result"
    }
   ],
   "source": [
    "%%exec_if CALC_ALS\n",
    "\n",
    "# Обучаем и сохраняем ALS-модель (гиперпараметры по умолчанию подобраны в режиме ALS_GRID==True)\n",
    "als_params = {} if ALS_GRID  else {'alpha': 100.0, 'factors': 150, 'iterations': 10, 'regularization': 0.005}\n",
    "als_model, als_params = als_train (user_item_matrix_train, user_item_matrix_val, **als_params)\n",
    "\n",
    "if ALS_GRID:\n",
    "    with open(f\"{DATA_DIR}/als_params.txt\", mode='w') as fd:\n",
    "        print(als_params, file=fd)\n",
    "    with s3.open(f\"{S3_DIR}/data/als_params.pkl\", mode='wb') as fd:\n",
    "        joblib.dump (als_params, fd)\n",
    "\n",
    "with s3.open(f\"{S3_DIR}/data/als_model{'_infer' if INFER_MODE else ''}.pkl\", mode='wb') as fd:\n",
    "    joblib.dump (als_model, fd)\n",
    "\n",
    "als_params"
   ]
  },
  {
   "cell_type": "code",
   "execution_count": 84,
   "metadata": {},
   "outputs": [],
   "source": [
    "%%exec_if not CALC_ALS\n",
    "\n",
    "# загружаем ранее сохраненную модель\n",
    "with s3.open(f\"{S3_DIR}/data/als_model{'_infer' if INFER_MODE else ''}.pkl\", mode='rb') as fd:\n",
    "    als_model = joblib.load(fd)"
   ]
  },
  {
   "cell_type": "code",
   "execution_count": 85,
   "metadata": {},
   "outputs": [
    {
     "data": {
      "text/plain": [
       "<Compressed Sparse Row sparse matrix of dtype 'int16'\n",
       "\twith 1426126 stored elements and shape (1407580, 466865)>"
      ]
     },
     "execution_count": 85,
     "metadata": {},
     "output_type": "execute_result"
    }
   ],
   "source": [
    "user_item_matrix_train"
   ]
  },
  {
   "cell_type": "code",
   "execution_count": 86,
   "metadata": {},
   "outputs": [
    {
     "name": "stdout",
     "output_type": "stream",
     "text": [
      "(13012, 15)\n"
     ]
    }
   ],
   "source": [
    "%%exec_if CALC_RECS\n",
    "\n",
    "# получаем рекомендации для \"горячих\" пользователей\n",
    "RECS_PER_USER = 15\n",
    "als_recommendations = als_model.recommend(\n",
    "    hot_users, \n",
    "    user_item_matrix_train[hot_users], \n",
    "    filter_already_liked_items=True, N=RECS_PER_USER\n",
    ")\n",
    "print(als_recommendations[0].shape)\n",
    "\n",
    "personal_als  = pd.DataFrame({\n",
    "    'itemid'   : als_recommendations[0].ravel(),\n",
    "    'als_score': als_recommendations[1].ravel()\n",
    "}, index=pd.MultiIndex.from_product([hot_users, range(RECS_PER_USER)], names=['visitorid', 'als_rank'])).reset_index()\n",
    "\n",
    "del als_recommendations, user_item_matrix_train\n",
    "\n",
    "with s3.open(f\"{S3_DIR}/data/personal_als{'_infer' if INFER_MODE else ''}.parquet\", mode='wb') as fd:\n",
    "    personal_als.to_parquet(fd)\n",
    "\n"
   ]
  },
  {
   "cell_type": "code",
   "execution_count": 87,
   "metadata": {},
   "outputs": [],
   "source": [
    "%%exec_if not CALC_RECS\n",
    "with s3.open(f\"{S3_DIR}/data/personal_als{'_infer' if INFER_MODE else ''}.parquet\", mode='rb') as fd:\n",
    "    personal_als = pd.read_parquet(fd)"
   ]
  },
  {
   "cell_type": "code",
   "execution_count": 88,
   "metadata": {},
   "outputs": [
    {
     "name": "stdout",
     "output_type": "stream",
     "text": [
      "<class 'pandas.core.frame.DataFrame'>\n",
      "RangeIndex: 195180 entries, 0 to 195179\n",
      "Data columns (total 4 columns):\n",
      " #   Column     Non-Null Count   Dtype  \n",
      "---  ------     --------------   -----  \n",
      " 0   visitorid  195180 non-null  int64  \n",
      " 1   als_rank   195180 non-null  int64  \n",
      " 2   itemid     195180 non-null  int32  \n",
      " 3   als_score  195180 non-null  float32\n",
      "dtypes: float32(1), int32(1), int64(2)\n",
      "memory usage: 4.5 MB\n"
     ]
    }
   ],
   "source": [
    "personal_als.info(show_counts=True)"
   ]
  },
  {
   "cell_type": "code",
   "execution_count": 89,
   "metadata": {},
   "outputs": [
    {
     "data": {
      "text/html": [
       "<div>\n",
       "<style scoped>\n",
       "    .dataframe tbody tr th:only-of-type {\n",
       "        vertical-align: middle;\n",
       "    }\n",
       "\n",
       "    .dataframe tbody tr th {\n",
       "        vertical-align: top;\n",
       "    }\n",
       "\n",
       "    .dataframe thead th {\n",
       "        text-align: right;\n",
       "    }\n",
       "</style>\n",
       "<table border=\"1\" class=\"dataframe\">\n",
       "  <thead>\n",
       "    <tr style=\"text-align: right;\">\n",
       "      <th></th>\n",
       "      <th>items</th>\n",
       "      <th>clicks</th>\n",
       "      <th>addtochart</th>\n",
       "      <th>purchase</th>\n",
       "      <th>rating</th>\n",
       "    </tr>\n",
       "    <tr>\n",
       "      <th>visitorid</th>\n",
       "      <th></th>\n",
       "      <th></th>\n",
       "      <th></th>\n",
       "      <th></th>\n",
       "      <th></th>\n",
       "    </tr>\n",
       "  </thead>\n",
       "  <tbody>\n",
       "    <tr>\n",
       "      <th>283553</th>\n",
       "      <td>8</td>\n",
       "      <td>39</td>\n",
       "      <td>2</td>\n",
       "      <td>1</td>\n",
       "      <td>12</td>\n",
       "    </tr>\n",
       "    <tr>\n",
       "      <th>1114419</th>\n",
       "      <td>5</td>\n",
       "      <td>35</td>\n",
       "      <td>0</td>\n",
       "      <td>0</td>\n",
       "      <td>5</td>\n",
       "    </tr>\n",
       "    <tr>\n",
       "      <th>221662</th>\n",
       "      <td>2</td>\n",
       "      <td>4</td>\n",
       "      <td>1</td>\n",
       "      <td>1</td>\n",
       "      <td>5</td>\n",
       "    </tr>\n",
       "    <tr>\n",
       "      <th>741985</th>\n",
       "      <td>5</td>\n",
       "      <td>18</td>\n",
       "      <td>0</td>\n",
       "      <td>0</td>\n",
       "      <td>5</td>\n",
       "    </tr>\n",
       "    <tr>\n",
       "      <th>981375</th>\n",
       "      <td>3</td>\n",
       "      <td>2</td>\n",
       "      <td>4</td>\n",
       "      <td>0</td>\n",
       "      <td>5</td>\n",
       "    </tr>\n",
       "    <tr>\n",
       "      <th>...</th>\n",
       "      <td>...</td>\n",
       "      <td>...</td>\n",
       "      <td>...</td>\n",
       "      <td>...</td>\n",
       "      <td>...</td>\n",
       "    </tr>\n",
       "    <tr>\n",
       "      <th>508015</th>\n",
       "      <td>1</td>\n",
       "      <td>1</td>\n",
       "      <td>0</td>\n",
       "      <td>0</td>\n",
       "      <td>1</td>\n",
       "    </tr>\n",
       "    <tr>\n",
       "      <th>508673</th>\n",
       "      <td>1</td>\n",
       "      <td>1</td>\n",
       "      <td>0</td>\n",
       "      <td>0</td>\n",
       "      <td>1</td>\n",
       "    </tr>\n",
       "    <tr>\n",
       "      <th>512866</th>\n",
       "      <td>1</td>\n",
       "      <td>1</td>\n",
       "      <td>0</td>\n",
       "      <td>0</td>\n",
       "      <td>1</td>\n",
       "    </tr>\n",
       "    <tr>\n",
       "      <th>517424</th>\n",
       "      <td>1</td>\n",
       "      <td>1</td>\n",
       "      <td>0</td>\n",
       "      <td>0</td>\n",
       "      <td>1</td>\n",
       "    </tr>\n",
       "    <tr>\n",
       "      <th>1406032</th>\n",
       "      <td>1</td>\n",
       "      <td>1</td>\n",
       "      <td>0</td>\n",
       "      <td>0</td>\n",
       "      <td>1</td>\n",
       "    </tr>\n",
       "  </tbody>\n",
       "</table>\n",
       "<p>800 rows × 5 columns</p>\n",
       "</div>"
      ],
      "text/plain": [
       "           items  clicks  addtochart  purchase  rating\n",
       "visitorid                                             \n",
       "283553         8      39           2         1      12\n",
       "1114419        5      35           0         0       5\n",
       "221662         2       4           1         1       5\n",
       "741985         5      18           0         0       5\n",
       "981375         3       2           4         0       5\n",
       "...          ...     ...         ...       ...     ...\n",
       "508015         1       1           0         0       1\n",
       "508673         1       1           0         0       1\n",
       "512866         1       1           0         0       1\n",
       "517424         1       1           0         0       1\n",
       "1406032        1       1           0         0       1\n",
       "\n",
       "[800 rows x 5 columns]"
      ]
     },
     "execution_count": 89,
     "metadata": {},
     "output_type": "execute_result"
    }
   ],
   "source": [
    "# удачные рекомендации...\n",
    "\n",
    "personal_als.merge(\n",
    "    user_item_val, how='inner', on=['visitorid','itemid']\n",
    ").groupby('visitorid').agg(\n",
    "    items=('itemid','count'), clicks=(0,'sum'), addtochart=(1,'sum'), purchase=(2,'sum'), rating=('rating','sum')\n",
    ").sort_values(by='rating', ascending=False)"
   ]
  },
  {
   "attachments": {},
   "cell_type": "markdown",
   "metadata": {},
   "source": [
    "### Расчет ALS-схожести объектов ###"
   ]
  },
  {
   "cell_type": "code",
   "execution_count": 90,
   "metadata": {},
   "outputs": [],
   "source": [
    "%%exec_if CALC_RECS\n",
    "\n",
    "# получаем подобные для всех товаров, попавших в рекомендации\n",
    "SIMS_PER_ITEM = 20\n",
    "sim_items = als_model.similar_items(personal_als['itemid'].unique(), N=SIMS_PER_ITEM)\n",
    "\n",
    "als_similar = pd.DataFrame({\n",
    "    'sim_itemid': sim_items[0].ravel(),\n",
    "    'sim_score' : sim_items[1].ravel()\n",
    "}, index=pd.MultiIndex.from_product(\n",
    "    [personal_als['itemid'].unique(), range(SIMS_PER_ITEM)], names=['itemid', 'sim_rank']\n",
    ")).reset_index()\n",
    "\n",
    "with s3.open(f\"{S3_DIR}/data/als_similar{'_infer' if INFER_MODE else ''}.parquet\", mode='wb') as fd:\n",
    "    als_similar.to_parquet(fd)\n",
    "    \n",
    "del sim_items"
   ]
  },
  {
   "cell_type": "code",
   "execution_count": 91,
   "metadata": {},
   "outputs": [],
   "source": [
    "%%exec_if not CALC_RECS\n",
    "with s3.open(f\"{S3_DIR}/data/als_similar{'_infer' if INFER_MODE else ''}.parquet\", mode='rb') as fd:\n",
    "    als_similar = pd.read_parquet(fd)"
   ]
  },
  {
   "cell_type": "code",
   "execution_count": 92,
   "metadata": {},
   "outputs": [
    {
     "name": "stdout",
     "output_type": "stream",
     "text": [
      "   itemid  sim_rank  sim_itemid  sim_score\n",
      "0  306763         0      306763   1.000000\n",
      "1  306763         1      392837   0.992629\n",
      "2  306763         2       30444   0.992460\n",
      "3  306763         3      396452   0.991768\n",
      "4  306763         4      381990   0.880415 \n",
      "\n",
      "<class 'pandas.core.frame.DataFrame'>\n",
      "RangeIndex: 243940 entries, 0 to 243939\n",
      "Data columns (total 4 columns):\n",
      " #   Column      Non-Null Count   Dtype  \n",
      "---  ------      --------------   -----  \n",
      " 0   itemid      243940 non-null  int32  \n",
      " 1   sim_rank    243940 non-null  int64  \n",
      " 2   sim_itemid  243940 non-null  int32  \n",
      " 3   sim_score   243940 non-null  float32\n",
      "dtypes: float32(1), int32(2), int64(1)\n",
      "memory usage: 4.7 MB\n"
     ]
    }
   ],
   "source": [
    "print(als_similar.head(),'\\n')\n",
    "als_similar.info()"
   ]
  },
  {
   "attachments": {},
   "cell_type": "markdown",
   "metadata": {},
   "source": [
    "### Наиболее популярные товары"
   ]
  },
  {
   "cell_type": "code",
   "execution_count": 93,
   "metadata": {},
   "outputs": [],
   "source": [
    "%%exec_if CALC_RECS\n",
    "from sklearn.preprocessing import MinMaxScaler\n",
    "\n",
    "# наиболее покупаемые товары в тренировочной выборке\n",
    "top_popular = events_train.groupby(['itemid'])['event'].value_counts().unstack(fill_value=0) \\\n",
    "                          .sort_values(by=2,ascending=False).head(100)\n",
    "\n",
    "# считаем и масштабируем рейтинг популярности\n",
    "top_popular['rating']    = calc_item_rating(top_popular)\n",
    "top_popular['pop_score'] = MinMaxScaler().fit_transform(top_popular['rating'].to_frame())\n",
    "\n",
    "# сортируем по скорингу\n",
    "top_popular = top_popular[['rating','pop_score']].sort_values(by='rating',ascending=False).reset_index()\n",
    "\n",
    "with s3.open(f\"{S3_DIR}/data/top_popular{'_infer' if INFER_MODE else ''}.parquet\", mode='wb') as fd:\n",
    "    top_popular.to_parquet(fd)"
   ]
  },
  {
   "cell_type": "code",
   "execution_count": 94,
   "metadata": {},
   "outputs": [],
   "source": [
    "%%exec_if not CALC_RECS\n",
    "with s3.open(f\"{S3_DIR}/data/top_popular{'_infer' if INFER_MODE else ''}.parquet\", mode='rb') as fd:\n",
    "    top_popular = pd.read_parquet(fd)"
   ]
  },
  {
   "cell_type": "code",
   "execution_count": 95,
   "metadata": {},
   "outputs": [
    {
     "name": "stdout",
     "output_type": "stream",
     "text": [
      "event  itemid  rating  pop_score\n",
      "0      461686     461   1.000000\n",
      "1      312728     220   0.443418\n",
      "2       48030     178   0.346420\n",
      "3      445351     161   0.307159\n",
      "4      320130     146   0.272517 \n",
      "\n",
      "<class 'pandas.core.frame.DataFrame'>\n",
      "RangeIndex: 100 entries, 0 to 99\n",
      "Data columns (total 3 columns):\n",
      " #   Column     Non-Null Count  Dtype  \n",
      "---  ------     --------------  -----  \n",
      " 0   itemid     100 non-null    int64  \n",
      " 1   rating     100 non-null    int16  \n",
      " 2   pop_score  100 non-null    float64\n",
      "dtypes: float64(1), int16(1), int64(1)\n",
      "memory usage: 1.9 KB\n"
     ]
    }
   ],
   "source": [
    "print(top_popular.head(),'\\n')\n",
    "top_popular.info()"
   ]
  },
  {
   "cell_type": "code",
   "execution_count": 96,
   "metadata": {},
   "outputs": [
    {
     "name": "stdout",
     "output_type": "stream",
     "text": [
      "<class 'pandas.core.frame.DataFrame'>\n",
      "RangeIndex: 2437785 entries, 0 to 2437784\n",
      "Data columns (total 5 columns):\n",
      " #   Column     Non-Null Count    Dtype  \n",
      "---  ------     --------------    -----  \n",
      " 0   visitorid  2437785 non-null  int64  \n",
      " 1   itemid     2437785 non-null  int32  \n",
      " 2   sim_score  2437785 non-null  float32\n",
      " 3   als_score  195180 non-null   float32\n",
      " 4   pop_score  16491 non-null    float64\n",
      "dtypes: float32(2), float64(1), int32(1), int64(1)\n",
      "memory usage: 65.1 MB\n"
     ]
    }
   ],
   "source": [
    "# объединяем информацию из personal_als, als_similar и top_popular в привязке к visitorid\n",
    "\n",
    "candidades = personal_als[['visitorid','itemid']].merge(\n",
    "    als_similar, how='left', on='itemid'\n",
    ").groupby(['visitorid','sim_itemid']).agg(\n",
    "    sim_score=('sim_score','max')\n",
    ").reset_index().rename(\n",
    "    columns={'sim_itemid': 'itemid'} \n",
    ").merge(\n",
    "    personal_als[['visitorid','itemid','als_score']], how='outer', on=['visitorid','itemid']\n",
    ").merge(\n",
    "    top_popular[['itemid','pop_score']], how='left', on='itemid'\n",
    ")\n",
    "candidades.info(show_counts=True)"
   ]
  },
  {
   "attachments": {},
   "cell_type": "markdown",
   "metadata": {},
   "source": [
    "### Формируем дополнительные признаки"
   ]
  },
  {
   "cell_type": "code",
   "execution_count": 97,
   "metadata": {},
   "outputs": [],
   "source": [
    "%%exec_if not INFER_MODE\n",
    "\n",
    "# формируем таргет для модели ранжирования (добавления в корзину и покупки)\n",
    "events_target['target'] = (events_target['event'] > 0).astype(np.int8)\n",
    "\n",
    "# расширяем состав candidades за счет положительных сэмплов из events_target\n",
    "candidades = candidades.merge(\n",
    "    events_target.groupby(['visitorid','itemid']).agg(target=('target','max')).reset_index().query(\n",
    "        \"visitorid in @hot_users and target > 0\"\n",
    "    ), \n",
    "    how='outer', on=['visitorid','itemid']\n",
    ")\n",
    "candidades[\"target\"] = candidades[\"target\"].fillna(0).astype(np.int8)\n",
    "\n",
    "candidades.info(show_counts=True)"
   ]
  },
  {
   "cell_type": "code",
   "execution_count": 98,
   "metadata": {},
   "outputs": [
    {
     "data": {
      "text/plain": [
       "visitorid     13012\n",
       "itemid        69427\n",
       "sim_score    164675\n",
       "als_score    189794\n",
       "pop_score        56\n",
       "dtype: int64"
      ]
     },
     "execution_count": 98,
     "metadata": {},
     "output_type": "execute_result"
    }
   ],
   "source": [
    "candidades.nunique()"
   ]
  },
  {
   "cell_type": "code",
   "execution_count": 99,
   "metadata": {},
   "outputs": [
    {
     "name": "stdout",
     "output_type": "stream",
     "text": [
      "<class 'pandas.core.frame.DataFrame'>\n",
      "RangeIndex: 13012 entries, 0 to 13011\n",
      "Data columns (total 6 columns):\n",
      " #   Column         Non-Null Count  Dtype  \n",
      "---  ------         --------------  -----  \n",
      " 0   visitorid      13012 non-null  int64  \n",
      " 1   stage          13012 non-null  int64  \n",
      " 2   nclicks        13012 non-null  int64  \n",
      " 3   nbuys          13012 non-null  int64  \n",
      " 4   click_per_day  13012 non-null  float64\n",
      " 5   buy_per_click  13012 non-null  float64\n",
      "dtypes: float64(2), int64(4)\n",
      "memory usage: 610.1 KB\n"
     ]
    }
   ],
   "source": [
    "# простейшие признаки пользователя - \"стаж\" и активность в train-периоде\n",
    "\n",
    "user_features = events_train.query(\"visitorid in @hot_users\").groupby(\"visitorid\").agg(\n",
    "    stage  =('timestamp', lambda x: (train_test_split_date - pd.to_datetime(x.min(),unit='ms')).days +1),\n",
    "    nclicks=('timestamp', 'count'),\n",
    "    nbuys  =('transactionid', 'count')\n",
    ").reset_index()\n",
    "user_features[\"click_per_day\"] = user_features[\"nclicks\"] / user_features[\"stage\"]\n",
    "\n",
    "# конверсия\n",
    "user_features[\"buy_per_click\"] = user_features[\"nbuys\"]   / user_features[\"nclicks\"]\n",
    "\n",
    "user_features.info(show_counts=True)"
   ]
  },
  {
   "cell_type": "code",
   "execution_count": 100,
   "metadata": {},
   "outputs": [
    {
     "name": "stdout",
     "output_type": "stream",
     "text": [
      "<class 'pandas.core.frame.DataFrame'>\n",
      "RangeIndex: 11050061 entries, 0 to 11050060\n",
      "Data columns (total 3 columns):\n",
      " #   Column      Non-Null Count     Dtype\n",
      "---  ------      --------------     -----\n",
      " 0   itemid      11050061 non-null  int64\n",
      " 1   property    11050061 non-null  int64\n",
      " 2   value_code  11050061 non-null  int64\n",
      "dtypes: int64(3)\n",
      "memory usage: 252.9 MB\n"
     ]
    }
   ],
   "source": [
    "# Получаем свойства товаров, актуальные на конец train-периода\n",
    "item_props = get_item_properties(events_train['timestamp'].max())\n",
    "item_props.info(show_counts=True)"
   ]
  },
  {
   "cell_type": "code",
   "execution_count": 101,
   "metadata": {},
   "outputs": [
    {
     "name": "stdout",
     "output_type": "stream",
     "text": [
      "<class 'pandas.core.frame.DataFrame'>\n",
      "RangeIndex: 2437785 entries, 0 to 2437784\n",
      "Data columns (total 3 columns):\n",
      " #   Column      Non-Null Count    Dtype  \n",
      "---  ------      --------------    -----  \n",
      " 0   visitorid   2437785 non-null  int64  \n",
      " 1   itemid      2437785 non-null  int32  \n",
      " 2   prop_score  2437785 non-null  float64\n",
      "dtypes: float64(1), int32(1), int64(1)\n",
      "memory usage: 46.5 MB\n"
     ]
    }
   ],
   "source": [
    "# считаем скоринг предпочтений пользователей по категориальным свойствам товаров\n",
    "user_item_prop = candidades[['visitorid','itemid']].merge(\n",
    "    item_props.query(\"itemid in @candidades['itemid'].unique() and property in @categorical_props\"), \n",
    "    how='left', on='itemid'\n",
    ")\n",
    "\n",
    "#user_prop_score = user_item_prop.groupby(['visitorid','property','value_code']).agg(\n",
    "user_prop_score = user_item_prop.groupby(['visitorid','property']).agg(\n",
    "    prop_score=('itemid','nunique')\n",
    ").reset_index()\n",
    "\n",
    "user_item_prop_score = user_item_prop.merge(\n",
    "    #user_prop_score, how='left', on=['visitorid','property','value_code']\n",
    "    user_prop_score, how='left', on=['visitorid','property']\n",
    ").groupby(['visitorid','itemid']).agg(\n",
    "    prop_score=('prop_score','mean')\n",
    ").fillna(0).reset_index()\n",
    "\n",
    "#del user_item_prop, user_prop_score, item_props, prop_vals\n",
    "user_item_prop_score.info(show_counts=True)"
   ]
  },
  {
   "cell_type": "code",
   "execution_count": 102,
   "metadata": {},
   "outputs": [
    {
     "name": "stdout",
     "output_type": "stream",
     "text": [
      "<class 'pandas.core.frame.DataFrame'>\n",
      "RangeIndex: 2438237 entries, 0 to 2438236\n",
      "Data columns (total 3 columns):\n",
      " #   Column     Non-Null Count    Dtype  \n",
      "---  ------     --------------    -----  \n",
      " 0   visitorid  2438237 non-null  int64  \n",
      " 1   itemid     2438237 non-null  int64  \n",
      " 2   cat_score  2438237 non-null  float64\n",
      "dtypes: float64(1), int64(2)\n",
      "memory usage: 55.8 MB\n",
      "<class 'pandas.core.frame.DataFrame'>\n",
      "RangeIndex: 2438237 entries, 0 to 2438236\n",
      "Data columns (total 3 columns):\n",
      " #   Column      Non-Null Count    Dtype  \n",
      "---  ------      --------------    -----  \n",
      " 0   visitorid   2438237 non-null  int64  \n",
      " 1   itemid      2438237 non-null  int64  \n",
      " 2   root_score  2438237 non-null  float64\n",
      "dtypes: float64(1), int64(2)\n",
      "memory usage: 55.8 MB\n"
     ]
    }
   ],
   "source": [
    "#%%exec_if False  # НЕ СЧИТАЕМ в связи с малозначимостью данных признаков, исходя из cb_model.get_feature_importance\n",
    "\n",
    "# ... а также, предпочтения пользователей по категориям товаров\n",
    "\n",
    "user_item_cat = events_train.query(\n",
    "    \"event>0 and visitorid in @hot_users\"             # берем только целевые события\n",
    ")[['visitorid','itemid','categoryid','root','event']]\n",
    "\n",
    "user_cat_score = user_item_cat.groupby(['visitorid','categoryid']).agg(\n",
    "    cat_score=('event','sum')\n",
    ").reset_index()\n",
    "\n",
    "user_root_score = user_item_cat.groupby(['visitorid','root']).agg(\n",
    "    root_score=('event','sum')\n",
    ").reset_index()\n",
    "\n",
    "user_item_cat_score = user_item_cat.merge(\n",
    "    user_cat_score, how='left', on=['visitorid','categoryid']\n",
    ")[['visitorid','itemid','cat_score']].merge(\n",
    "    candidades[['visitorid','itemid']], how='right', on=['visitorid','itemid']\n",
    ").fillna(0)\n",
    "\n",
    "user_item_root_score = user_item_cat.merge(\n",
    "    user_root_score, how='left', on=['visitorid','root']\n",
    ")[['visitorid','itemid','root_score']].merge(\n",
    "    candidades[['visitorid','itemid']], how='right', on=['visitorid','itemid']\n",
    ").fillna(0)\n",
    "\n",
    "del user_item_cat, user_cat_score, user_root_score\n",
    "user_item_cat_score.info(show_counts=True)\n",
    "user_item_root_score.info(show_counts=True)"
   ]
  },
  {
   "cell_type": "code",
   "execution_count": 103,
   "metadata": {},
   "outputs": [
    {
     "name": "stdout",
     "output_type": "stream",
     "text": [
      "<class 'pandas.core.frame.DataFrame'>\n",
      "RangeIndex: 2437785 entries, 0 to 2437784\n",
      "Data columns (total 3 columns):\n",
      " #   Column     Non-Null Count    Dtype  \n",
      "---  ------     --------------    -----  \n",
      " 0   visitorid  2437785 non-null  int64  \n",
      " 1   itemid     2437785 non-null  int64  \n",
      " 2   hit_score  2437785 non-null  float64\n",
      "dtypes: float64(1), int64(2)\n",
      "memory usage: 55.8 MB\n"
     ]
    }
   ],
   "source": [
    "# считаем hit_score, который пригодится для расчета метрики novelty\n",
    "\n",
    "user_item_hit_score = events_train.query(\"visitorid in @hot_users\").groupby(\n",
    "    ['visitorid','itemid']\n",
    ").agg(\n",
    "    hit_score=('event','nunique')\n",
    ").reset_index().merge(\n",
    "    candidades[['visitorid','itemid']], how='right', on=['visitorid','itemid']\n",
    ").fillna(0)\n",
    "user_item_hit_score.info(show_counts=True)"
   ]
  },
  {
   "cell_type": "code",
   "execution_count": 104,
   "metadata": {},
   "outputs": [
    {
     "data": {
      "text/plain": [
       "(   visitorid  itemid  prop_score\n",
       " 0        155    2142    0.002320\n",
       " 1        155    6134    0.005973\n",
       " 2        155    8806    0.002320\n",
       " 3        155   14114    0.000000\n",
       " 4        155   17437    0.002378,\n",
       " 0.99999994,\n",
       " 151)"
      ]
     },
     "execution_count": 104,
     "metadata": {},
     "output_type": "execute_result"
    }
   ],
   "source": [
    "# нормализуем user_item_prop_score по каждому пользователю\n",
    "\n",
    "def normalize_col_by_col(df: pd.DataFrame, col: str, by_col: str):\n",
    "    from sklearn.preprocessing import normalize\n",
    "    tmp      = df.sort_values(by=by_col)\n",
    "    tmp[col] = tmp.groupby(by_col)[col].apply(\n",
    "        lambda x: normalize(x.values.reshape(-1,1), norm='l1', axis=0, copy=True, return_norm=True)[0].ravel()\n",
    "    ).explode(col).values.astype('float32')\n",
    "    df[col]  = tmp[col]\n",
    "\n",
    "normalize_col_by_col(user_item_prop_score, 'prop_score', 'visitorid')\n",
    "normalize_col_by_col(user_item_cat_score,  'cat_score',  'visitorid')\n",
    "normalize_col_by_col(user_item_root_score, 'root_score', 'visitorid')\n",
    "\n",
    "# убеждаемся в корректности нормализации на произвольном пользователе\n",
    "test_scores = user_item_prop_score.query(\"visitorid== @user_item_prop_score['visitorid'][0]\")\n",
    "user_item_prop_score.head(),  test_scores['prop_score'].sum(), test_scores.shape[0]"
   ]
  },
  {
   "cell_type": "code",
   "execution_count": 105,
   "metadata": {},
   "outputs": [
    {
     "name": "stdout",
     "output_type": "stream",
     "text": [
      "<class 'pandas.core.frame.DataFrame'>\n",
      "RangeIndex: 2439561 entries, 0 to 2439560\n",
      "Data columns (total 12 columns):\n",
      " #   Column         Non-Null Count    Dtype  \n",
      "---  ------         --------------    -----  \n",
      " 0   visitorid      2439561 non-null  int64  \n",
      " 1   itemid         2439561 non-null  int32  \n",
      " 2   sim_score      2439561 non-null  float32\n",
      " 3   als_score      195180 non-null   float32\n",
      " 4   pop_score      16686 non-null    float64\n",
      " 5   prop_score     2439561 non-null  float32\n",
      " 6   hit_score      2439561 non-null  float64\n",
      " 7   cat_score      2439561 non-null  float32\n",
      " 8   root_score     2439561 non-null  float32\n",
      " 9   stage          2439561 non-null  int64  \n",
      " 10  click_per_day  2439561 non-null  float64\n",
      " 11  buy_per_click  2439561 non-null  float64\n",
      "dtypes: float32(5), float64(4), int32(1), int64(2)\n",
      "memory usage: 167.5 MB\n"
     ]
    }
   ],
   "source": [
    "# вносим сформированные дополнительные признаки в candidades_for_train\n",
    "\n",
    "candidades = candidades.merge(\n",
    "    user_item_prop_score, how='left', on=['visitorid','itemid']\n",
    ").merge(\n",
    "    user_item_hit_score,  how='left', on=['visitorid','itemid']\n",
    ").merge(\n",
    "    user_item_cat_score,  how='left', on=['visitorid','itemid']\n",
    ").merge(\n",
    "    user_item_root_score, how='left', on=['visitorid','itemid']\n",
    ").merge(\n",
    "    user_features[['visitorid','stage','click_per_day','buy_per_click']], how='left', on=['visitorid']\n",
    ")\n",
    "\n",
    "# объединяем als-скоринги\n",
    "candidades['sim_score'] = candidades['als_score'].fillna(1) * candidades['sim_score'].fillna(0)\n",
    "candidades.info(show_counts=True)"
   ]
  },
  {
   "cell_type": "code",
   "execution_count": 106,
   "metadata": {},
   "outputs": [],
   "source": [
    "# задаём имена колонок признаков\n",
    "feature_cols = ['sim_score','pop_score','prop_score','hit_score',\n",
    "                'cat_score','root_score',#'als_score',\n",
    "                'stage','click_per_day','buy_per_click']\n"
   ]
  },
  {
   "attachments": {},
   "cell_type": "markdown",
   "metadata": {},
   "source": [
    "##  РАНЖИРОВАНИЕ РЕКОМЕНДАЦИЙ"
   ]
  },
  {
   "cell_type": "code",
   "execution_count": 107,
   "metadata": {},
   "outputs": [],
   "source": [
    "import mlflow\n",
    "\n",
    "def reg_model(model, X, y_pred, metrics, params, artifacts=None, runid=None, desc=\"Experimental logging\"):\n",
    "    ''' Логирование новой версии модели и/или артефактов в MLFlow '''\n",
    "\n",
    "    mlflow.set_tracking_uri(MLFLOW_SERVER_URL)\n",
    "    logging.info(f\"MLFlow tracking URL set to: {mlflow.get_tracking_uri()}\")\n",
    "    experiment_id = mlflow.set_experiment(EXPERIMENT_NAME).experiment_id\n",
    "    logging.info(f\"MLFlow experiment name/id: {EXPERIMENT_NAME}/{experiment_id}\")\n",
    "\n",
    "    with mlflow.start_run(run_id=runid, run_name=f\"{MODEL_NAME}_run\", experiment_id=experiment_id, description=desc) as run:\n",
    "        run_id = run.info.run_id\n",
    "\n",
    "        if artifacts is not None:\n",
    "            for key,val in artifacts.items():\n",
    "                mlflow.log_dict(val, f\"{key}.json\")\n",
    "                logging.info(f\"MLFlow artifact {key}.json logged (run_id:{run_id})\")\n",
    "\n",
    "        if metrics is not None:\n",
    "            mlflow.log_metrics(metrics)\n",
    "\n",
    "        if  model is not None:\n",
    "            input_example = X[:10]\n",
    "            signature     = mlflow.models.infer_signature(X, y_pred)\n",
    "            model_info    = mlflow.catboost.log_model(\n",
    "                cb_model             = model,\n",
    "                registered_model_name= MODEL_NAME,\n",
    "                input_example        = input_example,\n",
    "                signature            = signature,\n",
    "                await_registration_for=0,\n",
    "                artifact_path        = f'model'\n",
    "            )\n",
    "            mlflow.log_params(params)\n",
    "            mlflow.set_tag('estimator', 'CatBoostClassifier')\n",
    "            logging.info(f\"Model <{MODEL_NAME}> registered successfully (run_id:{run_id})\")\n",
    "\n",
    "    logging.info(f\"MLFlow run {run_id} closed\")\n",
    "    return run_id\n",
    "\n"
   ]
  },
  {
   "attachments": {},
   "cell_type": "markdown",
   "metadata": {},
   "source": [
    "### Формируем исходные данные для модели"
   ]
  },
  {
   "cell_type": "code",
   "execution_count": 108,
   "metadata": {},
   "outputs": [],
   "source": [
    "%%exec_if not INFER_MODE\n",
    "# наблюдаем огромный дисбаланс классов, несмотря на произведенный oversampling положительного таргета\n",
    "candidades['target'].value_counts()"
   ]
  },
  {
   "cell_type": "code",
   "execution_count": 109,
   "metadata": {},
   "outputs": [],
   "source": [
    "%%exec_if not INFER_MODE\n",
    "# в кандидатах оставляем только тех пользователей, у которых есть хотя бы один положительный таргет\n",
    "candidades_for_train = candidades.groupby(\"visitorid\").filter(lambda x: x[\"target\"].sum() > 0)\n",
    "\n",
    "# убираем неинформативные дубликаты (гарантированно оставляя положительный таргет)\n",
    "candidades_for_train = candidades_for_train.sort_values(by='target',ascending=False).drop_duplicates(\n",
    "    subset=['visitorid','itemid']+feature_cols, keep='first'\n",
    ")\n",
    "candidades_for_train.info(show_counts=True)"
   ]
  },
  {
   "cell_type": "code",
   "execution_count": 110,
   "metadata": {},
   "outputs": [],
   "source": [
    "%%exec_if not INFER_MODE\n",
    "# смотрим, с чем остались...\n",
    "candidades_for_train['target'].value_counts()"
   ]
  },
  {
   "cell_type": "code",
   "execution_count": 111,
   "metadata": {},
   "outputs": [],
   "source": [
    "%%exec_if not INFER_MODE\n",
    "\n",
    "def cb_train(train_pool, **hyper_params):\n",
    "    ''' Обучает Catboost с возможным подбором гиперпараметров '''\n",
    "\n",
    "    model = CatBoostClassifier(random_state=RANDOM_STATE, verbose=False, \n",
    "        auto_class_weights='Balanced', loss_function='Logloss', eval_metric='Recall', **hyper_params\n",
    "    )\n",
    "    if hyper_params:\n",
    "        model.fit(train_pool)\n",
    "        return  model, hyper_params\n",
    "    \n",
    "    grid = {\n",
    "        'l2_leaf_reg':  [1, 3, 5],\n",
    "        'learning_rate':[0.01, 0.09, 0.12, 0.14, 0.16, 0.18],\n",
    "        'iterations'   :[10,100,500,1000],\n",
    "        'depth'        :[6, 8, 10, 12],\n",
    "    }\n",
    "    test_grid = {\n",
    "        'l2_leaf_reg':  [1, 2],\n",
    "        'learning_rate':[0.14, 0.12927],\n",
    "        'iterations'   :[10, 998],\n",
    "        'depth'        :[6,  10],\n",
    "    }\n",
    "    \n",
    "    result = model.grid_search(test_grid, X=train_pool, stratified=True, partition_random_seed=RANDOM_STATE, \n",
    "        refit=True, plot=True, plot_file=f\"{DATA_DIR}/../logs/cb_search.html\", verbose=False \n",
    "    )\n",
    "    return  model, result['params']\n",
    "\n",
    "# ==============  Подбор параметров с использованием bayes-оптимизации (~ 10 минут)  ============== #\n",
    "def cb_train_bayes(X, y):\n",
    "    ''' Обучает Catboost с подбором гиперпараметров '''\n",
    "\n",
    "    model = CatBoostClassifier(random_state=RANDOM_STATE, verbose=False, \n",
    "        auto_class_weights='Balanced', loss_function='Logloss', eval_metric='Recall'\n",
    "    )\n",
    "\n",
    "    from skopt import BayesSearchCV\n",
    "    searchcv = BayesSearchCV(\n",
    "        model,\n",
    "        search_spaces={\n",
    "            'learning_rate' : (0.03, 0.3, 'uniform'),\n",
    "            'l2_leaf_reg'   : (1, 7),\n",
    "            'depth'         : (4, 10),\n",
    "            'iterations'    : (10,1000)\n",
    "        },\n",
    "        #fit_params={'show_progress': True},\n",
    "        #scoring=als_scorer,\n",
    "        n_iter=30,\n",
    "        cv=3,\n",
    "        random_state=RANDOM_STATE,\n",
    "    )\n",
    "    searchcv.fit(X, y)\n",
    "    return  searchcv.best_estimator_, dict(searchcv.best_params_)\n",
    "# =================================================================================================== #\n",
    "\n",
    "\n",
    "# Обучаем ранжирующую модель\n",
    "train_data = Pool(data=candidades_for_train[feature_cols], label=candidades_for_train['target'])\n",
    "\n",
    "cb_params = {} if CB_GRID  else {'depth': 9, 'learning_rate': 0.0364, 'l2_leaf_reg': 1, 'iterations': 640}\n",
    "#cb_model, cb_params = cb_train (train_data, **cb_params)\n",
    "cb_model, cb_params = cb_train_bayes (candidades_for_train[feature_cols], candidades_for_train['target'])\n",
    "\n",
    "if CB_GRID:\n",
    "    with open(f\"{DATA_DIR}/cb_params.txt\", mode='w') as fd:\n",
    "        print(cb_params, file=fd)\n",
    "    with s3.open(f\"{S3_DIR}/data/cb_params.pkl\", mode='wb') as fd:\n",
    "        joblib.dump (cb_params, fd)\n",
    "\n",
    "with s3.open(f\"{S3_DIR}/data/cb_model.pkl\", mode='wb') as fd:\n",
    "    joblib.dump (cb_model, fd)\n",
    "\n",
    "cb_params\n"
   ]
  },
  {
   "cell_type": "code",
   "execution_count": 112,
   "metadata": {},
   "outputs": [],
   "source": [
    "%%exec_if INFER_MODE\n",
    "# загружаем ранее сохраненную модель\n",
    "with s3.open(f\"{S3_DIR}/data/cb_model.pkl\", mode='rb') as fd:\n",
    "    cb_model = joblib.load(fd)"
   ]
  },
  {
   "cell_type": "code",
   "execution_count": 113,
   "metadata": {},
   "outputs": [
    {
     "name": "stdout",
     "output_type": "stream",
     "text": [
      "                      fi\n",
      "sim_score      82.976775\n",
      "hit_score       8.946334\n",
      "click_per_day   4.029027\n",
      "prop_score      2.233580\n",
      "stage           0.575159\n",
      "pop_score       0.507194\n",
      "buy_per_click   0.485506\n",
      "root_score      0.175283\n",
      "cat_score       0.071142\n"
     ]
    }
   ],
   "source": [
    "# смотрим оценку важности признаков\n",
    "feature_importance = pd.DataFrame(cb_model.get_feature_importance(), index=feature_cols, columns=[\"fi\"])\n",
    "feature_importance = feature_importance.sort_values(by=\"fi\", ascending=False)\n",
    "print(feature_importance )"
   ]
  },
  {
   "cell_type": "code",
   "execution_count": 114,
   "metadata": {},
   "outputs": [],
   "source": [
    "#%%exec_if CALC_RECS\n",
    "\n",
    "inference_data = Pool(data=candidades[feature_cols])\n",
    "predictions = cb_model.predict_proba(inference_data)\n",
    "\n",
    "candidades[\"cb_score\"] = predictions[:,1]\n",
    "\n",
    "# для каждого пользователя проставим rank, начиная с 1 — это максимальный cb_score\n",
    "candidades.sort_values(['visitorid', 'cb_score', 'sim_score', 'hit_score', 'prop_score', 'pop_score'], \n",
    "                       ascending=[True, False, False, False, False, False], inplace=True\n",
    ")\n",
    "candidades[\"rank\"] = candidades.groupby(\"visitorid\")[\"cb_score\"].cumcount() +1\n",
    "\n",
    "max_recommendations_per_user = 100\n",
    "final_recommendations = candidades.query(\n",
    "    \"rank <= @max_recommendations_per_user\"\n",
    ")[['visitorid','itemid','rank','cb_score','als_score']+feature_cols]\n",
    "\n",
    "with s3.open(f\"{S3_DIR}/data/final_recommendations.parquet\", mode='wb') as fd:\n",
    "    final_recommendations.to_parquet(fd)\n"
   ]
  },
  {
   "cell_type": "code",
   "execution_count": 115,
   "metadata": {},
   "outputs": [],
   "source": [
    "%%exec_if not CALC_RECS\n",
    "with s3.open(f\"{S3_DIR}/data/final_recommendations.parquet\", mode='rb') as fd:\n",
    "    final_recommendations = pd.read_parquet(fd)"
   ]
  },
  {
   "cell_type": "code",
   "execution_count": 116,
   "metadata": {},
   "outputs": [
    {
     "name": "stdout",
     "output_type": "stream",
     "text": [
      "<class 'pandas.core.frame.DataFrame'>\n",
      "Index: 1276406 entries, 40 to 2439542\n",
      "Data columns (total 14 columns):\n",
      " #   Column         Non-Null Count    Dtype  \n",
      "---  ------         --------------    -----  \n",
      " 0   visitorid      1276406 non-null  int64  \n",
      " 1   itemid         1276406 non-null  int32  \n",
      " 2   rank           1276406 non-null  int64  \n",
      " 3   cb_score       1276406 non-null  float64\n",
      " 4   als_score      179959 non-null   float32\n",
      " 5   sim_score      1276406 non-null  float32\n",
      " 6   pop_score      16381 non-null    float64\n",
      " 7   prop_score     1276406 non-null  float32\n",
      " 8   hit_score      1276406 non-null  float64\n",
      " 9   cat_score      1276406 non-null  float32\n",
      " 10  root_score     1276406 non-null  float32\n",
      " 11  stage          1276406 non-null  int64  \n",
      " 12  click_per_day  1276406 non-null  float64\n",
      " 13  buy_per_click  1276406 non-null  float64\n",
      "dtypes: float32(5), float64(5), int32(1), int64(3)\n",
      "memory usage: 116.9 MB\n"
     ]
    }
   ],
   "source": [
    "final_recommendations.info(show_counts=True)"
   ]
  },
  {
   "attachments": {},
   "cell_type": "markdown",
   "metadata": {},
   "source": [
    "## ОЦЕНКА КАЧЕСТВА"
   ]
  },
  {
   "cell_type": "code",
   "execution_count": 117,
   "metadata": {},
   "outputs": [
    {
     "data": {
      "text/html": [
       "<div>\n",
       "<style scoped>\n",
       "    .dataframe tbody tr th:only-of-type {\n",
       "        vertical-align: middle;\n",
       "    }\n",
       "\n",
       "    .dataframe tbody tr th {\n",
       "        vertical-align: top;\n",
       "    }\n",
       "\n",
       "    .dataframe thead th {\n",
       "        text-align: right;\n",
       "    }\n",
       "</style>\n",
       "<table border=\"1\" class=\"dataframe\">\n",
       "  <thead>\n",
       "    <tr style=\"text-align: right;\">\n",
       "      <th></th>\n",
       "      <th>visitorid</th>\n",
       "      <th>itemid</th>\n",
       "      <th>rank</th>\n",
       "      <th>cb_score</th>\n",
       "      <th>als_score</th>\n",
       "      <th>sim_score</th>\n",
       "      <th>pop_score</th>\n",
       "      <th>prop_score</th>\n",
       "      <th>hit_score</th>\n",
       "      <th>cat_score</th>\n",
       "      <th>root_score</th>\n",
       "      <th>stage</th>\n",
       "      <th>click_per_day</th>\n",
       "      <th>buy_per_click</th>\n",
       "    </tr>\n",
       "  </thead>\n",
       "  <tbody>\n",
       "    <tr>\n",
       "      <th>40</th>\n",
       "      <td>155</td>\n",
       "      <td>123027</td>\n",
       "      <td>1</td>\n",
       "      <td>0.853161</td>\n",
       "      <td>NaN</td>\n",
       "      <td>0.855652</td>\n",
       "      <td>NaN</td>\n",
       "      <td>0.010265</td>\n",
       "      <td>1.0</td>\n",
       "      <td>0.0</td>\n",
       "      <td>0.0</td>\n",
       "      <td>20</td>\n",
       "      <td>0.35</td>\n",
       "      <td>0.0</td>\n",
       "    </tr>\n",
       "    <tr>\n",
       "      <th>42</th>\n",
       "      <td>155</td>\n",
       "      <td>134620</td>\n",
       "      <td>2</td>\n",
       "      <td>0.841799</td>\n",
       "      <td>NaN</td>\n",
       "      <td>0.816318</td>\n",
       "      <td>NaN</td>\n",
       "      <td>0.010265</td>\n",
       "      <td>1.0</td>\n",
       "      <td>0.0</td>\n",
       "      <td>0.0</td>\n",
       "      <td>20</td>\n",
       "      <td>0.35</td>\n",
       "      <td>0.0</td>\n",
       "    </tr>\n",
       "    <tr>\n",
       "      <th>51</th>\n",
       "      <td>155</td>\n",
       "      <td>151670</td>\n",
       "      <td>3</td>\n",
       "      <td>0.820548</td>\n",
       "      <td>NaN</td>\n",
       "      <td>0.647818</td>\n",
       "      <td>NaN</td>\n",
       "      <td>0.010265</td>\n",
       "      <td>1.0</td>\n",
       "      <td>0.0</td>\n",
       "      <td>0.0</td>\n",
       "      <td>20</td>\n",
       "      <td>0.35</td>\n",
       "      <td>0.0</td>\n",
       "    </tr>\n",
       "    <tr>\n",
       "      <th>17</th>\n",
       "      <td>155</td>\n",
       "      <td>50928</td>\n",
       "      <td>4</td>\n",
       "      <td>0.801395</td>\n",
       "      <td>NaN</td>\n",
       "      <td>0.729541</td>\n",
       "      <td>NaN</td>\n",
       "      <td>0.002378</td>\n",
       "      <td>1.0</td>\n",
       "      <td>0.0</td>\n",
       "      <td>0.0</td>\n",
       "      <td>20</td>\n",
       "      <td>0.35</td>\n",
       "      <td>0.0</td>\n",
       "    </tr>\n",
       "    <tr>\n",
       "      <th>130</th>\n",
       "      <td>155</td>\n",
       "      <td>373637</td>\n",
       "      <td>5</td>\n",
       "      <td>0.801395</td>\n",
       "      <td>NaN</td>\n",
       "      <td>0.707092</td>\n",
       "      <td>NaN</td>\n",
       "      <td>0.002378</td>\n",
       "      <td>1.0</td>\n",
       "      <td>0.0</td>\n",
       "      <td>0.0</td>\n",
       "      <td>20</td>\n",
       "      <td>0.35</td>\n",
       "      <td>0.0</td>\n",
       "    </tr>\n",
       "    <tr>\n",
       "      <th>95</th>\n",
       "      <td>155</td>\n",
       "      <td>273868</td>\n",
       "      <td>6</td>\n",
       "      <td>0.098815</td>\n",
       "      <td>NaN</td>\n",
       "      <td>0.996458</td>\n",
       "      <td>NaN</td>\n",
       "      <td>0.000000</td>\n",
       "      <td>0.0</td>\n",
       "      <td>0.0</td>\n",
       "      <td>0.0</td>\n",
       "      <td>20</td>\n",
       "      <td>0.35</td>\n",
       "      <td>0.0</td>\n",
       "    </tr>\n",
       "    <tr>\n",
       "      <th>147</th>\n",
       "      <td>155</td>\n",
       "      <td>462891</td>\n",
       "      <td>7</td>\n",
       "      <td>0.098815</td>\n",
       "      <td>NaN</td>\n",
       "      <td>0.983190</td>\n",
       "      <td>NaN</td>\n",
       "      <td>0.000116</td>\n",
       "      <td>0.0</td>\n",
       "      <td>0.0</td>\n",
       "      <td>0.0</td>\n",
       "      <td>20</td>\n",
       "      <td>0.35</td>\n",
       "      <td>0.0</td>\n",
       "    </tr>\n",
       "    <tr>\n",
       "      <th>21</th>\n",
       "      <td>155</td>\n",
       "      <td>60907</td>\n",
       "      <td>8</td>\n",
       "      <td>0.098815</td>\n",
       "      <td>NaN</td>\n",
       "      <td>0.979847</td>\n",
       "      <td>NaN</td>\n",
       "      <td>0.000116</td>\n",
       "      <td>0.0</td>\n",
       "      <td>0.0</td>\n",
       "      <td>0.0</td>\n",
       "      <td>20</td>\n",
       "      <td>0.35</td>\n",
       "      <td>0.0</td>\n",
       "    </tr>\n",
       "    <tr>\n",
       "      <th>16</th>\n",
       "      <td>155</td>\n",
       "      <td>50672</td>\n",
       "      <td>9</td>\n",
       "      <td>0.098815</td>\n",
       "      <td>NaN</td>\n",
       "      <td>0.945924</td>\n",
       "      <td>NaN</td>\n",
       "      <td>0.000000</td>\n",
       "      <td>0.0</td>\n",
       "      <td>0.0</td>\n",
       "      <td>0.0</td>\n",
       "      <td>20</td>\n",
       "      <td>0.35</td>\n",
       "      <td>0.0</td>\n",
       "    </tr>\n",
       "    <tr>\n",
       "      <th>120</th>\n",
       "      <td>155</td>\n",
       "      <td>344163</td>\n",
       "      <td>10</td>\n",
       "      <td>0.098815</td>\n",
       "      <td>NaN</td>\n",
       "      <td>0.931616</td>\n",
       "      <td>NaN</td>\n",
       "      <td>0.000116</td>\n",
       "      <td>0.0</td>\n",
       "      <td>0.0</td>\n",
       "      <td>0.0</td>\n",
       "      <td>20</td>\n",
       "      <td>0.35</td>\n",
       "      <td>0.0</td>\n",
       "    </tr>\n",
       "  </tbody>\n",
       "</table>\n",
       "</div>"
      ],
      "text/plain": [
       "     visitorid  itemid  rank  cb_score  als_score  sim_score  pop_score  \\\n",
       "40         155  123027     1  0.853161        NaN   0.855652        NaN   \n",
       "42         155  134620     2  0.841799        NaN   0.816318        NaN   \n",
       "51         155  151670     3  0.820548        NaN   0.647818        NaN   \n",
       "17         155   50928     4  0.801395        NaN   0.729541        NaN   \n",
       "130        155  373637     5  0.801395        NaN   0.707092        NaN   \n",
       "95         155  273868     6  0.098815        NaN   0.996458        NaN   \n",
       "147        155  462891     7  0.098815        NaN   0.983190        NaN   \n",
       "21         155   60907     8  0.098815        NaN   0.979847        NaN   \n",
       "16         155   50672     9  0.098815        NaN   0.945924        NaN   \n",
       "120        155  344163    10  0.098815        NaN   0.931616        NaN   \n",
       "\n",
       "     prop_score  hit_score  cat_score  root_score  stage  click_per_day  \\\n",
       "40     0.010265        1.0        0.0         0.0     20           0.35   \n",
       "42     0.010265        1.0        0.0         0.0     20           0.35   \n",
       "51     0.010265        1.0        0.0         0.0     20           0.35   \n",
       "17     0.002378        1.0        0.0         0.0     20           0.35   \n",
       "130    0.002378        1.0        0.0         0.0     20           0.35   \n",
       "95     0.000000        0.0        0.0         0.0     20           0.35   \n",
       "147    0.000116        0.0        0.0         0.0     20           0.35   \n",
       "21     0.000116        0.0        0.0         0.0     20           0.35   \n",
       "16     0.000000        0.0        0.0         0.0     20           0.35   \n",
       "120    0.000116        0.0        0.0         0.0     20           0.35   \n",
       "\n",
       "     buy_per_click  \n",
       "40             0.0  \n",
       "42             0.0  \n",
       "51             0.0  \n",
       "17             0.0  \n",
       "130            0.0  \n",
       "95             0.0  \n",
       "147            0.0  \n",
       "21             0.0  \n",
       "16             0.0  \n",
       "120            0.0  "
      ]
     },
     "execution_count": 117,
     "metadata": {},
     "output_type": "execute_result"
    }
   ],
   "source": [
    "final_recommendations.head(10)"
   ]
  },
  {
   "cell_type": "code",
   "execution_count": 118,
   "metadata": {},
   "outputs": [],
   "source": [
    "def calc_bin_metrics(recs: pd.DataFrame, col_score: str, events: pd.DataFrame, N=10, verbose=False):\n",
    "    ''' Расчет recall и precision для первых N рекомендаций\n",
    "\n",
    "        recs   - должен содержать колонки ['visitorid','itemid', col_score] \n",
    "        events - должен содержать колонки ['visitorid','itemid','timestamp'] \n",
    "    '''\n",
    "    common_users = set(recs['visitorid'].unique()) & set(events['visitorid'].unique())\n",
    "    if verbose: print(f\"Common users: {len(common_users)}\")\n",
    "    \n",
    "    # формируем колонку 'hit' для пометки товаров, просмотренных пользователями в период events\n",
    "    recs_for_metrics = recs.query(\"visitorid in @common_users\").groupby('visitorid').head(N).merge(\n",
    "        events.query(\"visitorid in @common_users\").groupby(['visitorid','itemid']).agg(hit=('timestamp','count')),\n",
    "        how='outer', left_on=['visitorid','itemid'], right_index=True\n",
    "    )\n",
    "    if verbose: print(recs_for_metrics.info(show_counts=True))\n",
    "\n",
    "    # размечаем пары (user_id, item_id) для вычисления метрик precision и recall\n",
    "    recs_for_metrics['fn'] = (recs_for_metrics[col_score].isna())\n",
    "    recs_for_metrics['fp'] = (recs_for_metrics['hit'].isna())\n",
    "    recs_for_metrics['tp'] = (recs_for_metrics['hit'].notna())  &  (recs_for_metrics[col_score].notna())\n",
    "    if verbose: print(recs_for_metrics['fn'].sum(), recs_for_metrics['fp'].sum(), recs_for_metrics['tp'].sum())\n",
    "\n",
    "    # считаем метрики в разрезе пользователей\n",
    "    users_for_metrics = recs_for_metrics.groupby('visitorid').agg(\n",
    "        fn=('fn','sum'), fp=('fp','sum'), tp=('tp','sum')\n",
    "    )\n",
    "    users_for_metrics['recall'] = users_for_metrics['tp'] / (users_for_metrics['tp'] + users_for_metrics['fn'])\n",
    "    users_for_metrics['precision'] = users_for_metrics['tp'] / (users_for_metrics['tp'] + users_for_metrics['fp'])\n",
    "    if verbose: print('\\n', users_for_metrics.sort_values(by='tp', ascending=False).head(10))\n",
    "\n",
    "    print (f\"Значения метрик: \"\n",
    "           f\"recall@{N}={users_for_metrics['recall'].mean(): >.3f}, \"\n",
    "           f\"precision@{N}={users_for_metrics['precision'].mean(): >.3f}\"\n",
    "    )\n",
    "    # возвращаем усредненные значения метрик по всем пользователям\n",
    "    return  (users_for_metrics['recall'].mean(), users_for_metrics['precision'].mean())\n",
    "\n"
   ]
  },
  {
   "cell_type": "code",
   "execution_count": 119,
   "metadata": {},
   "outputs": [
    {
     "name": "stdout",
     "output_type": "stream",
     "text": [
      "Значения метрик: recall@10=0.131, precision@10=0.020\n",
      "Значения метрик: recall@5=0.123, precision@5=0.035\n"
     ]
    }
   ],
   "source": [
    "# общие метрики\n",
    "recall_at_10, _ = calc_bin_metrics(final_recommendations, 'cb_score', events_test, N=10)\n",
    "recall_at_5,  _ = calc_bin_metrics(final_recommendations, 'cb_score', events_test, N=5)\n"
   ]
  },
  {
   "cell_type": "code",
   "execution_count": 120,
   "metadata": {},
   "outputs": [
    {
     "name": "stdout",
     "output_type": "stream",
     "text": [
      "Значения метрик: recall@10=0.007, precision@10=0.002\n",
      "Значения метрик: recall@5=0.004, precision@5=0.002\n"
     ]
    }
   ],
   "source": [
    "# метрики для personal_als\n",
    "als_recall_at_10, _ = calc_bin_metrics(final_recommendations, 'als_score', events_test, N=10)\n",
    "als_recall_at_5,  _ = calc_bin_metrics(final_recommendations, 'als_score', events_test, N=5)\n"
   ]
  },
  {
   "cell_type": "code",
   "execution_count": 121,
   "metadata": {},
   "outputs": [
    {
     "name": "stdout",
     "output_type": "stream",
     "text": [
      "Значения метрик: recall@10=0.005, precision@10=0.001\n",
      "Значения метрик: recall@5=0.004, precision@5=0.002\n"
     ]
    }
   ],
   "source": [
    "# метрики для top_popular\n",
    "top = pd.DataFrame({   # эмулируем выдачу top_popular.head(10) рекомендаций для каждого пользователя\n",
    "    'dummy_score': [i  for i in range(final_recommendations['visitorid'].nunique() *10, 0, -1)]\n",
    "}, index=pd.MultiIndex.from_product(\n",
    "    [final_recommendations['visitorid'].unique(), top_popular.head(10)['itemid']], names=['visitorid', 'itemid'])\n",
    ").reset_index()\n",
    "\n",
    "top_recall_at_10, _ = calc_bin_metrics(top, 'dummy_score', events_test, N=10)\n",
    "top_recall_at_5,  _ = calc_bin_metrics(top, 'dummy_score', events_test, N=5)\n"
   ]
  },
  {
   "cell_type": "code",
   "execution_count": 122,
   "metadata": {},
   "outputs": [],
   "source": [
    "def calc_novelty(recs: pd.DataFrame, col_score: str, past_events: pd.DataFrame, N=10, verbose=False):\n",
    "    '''Расчет novelty для первых N рекомендаций\n",
    "\n",
    "        recs   - должен содержать колонки ['visitorid','itemid', col_score] \n",
    "        events - должен содержать колонки ['visitorid','itemid','timestamp'] \n",
    "    '''\n",
    "\n",
    "    # формируем колонку 'hit' для пометки товаров, просмотренных пользователями в период events\n",
    "    recs_for_metrics = recs.sort_values(by=col_score, ascending=False).groupby('visitorid').head(N).merge(\n",
    "        past_events.groupby(['visitorid','itemid']).agg(hit=('timestamp','count')),\n",
    "        how='left', left_on=['visitorid','itemid'], right_index=True\n",
    "    )\n",
    "\n",
    "    # считаем метрику в разрезе пользователей\n",
    "    users_for_metrics = recs_for_metrics.groupby('visitorid').agg(hits=('hit', 'count'))\n",
    "    users_for_metrics['novelty'] = 1 - users_for_metrics['hits']/N\n",
    "    if verbose: print('\\n', users_for_metrics.sort_values(by='novelty', ascending=True).head(10))\n",
    "    #if verbose: print('\\n', users_for_metrics.head(10))\n",
    "\n",
    "    print (f\"Значение метрики: \"\n",
    "           f\"novelty@{N}={users_for_metrics['novelty'].mean(): >.3f}\"\n",
    "    )\n",
    "    # возвращаем усредненные значения метрик по всем пользователям\n",
    "    return  users_for_metrics['novelty'].mean()\n"
   ]
  },
  {
   "cell_type": "code",
   "execution_count": 123,
   "metadata": {},
   "outputs": [
    {
     "name": "stdout",
     "output_type": "stream",
     "text": [
      "Значение метрики: novelty@10=0.858\n",
      "Значение метрики: novelty@5=0.740\n"
     ]
    }
   ],
   "source": [
    "# общая novelty\n",
    "novelty_at_10 = calc_novelty(final_recommendations, 'cb_score', events_train, N=10)\n",
    "novelty_at_5  = calc_novelty(final_recommendations, 'cb_score', events_train, N=5)\n"
   ]
  },
  {
   "cell_type": "code",
   "execution_count": 124,
   "metadata": {},
   "outputs": [
    {
     "name": "stdout",
     "output_type": "stream",
     "text": [
      "Значение метрики: novelty@10=0.975\n",
      "Значение метрики: novelty@5=0.982\n"
     ]
    }
   ],
   "source": [
    "# novelty для personal_als\n",
    "als_novelty_at_10 = calc_novelty(final_recommendations, 'als_score', events_train, N=10)\n",
    "als_novelty_at_5  = calc_novelty(final_recommendations, 'als_score', events_train, N=5)\n"
   ]
  },
  {
   "cell_type": "code",
   "execution_count": 125,
   "metadata": {},
   "outputs": [
    {
     "name": "stdout",
     "output_type": "stream",
     "text": [
      "Значение метрики: novelty@10=0.998\n",
      "Значение метрики: novelty@5=0.997\n"
     ]
    }
   ],
   "source": [
    "# novelty для top_popular\n",
    "top_novelty_at_10 = calc_novelty(top, 'dummy_score', events_train, N=10)\n",
    "top_novelty_at_5  = calc_novelty(top, 'dummy_score', events_train, N=5)\n"
   ]
  },
  {
   "cell_type": "code",
   "execution_count": 126,
   "metadata": {},
   "outputs": [],
   "source": [
    "def catalog_coverage(recs, catalog, N=10):\n",
    "    ''' Расчет покрытия каталога товаров рекомендациями (coverage@N) '''\n",
    "\n",
    "    recs_for_metrics = recs.groupby('visitorid').head(N)\n",
    "    coverage = recs_for_metrics['itemid'].nunique() / (catalog.shape[0] +1)\n",
    "\n",
    "    print (f\"Значение метрики: \"\n",
    "           f\"coverage@{N}={coverage: >.3f}\"\n",
    "    )\n",
    "    return  coverage\n",
    "\n",
    "item_catalog = get_item_category(train_test_split_date.value -1)"
   ]
  },
  {
   "cell_type": "code",
   "execution_count": 127,
   "metadata": {},
   "outputs": [
    {
     "name": "stdout",
     "output_type": "stream",
     "text": [
      "Значение метрики: coverage@10=0.051\n",
      "Значение метрики: coverage@5=0.038\n"
     ]
    }
   ],
   "source": [
    "# общий coverage\n",
    "coverage_at_10 = catalog_coverage(final_recommendations, item_catalog, N=10)\n",
    "coverage_at_5  = catalog_coverage(final_recommendations, item_catalog, N=5)\n"
   ]
  },
  {
   "cell_type": "code",
   "execution_count": 128,
   "metadata": {},
   "outputs": [
    {
     "name": "stdout",
     "output_type": "stream",
     "text": [
      "Значение метрики: coverage@10=0.027\n",
      "Значение метрики: coverage@5=0.021\n"
     ]
    }
   ],
   "source": [
    "# coverage для personal_als\n",
    "als_coverage_at_10 = catalog_coverage(final_recommendations.query(\"als_score>0\"), item_catalog, N=10)\n",
    "als_coverage_at_5  = catalog_coverage(final_recommendations.query(\"als_score>0\"), item_catalog, N=5)\n"
   ]
  },
  {
   "cell_type": "code",
   "execution_count": 129,
   "metadata": {},
   "outputs": [
    {
     "name": "stdout",
     "output_type": "stream",
     "text": [
      "Значение метрики: coverage@10=0.000\n",
      "Значение метрики: coverage@5=0.000\n"
     ]
    }
   ],
   "source": [
    "# coverage для top_popular\n",
    "top_coverage_at_10 = catalog_coverage(top, item_catalog, N=10)\n",
    "top_coverage_at_5  = catalog_coverage(top, item_catalog, N=5)\n"
   ]
  },
  {
   "cell_type": "code",
   "execution_count": 130,
   "metadata": {},
   "outputs": [
    {
     "name": "stderr",
     "output_type": "stream",
     "text": [
      "MLFlow tracking URL set to: http://localhost:5000\n",
      "MLFlow experiment name/id: mle-pr-final-v002/7\n",
      "MLFlow run 9e81837a98ac4c0297bbbc9d972d169f closed\n"
     ]
    }
   ],
   "source": [
    "# Регистрируем результаты в MLFlow\n",
    "\n",
    "metrics = { 'Recall_at_10':recall_at_10,     'Recall_at_5':recall_at_5, \n",
    "            'Novelty_at_10':novelty_at_10,   'Novelty_at_5':novelty_at_5,\n",
    "            'Coverage_at_10':coverage_at_10, 'Coverage_at_5':coverage_at_5\n",
    "}\n",
    "\n",
    "if CB_GRID and not INFER_MODE:\n",
    "\n",
    "    # регистрируем новую версию модели ранжирования и сохраняем feature_importance и als_params в артефактах\n",
    "    reg_model(cb_model, candidades_for_train[feature_cols], candidades_for_train['target'], metrics, \n",
    "        cb_params, artifacts={'feature_importance': feature_importance.to_dict(), \n",
    "                              'als_params': {}  if not ALS_GRID  else als_params},\n",
    "        desc = f\"Experiment with INFER_MODE={INFER_MODE}, CB_GRID={CB_GRID}, ALS_GRID={ALS_GRID}, CALC_RECS={CALC_RECS}\"\n",
    "    )\n",
    "else:\n",
    "    # отписываем только метрики и, возможно, als_params\n",
    "    reg_model(None, None, None, metrics, None, \n",
    "        artifacts= None  if not ALS_GRID  else {'als_params': als_params},\n",
    "        desc = f\"Experiment with INFER_MODE={INFER_MODE}, CB_GRID={CB_GRID}, ALS_GRID={ALS_GRID}, CALC_RECS={CALC_RECS}\"\n",
    "    )\n"
   ]
  },
  {
   "attachments": {},
   "cell_type": "markdown",
   "metadata": {},
   "source": [
    "# === Выводы ==="
   ]
  },
  {
   "attachments": {},
   "cell_type": "markdown",
   "metadata": {},
   "source": [
    "\n",
    "Из-за отмеченных в предыдущих выводах особенностей клиентской базы (подавляющее большинство клиентов - \"однодневки\") коллаборативная фильтрация не дает существенного улучшения метрик по сравнению с baseline, за которую можно принять неперсонифицированные рекомендации, состоящие только из top_popular.\n",
    "\n",
    "Вместе с тем, применение ансамблевого подхода в сочетании с формированием значительного количества дополнительных \n",
    "признаков позволило повысить значения метрики recall на тестовом наборе данных в 2-3 раза, а precision - \n",
    "примерно в 10-15 раз\n",
    "в сравнении с коллаборативными и top_popular рекомендациями, хотя абсолютные значения метрик остались на невысоком \n",
    "уровне (recall@10=0.131, recall@5=0.123; precision@10=0.020, precision@5=0.035).\n",
    "\n",
    "Значение метрики novelty для ансамблевого подхода (novelty@10=0.858, novelty@5=0.740) оказалось на 15-20% ниже,\n",
    "чем novelty коллаборативных рекомендаций. Это связано с тем, что расчет коллаборативных рекомендаций производился\n",
    "с параметром **_filter_already_liked_items=True_**, а модель ранжирования добавила в рекомендации некоторое \n",
    "количество \"любимых\" товаров из числа попавших в списки i2i-подобия.\n",
    "\n",
    "Неожиданно высокое значение novelty для top_popular рекомендаций (novelty@10=0.998, novelty@5=0.997) связано с тем, \n",
    "что top_popular рекомендации считались на всем множестве взаимодействий events_train, а персональные рекомендации \n",
    "сформированы только для очень небольшого подмножества пользователей (~1%), имевших взаимодействия как в train-, \n",
    "так и в test- периодах.\n",
    "\n",
    "Метрика coverage ожидаемо показывает более высокие значения (coverage@10=0.051, coverage@5=0.038) по сравнению \n",
    "с другими подходами из-за включения i2i-подобия в номенклатуру рекомендуемых товаров.\n"
   ]
  },
  {
   "cell_type": "code",
   "execution_count": 131,
   "metadata": {},
   "outputs": [
    {
     "data": {
      "text/plain": [
       "(13012, 60324)"
      ]
     },
     "execution_count": 131,
     "metadata": {},
     "output_type": "execute_result"
    }
   ],
   "source": [
    "# СПРАВОЧНО:\n",
    "final_recommendations['visitorid'].nunique(), final_recommendations['itemid'].nunique()"
   ]
  }
 ],
 "metadata": {
  "kernelspec": {
   "display_name": ".venv_mle-pr-final",
   "language": "python",
   "name": "python3"
  },
  "language_info": {
   "codemirror_mode": {
    "name": "ipython",
    "version": 3
   },
   "file_extension": ".py",
   "mimetype": "text/x-python",
   "name": "python",
   "nbconvert_exporter": "python",
   "pygments_lexer": "ipython3",
   "version": "3.10.12"
  },
  "orig_nbformat": 4
 },
 "nbformat": 4,
 "nbformat_minor": 2
}
