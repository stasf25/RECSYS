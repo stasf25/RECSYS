{
 "cells": [
  {
   "cell_type": "code",
   "execution_count": null,
   "metadata": {},
   "outputs": [],
   "source": []
  },
  {
   "cell_type": "code",
   "execution_count": 1,
   "metadata": {},
   "outputs": [],
   "source": [
    "# Инициализируем окружение\n",
    "import os, joblib, s3fs\n",
    "import pandas as pd\n",
    "import numpy  as np\n",
    "\n",
    "pd.options.display.max_columns = 100\n",
    "pd.options.display.max_rows = 100 \n",
    "\n",
    "from dotenv import load_dotenv, find_dotenv\n",
    "load_dotenv()\n",
    "\n",
    "PROJECT_ROOT    = f\"{find_dotenv()[0:-5]}\"\n",
    "DATA_DIR        = f\"{PROJECT_ROOT}/data\"\n",
    "RANDOM_STATE    = 42\n",
    "S3_DIR          = f\"{os.environ['S3_BUCKET_NAME']}/Diplom\"\n",
    "\n",
    "s3 = s3fs.core.S3FileSystem(\n",
    "    endpoint_url=os.environ['AWS_ENDPOINT_URL'],\n",
    "    key=os.environ['AWS_ACCESS_KEY_ID'],\n",
    "    secret=os.environ['AWS_SECRET_ACCESS_KEY'], cache_regions=True\n",
    ")\n"
   ]
  },
  {
   "cell_type": "code",
   "execution_count": 36,
   "metadata": {},
   "outputs": [],
   "source": [
    "SRC_FILES = {\n",
    "    \"cats_src\" : f\"{S3_DIR}/source_data/category_tree.csv\",\n",
    "    \"props_src\":[f\"{S3_DIR}/source_data/item_properties_part1.csv\",\n",
    "                    f\"{S3_DIR}/source_data/item_properties_part2.csv\"],\n",
    "    \"event_src\": f\"{S3_DIR}/source_data/events.csv\"\n",
    "}\n",
    "INFER_FILES = {\n",
    "    \"cats_dst\" : f\"{S3_DIR}/infer_data/category_tree.parquet\",\n",
    "    \"item_cat\" : f\"{S3_DIR}/infer_data/item_categories.parquet\",\n",
    "    \"item_prop\": f\"{S3_DIR}/infer_data/item_properties.parquet\",\n",
    "    \"available\": f\"{S3_DIR}/infer_data/item_availability.parquet\",\n",
    "    \"event_dst\": f\"{S3_DIR}/infer_data/events.parquet\",\n",
    "    \"eventlast\": f\"{S3_DIR}/infer_data/last_events.parquet\",\n",
    "    \"ranked\"   : f\"{S3_DIR}/infer_data/ranked_candidades.parquet\",\n",
    "}\n",
    "PROD_FILES = {\n",
    "    \"top_pop\"  : f\"{S3_DIR}/recommendations/top_popular.parquet\",\n",
    "    \"similar\"  : f\"{S3_DIR}/recommendations/similar_items.parquet\",\n",
    "    \"final\"    : f\"{S3_DIR}/recommendations/final_recommendations.parquet\"\n",
    "}\n",
    "MODEL_FILES = {\n",
    "    \"als_parms\": f\"{S3_DIR}/model/als_params.pkl\",\n",
    "    \"cb_parms\" : f\"{S3_DIR}/model/cb_params.pkl\",\n",
    "    \"cb_model\" : f\"{S3_DIR}/model/cb_model.pkl\"\n",
    "}\n",
    "# параметры конфигурации DAG-а\n",
    "CONFIG      = {\n",
    "    \"EVENT_HISTORY_WEEKS\": 26,  # сохранять events только за последние подгода\n",
    "    \"EVENT_POPULAR_WEEKS\": 12,  # глубина истории (в неделях) для определения популярных товаров\n",
    "    \"EVENT_TARGET_WEEKS\" : 2,   # количество недель для target-периода (в режиме переобучения моделей)\n",
    "    \"EVENT_CUT_OFF_WEEKS\": 4,   # количество недель для inference-периода (в режиме расчета рекомендаций)\n",
    "}\n",
    "\n"
   ]
  },
  {
   "cell_type": "code",
   "execution_count": 3,
   "metadata": {},
   "outputs": [],
   "source": [
    "import io\n",
    "from   s3fs   import S3FileSystem\n",
    "\n",
    "def pd_info(df: pd.DataFrame):\n",
    "    with io.StringIO() as output:\n",
    "        df.info(show_counts=True, buf=output)\n",
    "        return output.getvalue()\n",
    "\n",
    "def load_csv_files(s3: S3FileSystem, path_list: list):\n",
    "    try:\n",
    "        df = pd.DataFrame()\n",
    "        for path in path_list:\n",
    "            with s3.open(path, mode='r') as fd:\n",
    "                df = pd.concat([df, pd.read_csv(fd)], axis=0, ignore_index=True)\n",
    "        return df\n",
    "    except:\n",
    "        print(path)\n",
    "        return None\n",
    "\n",
    "def delete_s3_files(s3: S3FileSystem, files: dict):\n",
    "    try:\n",
    "        for k,path in files.items():\n",
    "            s3.rm(path)\n",
    "            print(f\"rm {path}\")\n",
    "    except:\n",
    "        print(path)\n",
    "        pass\n",
    "    return\n",
    "\n",
    "def load_parquet_file(s3: S3FileSystem, path: str):\n",
    "    try:\n",
    "        df = pd.DataFrame()\n",
    "        with s3.open(path, mode='rb') as fd:\n",
    "            df = pd.read_parquet(fd)\n",
    "        return df\n",
    "    except:\n",
    "        #logging.error(f\"Error loading file: {path}\")\n",
    "        return None\n",
    "\n",
    "def save_to_parquet(df, s3: S3FileSystem, path: str, verbose=True):\n",
    "    with s3.open(path, mode='wb') as fd:\n",
    "        df.to_parquet(fd)\n",
    "    #if verbose:  logging.info(f\"\\n{path}\\n{df.info(show_counts=True)}\")\n",
    "    return\n",
    "\n",
    "def save_to_pkl(obj, s3: S3FileSystem, path: str):\n",
    "    with s3.open(path, mode='wb') as fd:\n",
    "        joblib.dump (obj, fd)\n",
    "    return\n",
    "\n",
    "def load_pkl_file(s3: S3FileSystem, path: str):\n",
    "    try:\n",
    "        with s3.open(path, mode='rb') as fd:\n",
    "            obj = joblib.load(fd)\n",
    "        return obj\n",
    "    except:\n",
    "        #logging.error(f\"Error loading file: {path}\")\n",
    "        return None\n"
   ]
  },
  {
   "cell_type": "code",
   "execution_count": 4,
   "metadata": {},
   "outputs": [],
   "source": [
    "import sys\n",
    "def ShowAttrs (obj, allattrs=False, outfile=sys.stdout):\n",
    "    for attr in dir(obj):\n",
    "        par = \"()\"  if callable(getattr(obj, attr))  else  \"\"\n",
    "        if allattrs  or  not attr.startswith('__') :\n",
    "            print (f'{attr}{par}:\\n{type(getattr(obj, attr))}\\n{getattr(obj, attr).__doc__}\\n', file=outfile)"
   ]
  },
  {
   "cell_type": "code",
   "execution_count": 5,
   "metadata": {},
   "outputs": [
    {
     "data": {
      "text/plain": [
       "[50928, 373637, 372610, 437305, 321343, 157024, 420271, 186888, 224690, 294799]"
      ]
     },
     "execution_count": 5,
     "metadata": {},
     "output_type": "execute_result"
    }
   ],
   "source": [
    "fr = load_parquet_file(s3, PROD_FILES['final'])\n",
    "fr.set_index(\"visitorid\", inplace=True)\n",
    "fr.loc[155,'itemid'].to_list()[:10]"
   ]
  },
  {
   "cell_type": "code",
   "execution_count": 6,
   "metadata": {},
   "outputs": [
    {
     "data": {
      "text/html": [
       "<div>\n",
       "<style scoped>\n",
       "    .dataframe tbody tr th:only-of-type {\n",
       "        vertical-align: middle;\n",
       "    }\n",
       "\n",
       "    .dataframe tbody tr th {\n",
       "        vertical-align: top;\n",
       "    }\n",
       "\n",
       "    .dataframe thead th {\n",
       "        text-align: right;\n",
       "    }\n",
       "</style>\n",
       "<table border=\"1\" class=\"dataframe\">\n",
       "  <thead>\n",
       "    <tr style=\"text-align: right;\">\n",
       "      <th></th>\n",
       "      <th>maxrank</th>\n",
       "    </tr>\n",
       "    <tr>\n",
       "      <th>visitorid</th>\n",
       "      <th></th>\n",
       "    </tr>\n",
       "  </thead>\n",
       "  <tbody>\n",
       "    <tr>\n",
       "      <th>717032</th>\n",
       "      <td>22</td>\n",
       "    </tr>\n",
       "    <tr>\n",
       "      <th>689826</th>\n",
       "      <td>22</td>\n",
       "    </tr>\n",
       "    <tr>\n",
       "      <th>370111</th>\n",
       "      <td>22</td>\n",
       "    </tr>\n",
       "    <tr>\n",
       "      <th>1241066</th>\n",
       "      <td>22</td>\n",
       "    </tr>\n",
       "    <tr>\n",
       "      <th>1329994</th>\n",
       "      <td>22</td>\n",
       "    </tr>\n",
       "  </tbody>\n",
       "</table>\n",
       "</div>"
      ],
      "text/plain": [
       "           maxrank\n",
       "visitorid         \n",
       "717032          22\n",
       "689826          22\n",
       "370111          22\n",
       "1241066         22\n",
       "1329994         22"
      ]
     },
     "execution_count": 6,
     "metadata": {},
     "output_type": "execute_result"
    }
   ],
   "source": [
    "max_rank = fr.groupby('visitorid').agg(maxrank=('rank','max'))\n",
    "max_rank.sort_values(by='maxrank').head()"
   ]
  },
  {
   "cell_type": "code",
   "execution_count": 7,
   "metadata": {},
   "outputs": [
    {
     "data": {
      "text/html": [
       "<div>\n",
       "<style scoped>\n",
       "    .dataframe tbody tr th:only-of-type {\n",
       "        vertical-align: middle;\n",
       "    }\n",
       "\n",
       "    .dataframe tbody tr th {\n",
       "        vertical-align: top;\n",
       "    }\n",
       "\n",
       "    .dataframe thead th {\n",
       "        text-align: right;\n",
       "    }\n",
       "</style>\n",
       "<table border=\"1\" class=\"dataframe\">\n",
       "  <thead>\n",
       "    <tr style=\"text-align: right;\">\n",
       "      <th></th>\n",
       "      <th>maxrank</th>\n",
       "    </tr>\n",
       "    <tr>\n",
       "      <th>itemid</th>\n",
       "      <th></th>\n",
       "    </tr>\n",
       "  </thead>\n",
       "  <tbody>\n",
       "    <tr>\n",
       "      <th>466861</th>\n",
       "      <td>14</td>\n",
       "    </tr>\n",
       "    <tr>\n",
       "      <th>19</th>\n",
       "      <td>14</td>\n",
       "    </tr>\n",
       "    <tr>\n",
       "      <th>25</th>\n",
       "      <td>14</td>\n",
       "    </tr>\n",
       "    <tr>\n",
       "      <th>147</th>\n",
       "      <td>14</td>\n",
       "    </tr>\n",
       "    <tr>\n",
       "      <th>250</th>\n",
       "      <td>14</td>\n",
       "    </tr>\n",
       "    <tr>\n",
       "      <th>...</th>\n",
       "      <td>...</td>\n",
       "    </tr>\n",
       "    <tr>\n",
       "      <th>827</th>\n",
       "      <td>14</td>\n",
       "    </tr>\n",
       "    <tr>\n",
       "      <th>856</th>\n",
       "      <td>14</td>\n",
       "    </tr>\n",
       "    <tr>\n",
       "      <th>909</th>\n",
       "      <td>14</td>\n",
       "    </tr>\n",
       "    <tr>\n",
       "      <th>982</th>\n",
       "      <td>14</td>\n",
       "    </tr>\n",
       "    <tr>\n",
       "      <th>1152</th>\n",
       "      <td>14</td>\n",
       "    </tr>\n",
       "  </tbody>\n",
       "</table>\n",
       "<p>9226 rows × 1 columns</p>\n",
       "</div>"
      ],
      "text/plain": [
       "        maxrank\n",
       "itemid         \n",
       "466861       14\n",
       "19           14\n",
       "25           14\n",
       "147          14\n",
       "250          14\n",
       "...         ...\n",
       "827          14\n",
       "856          14\n",
       "909          14\n",
       "982          14\n",
       "1152         14\n",
       "\n",
       "[9226 rows x 1 columns]"
      ]
     },
     "execution_count": 7,
     "metadata": {},
     "output_type": "execute_result"
    }
   ],
   "source": [
    "sim = load_parquet_file(s3, PROD_FILES['similar'])\n",
    "sim.reset_index().groupby(\"itemid\").agg(maxrank=('sim_rank','max')).sort_values(by='maxrank',ascending=False)\n",
    "#sim.head()"
   ]
  },
  {
   "cell_type": "code",
   "execution_count": 8,
   "metadata": {},
   "outputs": [
    {
     "data": {
      "text/plain": [
       "{'alpha': 100.0, 'factors': 100, 'iterations': 15, 'regularization': 0.005}"
      ]
     },
     "execution_count": 8,
     "metadata": {},
     "output_type": "execute_result"
    }
   ],
   "source": [
    "als_params = load_pkl_file(s3, MODEL_FILES['als_parms'])\n",
    "als_params"
   ]
  },
  {
   "cell_type": "code",
   "execution_count": 9,
   "metadata": {},
   "outputs": [
    {
     "data": {
      "text/plain": [
       "{'depth': 6, 'learning_rate': 0.18, 'l2_leaf_reg': 1, 'iterations': 10}"
      ]
     },
     "execution_count": 9,
     "metadata": {},
     "output_type": "execute_result"
    }
   ],
   "source": [
    "cb_params = load_pkl_file(s3, MODEL_FILES['cb_parms'])\n",
    "cb_params"
   ]
  },
  {
   "cell_type": "code",
   "execution_count": 10,
   "metadata": {},
   "outputs": [
    {
     "name": "stdout",
     "output_type": "stream",
     "text": [
      "<class 'pandas.core.frame.DataFrame'>\n",
      "RangeIndex: 2099173 entries, 0 to 2099172\n",
      "Data columns (total 8 columns):\n",
      " #   Column         Non-Null Count    Dtype  \n",
      "---  ------         --------------    -----  \n",
      " 0   timestamp      2099173 non-null  int64  \n",
      " 1   visitorid      2099173 non-null  int64  \n",
      " 2   event          2099173 non-null  int8   \n",
      " 3   itemid         2099173 non-null  int64  \n",
      " 4   transactionid  18244 non-null    float64\n",
      " 5   categoryid     2099173 non-null  int64  \n",
      " 6   available      2099173 non-null  int8   \n",
      " 7   root           2099173 non-null  int64  \n",
      "dtypes: float64(1), int64(5), int8(2)\n",
      "memory usage: 100.1 MB\n"
     ]
    }
   ],
   "source": [
    "events = load_parquet_file(s3, f\"{S3_DIR}/data/events.parquet\")\n",
    "events.info(show_counts=True)"
   ]
  },
  {
   "cell_type": "code",
   "execution_count": 11,
   "metadata": {},
   "outputs": [
    {
     "name": "stdout",
     "output_type": "stream",
     "text": [
      "<class 'pandas.core.frame.DataFrame'>\n",
      "RangeIndex: 2099173 entries, 0 to 2099172\n",
      "Data columns (total 8 columns):\n",
      " #   Column         Non-Null Count    Dtype  \n",
      "---  ------         --------------    -----  \n",
      " 0   timestamp      2099173 non-null  int64  \n",
      " 1   visitorid      2099173 non-null  int64  \n",
      " 2   event          2099173 non-null  int8   \n",
      " 3   itemid         2099173 non-null  int64  \n",
      " 4   transactionid  18244 non-null    float64\n",
      " 5   categoryid     2099173 non-null  int64  \n",
      " 6   available      2099173 non-null  int8   \n",
      " 7   root           2099173 non-null  int64  \n",
      "dtypes: float64(1), int64(5), int8(2)\n",
      "memory usage: 100.1 MB\n",
      "\n"
     ]
    }
   ],
   "source": [
    "print(pd_info(events))"
   ]
  },
  {
   "cell_type": "code",
   "execution_count": 12,
   "metadata": {},
   "outputs": [
    {
     "data": {
      "text/plain": [
       "1076473"
      ]
     },
     "execution_count": 12,
     "metadata": {},
     "output_type": "execute_result"
    }
   ],
   "source": [
    "events['visitorid'].nunique()"
   ]
  },
  {
   "cell_type": "code",
   "execution_count": null,
   "metadata": {},
   "outputs": [],
   "source": []
  },
  {
   "cell_type": "code",
   "execution_count": 90,
   "metadata": {},
   "outputs": [],
   "source": [
    "import scipy\n",
    "from   sklearn.preprocessing import MinMaxScaler\n",
    "from   implicit.als          import AlternatingLeastSquares\n",
    "from   catboost              import CatBoostClassifier, Pool\n",
    "from   threadpoolctl         import threadpool_limits\n",
    "threadpool_limits(1, \"blas\")\n",
    "RANDOM_STATE = 42\n",
    "\n",
    "def get_registered_items(timestamp, items_ctgr):\n",
    "    ''' Возвращает набор itemid, для которых определена корректная категория на заданный момент времени '''\n",
    "    return  set(items_ctgr.query(\"timestamp <= @timestamp\")['itemid'])\n",
    "\n",
    "def get_unavailable_items(timestamp, items_avail):\n",
    "    ''' Возвращает набор itemid, для которых установлен признак available==0 на заданный момент времени '''\n",
    "    tmp = items_avail.query(\"timestamp <= @timestamp\").drop_duplicates(subset=['itemid'], keep='first')\n",
    "    return  set(tmp.query(\"value == '0'\")['itemid'])\n",
    "\n",
    "def get_available_items(timestamp, items_ctgr, items_avail):\n",
    "    ''' Возвращает набор itemid, доступных на заданный момент времени '''\n",
    "    return  get_registered_items(timestamp, items_ctgr) - get_unavailable_items(timestamp, items_avail)\n",
    "\n",
    "def get_item_availability(timestamp, items_ctgr, items_avail):\n",
    "    ''' Возвращает признак доступности товаров, актуальный на заданный момент времени '''\n",
    "    lst = get_registered_items(timestamp, items_ctgr)\n",
    "    tmp = items_avail.query(\"timestamp <= @timestamp and itemid in @lst\") \\\n",
    "                     .drop_duplicates(subset=['itemid'], keep='first').reset_index(drop=True)\n",
    "    return  tmp[['itemid','value']]\n",
    "\n",
    "def get_item_properties(timestamp, items):\n",
    "    ''' Возвращает свойства товаров/товара, актуальные на заданный момент времени '''\n",
    "    tmp = items.query(\"timestamp <= @timestamp\") \\\n",
    "               .drop_duplicates(subset=['itemid','property'], keep='first').reset_index(drop=True)\n",
    "    return  tmp[['itemid','property','value_code']]\n",
    "\n",
    "def calc_item_rating(df):\n",
    "    ''' Формирует вектор рейтинга взаимодействий: наличие просмотров + добавления в корзину + покупки*2 '''\n",
    "    return ((df[0] > 0) + df[1] + df[2]*2).astype(np.int16)\n",
    "\n",
    "def user_item_matrix(events_set, users, items):\n",
    "    ''' Формирует и возвращает матрицу взаимодействий в dense и sparse формате '''\n",
    "    user_item = events_set.query(\"visitorid in @users  and  itemid in @items\") \\\n",
    "                          .groupby(['visitorid','itemid'])['event'].value_counts().unstack(fill_value=0).reset_index()\n",
    "    \n",
    "    # формируем рейтинг взаимодействий\n",
    "    user_item['rating'] = 0  if user_item.shape[0]==0  else calc_item_rating(user_item)\n",
    "    return user_item, scipy.sparse.csr_matrix(\n",
    "        (user_item['rating'], (user_item['visitorid'], user_item['itemid'])), shape=(users.max()+1,items.max()+1)\n",
    "    )\n",
    "\n"
   ]
  },
  {
   "cell_type": "code",
   "execution_count": 14,
   "metadata": {},
   "outputs": [
    {
     "name": "stdout",
     "output_type": "stream",
     "text": [
      "<class 'pandas.core.frame.DataFrame'>\n",
      "RangeIndex: 17980427 entries, 0 to 17980426\n",
      "Data columns (total 4 columns):\n",
      " #   Column      Non-Null Count     Dtype\n",
      "---  ------      --------------     -----\n",
      " 0   timestamp   17980427 non-null  int64\n",
      " 1   itemid      17980427 non-null  int64\n",
      " 2   property    17980427 non-null  int64\n",
      " 3   value_code  17980427 non-null  int64\n",
      "dtypes: int64(4)\n",
      "memory usage: 548.7 MB\n"
     ]
    }
   ],
   "source": [
    "items      = load_parquet_file(s3, INFER_FILES['item_prop'])\n",
    "items_ctgr = load_parquet_file(s3, INFER_FILES['item_cat'])\n",
    "items_avail= load_parquet_file(s3, INFER_FILES['available'])\n",
    "items.info(show_counts=True)"
   ]
  },
  {
   "cell_type": "code",
   "execution_count": 15,
   "metadata": {},
   "outputs": [
    {
     "data": {
      "text/plain": [
       "Timestamp('2015-09-13 00:00:00')"
      ]
     },
     "execution_count": 15,
     "metadata": {},
     "output_type": "execute_result"
    }
   ],
   "source": [
    "inference_date = items['timestamp'].max()\n",
    "pd.to_datetime(inference_date, unit='ms')"
   ]
  },
  {
   "cell_type": "code",
   "execution_count": 16,
   "metadata": {},
   "outputs": [
    {
     "name": "stdout",
     "output_type": "stream",
     "text": [
      "<class 'pandas.core.series.Series'>\n",
      "Index: 41332 entries, 48 to 1407549\n",
      "Series name: itemid\n",
      "Non-Null Count  Dtype \n",
      "--------------  ----- \n",
      "41332 non-null  object\n",
      "dtypes: object(1)\n",
      "memory usage: 645.8+ KB\n"
     ]
    }
   ],
   "source": [
    "last_events = events.query(\"timestamp >= @inference_date\").sort_values(by='timestamp',ascending=False) \\\n",
    "                             .groupby(['visitorid','itemid']).head(3) \\\n",
    "                             .groupby('visitorid').head(10)           \\\n",
    "                             .groupby('visitorid')['itemid'].agg(list)\n",
    "last_events.info(show_counts=True)"
   ]
  },
  {
   "cell_type": "code",
   "execution_count": 17,
   "metadata": {},
   "outputs": [
    {
     "data": {
      "text/plain": [
       "visitorid\n",
       "48                                              [215123]\n",
       "54     [38965, 249114, 442228, 442228, 319680, 388096...\n",
       "83                                               [20095]\n",
       "86                                      [150060, 150060]\n",
       "115                                             [428921]\n",
       "Name: itemid, dtype: object"
      ]
     },
     "execution_count": 17,
     "metadata": {},
     "output_type": "execute_result"
    }
   ],
   "source": [
    "last_events.head()"
   ]
  },
  {
   "cell_type": "code",
   "execution_count": 27,
   "metadata": {},
   "outputs": [
    {
     "data": {
      "text/html": [
       "<div>\n",
       "<style scoped>\n",
       "    .dataframe tbody tr th:only-of-type {\n",
       "        vertical-align: middle;\n",
       "    }\n",
       "\n",
       "    .dataframe tbody tr th {\n",
       "        vertical-align: top;\n",
       "    }\n",
       "\n",
       "    .dataframe thead th {\n",
       "        text-align: right;\n",
       "    }\n",
       "</style>\n",
       "<table border=\"1\" class=\"dataframe\">\n",
       "  <thead>\n",
       "    <tr style=\"text-align: right;\">\n",
       "      <th></th>\n",
       "      <th>itemid</th>\n",
       "      <th>maxrank</th>\n",
       "    </tr>\n",
       "    <tr>\n",
       "      <th>visitorid</th>\n",
       "      <th></th>\n",
       "      <th></th>\n",
       "    </tr>\n",
       "  </thead>\n",
       "  <tbody>\n",
       "    <tr>\n",
       "      <th>1227495</th>\n",
       "      <td>[174986]</td>\n",
       "      <td>24</td>\n",
       "    </tr>\n",
       "    <tr>\n",
       "      <th>108978</th>\n",
       "      <td>[359577]</td>\n",
       "      <td>24</td>\n",
       "    </tr>\n",
       "    <tr>\n",
       "      <th>131663</th>\n",
       "      <td>[226162]</td>\n",
       "      <td>26</td>\n",
       "    </tr>\n",
       "    <tr>\n",
       "      <th>925292</th>\n",
       "      <td>[111413, 138785]</td>\n",
       "      <td>27</td>\n",
       "    </tr>\n",
       "    <tr>\n",
       "      <th>181952</th>\n",
       "      <td>[8474]</td>\n",
       "      <td>27</td>\n",
       "    </tr>\n",
       "  </tbody>\n",
       "</table>\n",
       "</div>"
      ],
      "text/plain": [
       "                     itemid  maxrank\n",
       "visitorid                           \n",
       "1227495            [174986]       24\n",
       "108978             [359577]       24\n",
       "131663             [226162]       26\n",
       "925292     [111413, 138785]       27\n",
       "181952               [8474]       27"
      ]
     },
     "execution_count": 27,
     "metadata": {},
     "output_type": "execute_result"
    }
   ],
   "source": [
    "last_events.to_frame().merge(max_rank, left_index=True, right_index=True).sort_values(by='maxrank').head()"
   ]
  },
  {
   "cell_type": "code",
   "execution_count": 28,
   "metadata": {},
   "outputs": [
    {
     "data": {
      "text/html": [
       "<div>\n",
       "<style scoped>\n",
       "    .dataframe tbody tr th:only-of-type {\n",
       "        vertical-align: middle;\n",
       "    }\n",
       "\n",
       "    .dataframe tbody tr th {\n",
       "        vertical-align: top;\n",
       "    }\n",
       "\n",
       "    .dataframe thead th {\n",
       "        text-align: right;\n",
       "    }\n",
       "</style>\n",
       "<table border=\"1\" class=\"dataframe\">\n",
       "  <thead>\n",
       "    <tr style=\"text-align: right;\">\n",
       "      <th></th>\n",
       "      <th>visitorid</th>\n",
       "      <th>itemid</th>\n",
       "    </tr>\n",
       "  </thead>\n",
       "  <tbody>\n",
       "    <tr>\n",
       "      <th>0</th>\n",
       "      <td>48</td>\n",
       "      <td>[215123]</td>\n",
       "    </tr>\n",
       "    <tr>\n",
       "      <th>1</th>\n",
       "      <td>54</td>\n",
       "      <td>[38965, 249114, 442228, 442228, 319680, 388096...</td>\n",
       "    </tr>\n",
       "    <tr>\n",
       "      <th>2</th>\n",
       "      <td>83</td>\n",
       "      <td>[20095]</td>\n",
       "    </tr>\n",
       "    <tr>\n",
       "      <th>3</th>\n",
       "      <td>86</td>\n",
       "      <td>[150060, 150060]</td>\n",
       "    </tr>\n",
       "    <tr>\n",
       "      <th>4</th>\n",
       "      <td>115</td>\n",
       "      <td>[428921]</td>\n",
       "    </tr>\n",
       "    <tr>\n",
       "      <th>...</th>\n",
       "      <td>...</td>\n",
       "      <td>...</td>\n",
       "    </tr>\n",
       "    <tr>\n",
       "      <th>41327</th>\n",
       "      <td>1407374</td>\n",
       "      <td>[164443, 419156]</td>\n",
       "    </tr>\n",
       "    <tr>\n",
       "      <th>41328</th>\n",
       "      <td>1407382</td>\n",
       "      <td>[436641]</td>\n",
       "    </tr>\n",
       "    <tr>\n",
       "      <th>41329</th>\n",
       "      <td>1407422</td>\n",
       "      <td>[354153, 354153]</td>\n",
       "    </tr>\n",
       "    <tr>\n",
       "      <th>41330</th>\n",
       "      <td>1407528</td>\n",
       "      <td>[195083, 355595, 195083]</td>\n",
       "    </tr>\n",
       "    <tr>\n",
       "      <th>41331</th>\n",
       "      <td>1407549</td>\n",
       "      <td>[446411]</td>\n",
       "    </tr>\n",
       "  </tbody>\n",
       "</table>\n",
       "<p>39049 rows × 2 columns</p>\n",
       "</div>"
      ],
      "text/plain": [
       "       visitorid                                             itemid\n",
       "0             48                                           [215123]\n",
       "1             54  [38965, 249114, 442228, 442228, 319680, 388096...\n",
       "2             83                                            [20095]\n",
       "3             86                                   [150060, 150060]\n",
       "4            115                                           [428921]\n",
       "...          ...                                                ...\n",
       "41327    1407374                                   [164443, 419156]\n",
       "41328    1407382                                           [436641]\n",
       "41329    1407422                                   [354153, 354153]\n",
       "41330    1407528                           [195083, 355595, 195083]\n",
       "41331    1407549                                           [446411]\n",
       "\n",
       "[39049 rows x 2 columns]"
      ]
     },
     "execution_count": 28,
     "metadata": {},
     "output_type": "execute_result"
    }
   ],
   "source": [
    "last_events.reset_index().query(\"visitorid not in @fr.index\")"
   ]
  },
  {
   "cell_type": "code",
   "execution_count": 23,
   "metadata": {},
   "outputs": [
    {
     "name": "stdout",
     "output_type": "stream",
     "text": [
      "<class 'pandas.core.series.Series'>\n",
      "Index: 41333 entries, 48 to 717032\n",
      "Series name: itemid\n",
      "Non-Null Count  Dtype \n",
      "--------------  ----- \n",
      "41333 non-null  object\n",
      "dtypes: object(1)\n",
      "memory usage: 1.6+ MB\n"
     ]
    }
   ],
   "source": [
    "last_events.at[717032] = list(['vasia'] + last_events.at[717032])\n",
    "last_events.info(show_counts=True)"
   ]
  },
  {
   "cell_type": "code",
   "execution_count": 24,
   "metadata": {},
   "outputs": [
    {
     "data": {
      "text/plain": [
       "['vasia', 9997, 77777777]"
      ]
     },
     "execution_count": 24,
     "metadata": {},
     "output_type": "execute_result"
    }
   ],
   "source": [
    "last_events.at[717032]"
   ]
  },
  {
   "cell_type": "code",
   "execution_count": null,
   "metadata": {},
   "outputs": [],
   "source": []
  },
  {
   "attachments": {},
   "cell_type": "markdown",
   "metadata": {},
   "source": [
    "Для DAG-a"
   ]
  },
  {
   "cell_type": "code",
   "execution_count": 65,
   "metadata": {},
   "outputs": [
    {
     "data": {
      "text/plain": [
       "(Timestamp('2015-09-18 00:00:00'),\n",
       " Timestamp('2015-08-21 00:00:00'),\n",
       " Timestamp('2015-09-18 00:00:00'),\n",
       " Timestamp('2015-06-26 00:00:00'))"
      ]
     },
     "execution_count": 65,
     "metadata": {},
     "output_type": "execute_result"
    }
   ],
   "source": [
    "retrain = False\n",
    "\n",
    "# ---------------------------------------\n",
    "# Определяем опорные даты для расчетов\n",
    "# ---------------------------------------\n",
    "MS_PER_DAY     = 24*60*60*1000\n",
    "max_event_time = events['timestamp'].max()\n",
    "infer_time     = ((max_event_time-1) // MS_PER_DAY +1) * MS_PER_DAY\n",
    "infer_date     = pd.to_datetime(infer_time, unit='ms')\n",
    "#logging.info(f\"Calculated inference date: {infer_date}\")\n",
    "\n",
    "# для ограничения размера матрицы взаимодействий, в режиме расчета рекомендаций возьмем только \n",
    "# пользователей, проявивших активность за последние недели (~60 тыс уникальных пользователей в неделю)\n",
    "cut_off_time   = 0 if retrain  else infer_time - 7*CONFIG['EVENT_CUT_OFF_WEEKS']*MS_PER_DAY\n",
    "#if not retrain:  logging.info(f\"Calculated cut_off time: {pd.to_datetime(cut_off_time, unit='ms')}\")\n",
    "\n",
    "# в режиме переобучения моделей необходимо определить точку для разделения выборки на train/target\n",
    "target_time    = infer_time if not retrain  else (\n",
    "                    infer_time - 7*CONFIG['EVENT_TARGET_WEEKS']*MS_PER_DAY\n",
    ")\n",
    "# расчитываем время отсечения событий для определения АКТУАЛЬНЫХ топ-100 товаров\n",
    "top_pop_time   = infer_time - 7*CONFIG['EVENT_POPULAR_WEEKS']*MS_PER_DAY\n",
    "\n",
    "pd.to_datetime(infer_time, unit='ms'), pd.to_datetime(cut_off_time, unit='ms'), pd.to_datetime(target_time, unit='ms'), pd.to_datetime(top_pop_time, unit='ms')\n"
   ]
  },
  {
   "cell_type": "code",
   "execution_count": 66,
   "metadata": {},
   "outputs": [
    {
     "data": {
      "text/html": [
       "<div>\n",
       "<style scoped>\n",
       "    .dataframe tbody tr th:only-of-type {\n",
       "        vertical-align: middle;\n",
       "    }\n",
       "\n",
       "    .dataframe tbody tr th {\n",
       "        vertical-align: top;\n",
       "    }\n",
       "\n",
       "    .dataframe thead th {\n",
       "        text-align: right;\n",
       "    }\n",
       "</style>\n",
       "<table border=\"1\" class=\"dataframe\">\n",
       "  <thead>\n",
       "    <tr style=\"text-align: right;\">\n",
       "      <th>event</th>\n",
       "      <th>itemid</th>\n",
       "      <th>rating</th>\n",
       "      <th>pop_score</th>\n",
       "    </tr>\n",
       "  </thead>\n",
       "  <tbody>\n",
       "    <tr>\n",
       "      <th>0</th>\n",
       "      <td>461686</td>\n",
       "      <td>472</td>\n",
       "      <td>1.000000</td>\n",
       "    </tr>\n",
       "    <tr>\n",
       "      <th>1</th>\n",
       "      <td>213834</td>\n",
       "      <td>200</td>\n",
       "      <td>0.404814</td>\n",
       "    </tr>\n",
       "    <tr>\n",
       "      <th>2</th>\n",
       "      <td>320130</td>\n",
       "      <td>174</td>\n",
       "      <td>0.347921</td>\n",
       "    </tr>\n",
       "  </tbody>\n",
       "</table>\n",
       "</div>"
      ],
      "text/plain": [
       "event  itemid  rating  pop_score\n",
       "0      461686     472   1.000000\n",
       "1      213834     200   0.404814\n",
       "2      320130     174   0.347921"
      ]
     },
     "execution_count": 66,
     "metadata": {},
     "output_type": "execute_result"
    }
   ],
   "source": [
    "# ---------------------------------------\n",
    "# Определяем топ-100 популярных товаров\n",
    "# ---------------------------------------\n",
    "top_popular = events.query(\"timestamp >= @top_pop_time\")                               \\\n",
    "                    .groupby(['itemid'])['event'].value_counts().unstack(fill_value=0) \\\n",
    "                    .sort_values(by=2,ascending=False).head(100)\n",
    "\n",
    "# считаем и масштабируем рейтинг популярности\n",
    "top_popular['rating']    = calc_item_rating(top_popular)\n",
    "top_popular['pop_score'] = MinMaxScaler().fit_transform(top_popular['rating'].to_frame())\n",
    "\n",
    "# сортируем по скорингу\n",
    "top_popular = top_popular[['rating','pop_score']].sort_values(by='rating',ascending=False).reset_index()\n",
    "top_popular.head(3)\n"
   ]
  },
  {
   "cell_type": "code",
   "execution_count": 67,
   "metadata": {},
   "outputs": [
    {
     "data": {
      "text/plain": [
       "242080"
      ]
     },
     "execution_count": 67,
     "metadata": {},
     "output_type": "execute_result"
    }
   ],
   "source": [
    "# пользователи, которым будем давать персональные рекомендации\n",
    "if  not retrain:\n",
    "    hot_users = events.query(\"timestamp >= @cut_off_time\")['visitorid'].unique()\n",
    "else:\n",
    "    users1    = events.query(\"timestamp <  @target_time\")['visitorid'].unique()\n",
    "    users2    = events.query(\"timestamp >= @target_time\")['visitorid'].unique()\n",
    "    hot_users = events.query(\"visitorid in @users1 and visitorid in @users2\")['visitorid'].unique()\n",
    "    del users1, users2\n",
    "hot_users.shape[0]"
   ]
  },
  {
   "cell_type": "code",
   "execution_count": 68,
   "metadata": {},
   "outputs": [
    {
     "data": {
      "text/plain": [
       "54010"
      ]
     },
     "execution_count": 68,
     "metadata": {},
     "output_type": "execute_result"
    }
   ],
   "source": [
    "# для рекомендаций (но не для обучения!) будем использовать только доступные товары\n",
    "if  not retrain:\n",
    "    av_items = np.array(list(get_available_items (infer_time, items_ctgr, items_avail)))\n",
    "else:\n",
    "    av_items = np.array(list(get_registered_items(target_time, items_ctgr)))\n",
    "av_items.shape[0]"
   ]
  },
  {
   "cell_type": "code",
   "execution_count": 69,
   "metadata": {},
   "outputs": [
    {
     "data": {
      "text/plain": [
       "1076473"
      ]
     },
     "execution_count": 69,
     "metadata": {},
     "output_type": "execute_result"
    }
   ],
   "source": [
    "als_users = events.query(\"timestamp < @target_time\")['visitorid'].unique()\n",
    "als_users.shape[0]"
   ]
  },
  {
   "cell_type": "code",
   "execution_count": 70,
   "metadata": {},
   "outputs": [
    {
     "data": {
      "text/plain": [
       "set()"
      ]
     },
     "execution_count": 70,
     "metadata": {},
     "output_type": "execute_result"
    }
   ],
   "source": [
    "set(hot_users) - set(als_users)"
   ]
  },
  {
   "cell_type": "code",
   "execution_count": 91,
   "metadata": {},
   "outputs": [
    {
     "data": {
      "text/plain": [
       "<Compressed Sparse Row sparse matrix of dtype 'int16'\n",
       "\twith 643971 stored elements and shape (1407580, 466859)>"
      ]
     },
     "execution_count": 91,
     "metadata": {},
     "output_type": "execute_result"
    }
   ],
   "source": [
    "# строим матрицу взаимодействий:  hot_users x av_items\n",
    "user_item, user_item_sparse = user_item_matrix(\n",
    "    events.query(\"timestamp < @target_time\"), als_users, av_items\n",
    ")\n",
    "user_item_sparse"
   ]
  },
  {
   "cell_type": "code",
   "execution_count": 92,
   "metadata": {},
   "outputs": [
    {
     "data": {
      "text/plain": [
       "<Compressed Sparse Row sparse matrix of dtype 'int64'\n",
       "\twith 0 stored elements and shape (1407572, 466859)>"
      ]
     },
     "execution_count": 92,
     "metadata": {},
     "output_type": "execute_result"
    }
   ],
   "source": [
    "# валидационная матрица взаимодействий (в режиме расчета рекомендаций - ПУСТАЯ)\n",
    "user_item_val, user_item_val_sparse = user_item_matrix(\n",
    "    events.query(\"timestamp >= @target_time\"), hot_users, av_items\n",
    ")\n",
    "user_item_val_sparse"
   ]
  },
  {
   "cell_type": "code",
   "execution_count": 86,
   "metadata": {},
   "outputs": [
    {
     "data": {
      "text/plain": [
       "466858"
      ]
     },
     "execution_count": 86,
     "metadata": {},
     "output_type": "execute_result"
    }
   ],
   "source": [
    "av_items.max()"
   ]
  },
  {
   "cell_type": "code",
   "execution_count": null,
   "metadata": {},
   "outputs": [],
   "source": []
  },
  {
   "cell_type": "code",
   "execution_count": null,
   "metadata": {},
   "outputs": [
    {
     "data": {
      "text/plain": [
       "(19964,)"
      ]
     },
     "metadata": {},
     "output_type": "display_data"
    }
   ],
   "source": [
    "MS_PER_DAY     = 24*60*60*1000\n",
    "target_time =  inference_date - 7* 4 *MS_PER_DAY\n",
    "users1 = events.query(\"timestamp < @target_time\")['visitorid'].unique()\n",
    "users2 = events.query(\"timestamp>= @target_time\")['visitorid'].unique()\n",
    "hot_users = events.query(\"visitorid in @users1 and visitorid in @users2\")['visitorid'].unique()\n",
    "hot_users.shape\n"
   ]
  },
  {
   "cell_type": "code",
   "execution_count": null,
   "metadata": {},
   "outputs": [],
   "source": []
  },
  {
   "cell_type": "code",
   "execution_count": 52,
   "metadata": {},
   "outputs": [
    {
     "data": {
      "text/plain": [
       "(242080,)"
      ]
     },
     "execution_count": 52,
     "metadata": {},
     "output_type": "execute_result"
    }
   ],
   "source": [
    "WEEKS_TO_GET   = 4\n",
    "MS_PER_DAY     = 24*60*60*1000\n",
    "max_event_time = events['timestamp'].max()\n",
    "infer_date     = pd.to_datetime(((max_event_time-1) // MS_PER_DAY +1) * MS_PER_DAY, unit='ms')\n",
    "#cut_off_time   = ((max_event_time-1) // MS_PER_DAY +1 - WEEKS_TO_GET*0) * MS_PER_DAY\n",
    "cut_off_time   = infer_date.value//1000000 - WEEKS_TO_GET*7* MS_PER_DAY\n",
    "\n",
    "hot_users = events.query(\"timestamp >= @cut_off_time\")['visitorid'].unique()\n",
    "hot_users.shape"
   ]
  },
  {
   "cell_type": "code",
   "execution_count": 33,
   "metadata": {},
   "outputs": [
    {
     "data": {
      "text/plain": [
       "54010"
      ]
     },
     "execution_count": 33,
     "metadata": {},
     "output_type": "execute_result"
    }
   ],
   "source": [
    "av_items = get_available_items(max_event_time-1, items_ctgr, items_avail)\n",
    "len(av_items)"
   ]
  },
  {
   "cell_type": "code",
   "execution_count": 54,
   "metadata": {},
   "outputs": [
    {
     "data": {
      "text/plain": [
       "Timestamp('2015-09-18 00:00:00')"
      ]
     },
     "execution_count": 54,
     "metadata": {},
     "output_type": "execute_result"
    }
   ],
   "source": [
    "infer_date"
   ]
  },
  {
   "cell_type": "code",
   "execution_count": 34,
   "metadata": {},
   "outputs": [
    {
     "data": {
      "text/plain": [
       "<Compressed Sparse Row sparse matrix of dtype 'int16'\n",
       "\twith 643971 stored elements and shape (1407569, 466859)>"
      ]
     },
     "execution_count": 34,
     "metadata": {},
     "output_type": "execute_result"
    }
   ],
   "source": [
    "MONTHS_TO_GET  = 6\n",
    "cut_off_full   = ((max_event_time-1) // MS_PER_DAY +1 - MONTHS_TO_GET*28) * MS_PER_DAY\n",
    "user_item, user_item_matrix_full = user_item_matrix(events,\n",
    "    events.query(\"timestamp >= @cut_off_full\")['visitorid'].unique(), av_items\n",
    ")\n",
    "user_item_matrix_full"
   ]
  },
  {
   "cell_type": "code",
   "execution_count": 56,
   "metadata": {},
   "outputs": [
    {
     "name": "stdout",
     "output_type": "stream",
     "text": [
      "<class 'pandas.core.frame.DataFrame'>\n",
      "RangeIndex: 643971 entries, 0 to 643970\n",
      "Data columns (total 6 columns):\n",
      " #   Column     Non-Null Count   Dtype\n",
      "---  ------     --------------   -----\n",
      " 0   visitorid  643971 non-null  int64\n",
      " 1   itemid     643971 non-null  int64\n",
      " 2   0          643971 non-null  int64\n",
      " 3   1          643971 non-null  int64\n",
      " 4   2          643971 non-null  int64\n",
      " 5   rating     643971 non-null  int16\n",
      "dtypes: int16(1), int64(5)\n",
      "memory usage: 25.8 MB\n"
     ]
    }
   ],
   "source": [
    "user_item.info(show_counts=True)"
   ]
  },
  {
   "cell_type": "code",
   "execution_count": 57,
   "metadata": {},
   "outputs": [
    {
     "data": {
      "text/plain": [
       "(113697,)"
      ]
     },
     "execution_count": 57,
     "metadata": {},
     "output_type": "execute_result"
    }
   ],
   "source": [
    "hot_users = events.query(\"timestamp >= @cut_off_time and visitorid in @user_item['visitorid'].unique()\")['visitorid'].unique()\n",
    "hot_users.shape"
   ]
  },
  {
   "cell_type": "code",
   "execution_count": 58,
   "metadata": {},
   "outputs": [
    {
     "data": {
      "text/plain": [
       "409564"
      ]
     },
     "execution_count": 58,
     "metadata": {},
     "output_type": "execute_result"
    }
   ],
   "source": [
    "user_item['visitorid'].nunique()"
   ]
  },
  {
   "cell_type": "code",
   "execution_count": 59,
   "metadata": {},
   "outputs": [
    {
     "data": {
      "text/plain": [
       "39508"
      ]
     },
     "execution_count": 59,
     "metadata": {},
     "output_type": "execute_result"
    }
   ],
   "source": [
    "user_item['itemid'].nunique()"
   ]
  },
  {
   "cell_type": "code",
   "execution_count": 60,
   "metadata": {},
   "outputs": [],
   "source": [
    "als_model = AlternatingLeastSquares(random_state=RANDOM_STATE, **als_params)\n",
    "als_model.fit(user_item_matrix_full, show_progress=False)\n"
   ]
  },
  {
   "cell_type": "code",
   "execution_count": 61,
   "metadata": {},
   "outputs": [
    {
     "name": "stdout",
     "output_type": "stream",
     "text": [
      "<class 'pandas.core.frame.DataFrame'>\n",
      "RangeIndex: 1705455 entries, 0 to 1705454\n",
      "Data columns (total 4 columns):\n",
      " #   Column     Dtype  \n",
      "---  ------     -----  \n",
      " 0   visitorid  int64  \n",
      " 1   als_rank   int64  \n",
      " 2   itemid     int32  \n",
      " 3   als_score  float32\n",
      "dtypes: float32(1), int32(1), int64(2)\n",
      "memory usage: 39.0 MB\n"
     ]
    }
   ],
   "source": [
    "# вычисляем коллаборативные рекомендации\n",
    "RECS_PER_USER = 15\n",
    "als_recommendations = als_model.recommend(\n",
    "    hot_users, \n",
    "    user_item_matrix_full[hot_users], \n",
    "    filter_already_liked_items=True, N=RECS_PER_USER\n",
    ")\n",
    "\n",
    "personal_als  = pd.DataFrame({\n",
    "    'itemid'   : als_recommendations[0].ravel(),\n",
    "    'als_score': als_recommendations[1].ravel()\n",
    "}, index=pd.MultiIndex.from_product([hot_users, range(RECS_PER_USER)], names=['visitorid', 'als_rank'])\n",
    ").reset_index()\n",
    "\n",
    "del als_recommendations\n",
    "personal_als.info()"
   ]
  },
  {
   "cell_type": "code",
   "execution_count": 62,
   "metadata": {},
   "outputs": [
    {
     "data": {
      "text/plain": [
       "visitorid    113697\n",
       "als_rank         15\n",
       "itemid         9196\n",
       "als_score    972419\n",
       "dtype: int64"
      ]
     },
     "execution_count": 62,
     "metadata": {},
     "output_type": "execute_result"
    }
   ],
   "source": [
    "personal_als.nunique()"
   ]
  },
  {
   "cell_type": "code",
   "execution_count": 63,
   "metadata": {},
   "outputs": [
    {
     "name": "stdout",
     "output_type": "stream",
     "text": [
      "<class 'pandas.core.frame.DataFrame'>\n",
      "RangeIndex: 183920 entries, 0 to 183919\n",
      "Data columns (total 4 columns):\n",
      " #   Column      Non-Null Count   Dtype  \n",
      "---  ------      --------------   -----  \n",
      " 0   itemid      183920 non-null  int32  \n",
      " 1   sim_rank    183920 non-null  int64  \n",
      " 2   sim_itemid  183920 non-null  int32  \n",
      " 3   sim_score   183920 non-null  float32\n",
      "dtypes: float32(1), int32(2), int64(1)\n",
      "memory usage: 3.5 MB\n"
     ]
    }
   ],
   "source": [
    "SIMS_PER_ITEM = 20\n",
    "#sim_items = als_model.similar_items(user_item['itemid'].unique(), N=SIMS_PER_ITEM)\n",
    "sim_items = als_model.similar_items(personal_als['itemid'].unique(), N=SIMS_PER_ITEM)\n",
    "\n",
    "als_similar = pd.DataFrame({\n",
    "    'sim_itemid': sim_items[0].ravel(),\n",
    "    'sim_score' : sim_items[1].ravel()\n",
    "}, index=pd.MultiIndex.from_product(\n",
    "    #[user_item['itemid'].unique(), range(SIMS_PER_ITEM)], names=['itemid', 'sim_rank']\n",
    "    [personal_als['itemid'].unique(), range(SIMS_PER_ITEM)], names=['itemid', 'sim_rank']\n",
    ")).reset_index()\n",
    "del sim_items\n",
    "\n",
    "als_similar.info(show_counts=True)"
   ]
  },
  {
   "cell_type": "code",
   "execution_count": 64,
   "metadata": {},
   "outputs": [
    {
     "data": {
      "text/plain": [
       "itemid          9196\n",
       "sim_rank          20\n",
       "sim_itemid     28655\n",
       "sim_score     157615\n",
       "dtype: int64"
      ]
     },
     "execution_count": 64,
     "metadata": {},
     "output_type": "execute_result"
    }
   ],
   "source": [
    "als_similar.nunique()"
   ]
  },
  {
   "cell_type": "code",
   "execution_count": 65,
   "metadata": {},
   "outputs": [
    {
     "data": {
      "text/plain": [
       "set()"
      ]
     },
     "execution_count": 65,
     "metadata": {},
     "output_type": "execute_result"
    }
   ],
   "source": [
    "set(als_similar['itemid']) - set(als_similar['sim_itemid'])"
   ]
  },
  {
   "cell_type": "code",
   "execution_count": 66,
   "metadata": {},
   "outputs": [
    {
     "name": "stdout",
     "output_type": "stream",
     "text": [
      "<class 'pandas.core.frame.DataFrame'>\n",
      "RangeIndex: 14418217 entries, 0 to 14418216\n",
      "Data columns (total 4 columns):\n",
      " #   Column     Non-Null Count     Dtype  \n",
      "---  ------     --------------     -----  \n",
      " 0   visitorid  14418217 non-null  int64  \n",
      " 1   itemid     14418217 non-null  int32  \n",
      " 2   sim_score  14418217 non-null  float32\n",
      " 3   als_score  1705455 non-null   float32\n",
      "dtypes: float32(2), int32(1), int64(1)\n",
      "memory usage: 275.0 MB\n"
     ]
    }
   ],
   "source": [
    "# объединяем информацию из personal_als, als_similar и top_popular в привязке к visitorid\n",
    "\n",
    "candidades = personal_als[['visitorid','itemid']].merge(\n",
    "    als_similar, how='left', on='itemid'\n",
    ").groupby(['visitorid','sim_itemid']).agg(\n",
    "    sim_score=('sim_score','max')\n",
    ").reset_index().rename(\n",
    "    columns={'sim_itemid': 'itemid'} \n",
    ").merge(\n",
    "    personal_als[['visitorid','itemid','als_score']], how='outer', on=['visitorid','itemid']\n",
    ")\n",
    "candidades.info(show_counts=True)"
   ]
  },
  {
   "cell_type": "code",
   "execution_count": 67,
   "metadata": {},
   "outputs": [
    {
     "data": {
      "text/plain": [
       "visitorid    113697\n",
       "itemid        28655\n",
       "sim_score    126818\n",
       "als_score    972419\n",
       "dtype: int64"
      ]
     },
     "execution_count": 67,
     "metadata": {},
     "output_type": "execute_result"
    }
   ],
   "source": [
    "candidades.nunique()"
   ]
  },
  {
   "cell_type": "code",
   "execution_count": 68,
   "metadata": {},
   "outputs": [
    {
     "name": "stdout",
     "output_type": "stream",
     "text": [
      "<class 'pandas.core.frame.DataFrame'>\n",
      "RangeIndex: 11166726 entries, 0 to 11166725\n",
      "Data columns (total 3 columns):\n",
      " #   Column      Non-Null Count     Dtype\n",
      "---  ------      --------------     -----\n",
      " 0   itemid      11166726 non-null  int64\n",
      " 1   property    11166726 non-null  int64\n",
      " 2   value_code  11166726 non-null  int64\n",
      "dtypes: int64(3)\n",
      "memory usage: 255.6 MB\n"
     ]
    }
   ],
   "source": [
    "item_props = get_item_properties(max_event_time-1, items)\n",
    "item_props.info(show_counts=True)"
   ]
  },
  {
   "cell_type": "code",
   "execution_count": 69,
   "metadata": {},
   "outputs": [
    {
     "data": {
      "text/plain": [
       "itemid        416916\n",
       "property        1102\n",
       "value_code    448345\n",
       "dtype: int64"
      ]
     },
     "execution_count": 69,
     "metadata": {},
     "output_type": "execute_result"
    }
   ],
   "source": [
    "item_props.nunique()"
   ]
  },
  {
   "cell_type": "code",
   "execution_count": 70,
   "metadata": {},
   "outputs": [
    {
     "data": {
      "text/plain": [
       "(601,)"
      ]
     },
     "execution_count": 70,
     "metadata": {},
     "output_type": "execute_result"
    }
   ],
   "source": [
    "prop_vals = item_props.groupby('property').agg(nvalues=('value_code','max')).reset_index()\n",
    "categorical_props = prop_vals.query(\"nvalues < 10\")['property'].unique()\n",
    "categorical_props.shape"
   ]
  },
  {
   "cell_type": "code",
   "execution_count": 71,
   "metadata": {},
   "outputs": [
    {
     "name": "stdout",
     "output_type": "stream",
     "text": [
      "<class 'pandas.core.frame.DataFrame'>\n",
      "Index: 192432 entries, 265 to 11166675\n",
      "Data columns (total 3 columns):\n",
      " #   Column      Non-Null Count   Dtype\n",
      "---  ------      --------------   -----\n",
      " 0   itemid      192432 non-null  int64\n",
      " 1   property    192432 non-null  int64\n",
      " 2   value_code  192432 non-null  int64\n",
      "dtypes: int64(3)\n",
      "memory usage: 5.9 MB\n"
     ]
    }
   ],
   "source": [
    "tmp1 = item_props.query(\"itemid in @candidades['itemid'].unique() and property in @categorical_props\")\n",
    "tmp1.info(show_counts=True)"
   ]
  },
  {
   "cell_type": "code",
   "execution_count": 72,
   "metadata": {},
   "outputs": [
    {
     "data": {
      "text/plain": [
       "itemid        28655\n",
       "property        470\n",
       "value_code       10\n",
       "dtype: int64"
      ]
     },
     "execution_count": 72,
     "metadata": {},
     "output_type": "execute_result"
    }
   ],
   "source": [
    "tmp1.nunique()"
   ]
  },
  {
   "cell_type": "code",
   "execution_count": 73,
   "metadata": {},
   "outputs": [
    {
     "name": "stdout",
     "output_type": "stream",
     "text": [
      "<class 'pandas.core.frame.DataFrame'>\n",
      "RangeIndex: 102343966 entries, 0 to 102343965\n",
      "Data columns (total 4 columns):\n",
      " #   Column      Non-Null Count      Dtype\n",
      "---  ------      --------------      -----\n",
      " 0   visitorid   102343966 non-null  int64\n",
      " 1   itemid      102343966 non-null  int32\n",
      " 2   property    102343966 non-null  int64\n",
      " 3   value_code  102343966 non-null  int64\n",
      "dtypes: int32(1), int64(3)\n",
      "memory usage: 2.7 GB\n"
     ]
    }
   ],
   "source": [
    "user_item_prop = candidades[['visitorid','itemid']].merge(\n",
    "    tmp1, how='left', on='itemid'\n",
    ")\n",
    "user_item_prop.info(show_counts=True)"
   ]
  },
  {
   "cell_type": "code",
   "execution_count": 74,
   "metadata": {},
   "outputs": [
    {
     "data": {
      "text/plain": [
       "visitorid     113697\n",
       "itemid         28655\n",
       "property         470\n",
       "value_code        10\n",
       "dtype: int64"
      ]
     },
     "execution_count": 74,
     "metadata": {},
     "output_type": "execute_result"
    }
   ],
   "source": [
    "user_item_prop.nunique()"
   ]
  },
  {
   "cell_type": "code",
   "execution_count": 75,
   "metadata": {},
   "outputs": [
    {
     "data": {
      "text/plain": [
       "visitorid     113697\n",
       "property         470\n",
       "prop_score       300\n",
       "dtype: int64"
      ]
     },
     "execution_count": 75,
     "metadata": {},
     "output_type": "execute_result"
    }
   ],
   "source": [
    "user_prop_score = user_item_prop.groupby(['visitorid','property']).agg(\n",
    "    prop_score=('itemid','nunique')\n",
    ").reset_index()\n",
    "user_prop_score.nunique()"
   ]
  },
  {
   "cell_type": "code",
   "execution_count": 76,
   "metadata": {},
   "outputs": [
    {
     "name": "stdout",
     "output_type": "stream",
     "text": [
      "<class 'pandas.core.frame.DataFrame'>\n",
      "RangeIndex: 5421590 entries, 0 to 5421589\n",
      "Data columns (total 3 columns):\n",
      " #   Column      Non-Null Count    Dtype\n",
      "---  ------      --------------    -----\n",
      " 0   visitorid   5421590 non-null  int64\n",
      " 1   property    5421590 non-null  int64\n",
      " 2   prop_score  5421590 non-null  int64\n",
      "dtypes: int64(3)\n",
      "memory usage: 124.1 MB\n"
     ]
    }
   ],
   "source": [
    "user_prop_score .info(show_counts=True)"
   ]
  },
  {
   "cell_type": "code",
   "execution_count": 77,
   "metadata": {},
   "outputs": [
    {
     "name": "stdout",
     "output_type": "stream",
     "text": [
      "<class 'pandas.core.frame.DataFrame'>\n",
      "RangeIndex: 14418217 entries, 0 to 14418216\n",
      "Data columns (total 3 columns):\n",
      " #   Column      Non-Null Count     Dtype  \n",
      "---  ------      --------------     -----  \n",
      " 0   visitorid   14418217 non-null  int64  \n",
      " 1   itemid      14418217 non-null  int32  \n",
      " 2   prop_score  14418217 non-null  float64\n",
      "dtypes: float64(1), int32(1), int64(1)\n",
      "memory usage: 275.0 MB\n"
     ]
    }
   ],
   "source": [
    "user_item_prop_score = user_item_prop.merge(\n",
    "    user_prop_score, how='left', on=['visitorid','property']\n",
    ").groupby(['visitorid','itemid']).agg(\n",
    "    prop_score=('prop_score','mean')\n",
    ").fillna(0).reset_index()\n",
    "user_item_prop_score.info(show_counts=True)"
   ]
  },
  {
   "cell_type": "code",
   "execution_count": 78,
   "metadata": {},
   "outputs": [
    {
     "data": {
      "text/plain": [
       "visitorid     113697\n",
       "itemid         28655\n",
       "prop_score     19079\n",
       "dtype: int64"
      ]
     },
     "execution_count": 78,
     "metadata": {},
     "output_type": "execute_result"
    }
   ],
   "source": [
    "user_item_prop_score.nunique()"
   ]
  },
  {
   "cell_type": "code",
   "execution_count": 79,
   "metadata": {},
   "outputs": [],
   "source": [
    "def normalize_col_by_col(df: pd.DataFrame, col: str, by_col: str):\n",
    "    from sklearn.preprocessing import normalize\n",
    "    tmp      = df.sort_values(by=by_col)\n",
    "    tmp[col] = tmp.groupby(by_col)[col].apply(\n",
    "        lambda x: normalize(x.values.reshape(-1,1), norm='l1', axis=0, copy=True, return_norm=True)[0].ravel()\n",
    "    ).explode(col).values.astype('float32')\n",
    "    df[col]  = tmp[col]\n",
    "normalize_col_by_col(user_item_prop_score, 'prop_score', 'visitorid')\n"
   ]
  },
  {
   "cell_type": "code",
   "execution_count": 81,
   "metadata": {},
   "outputs": [
    {
     "name": "stdout",
     "output_type": "stream",
     "text": [
      "<class 'pandas.core.frame.DataFrame'>\n",
      "RangeIndex: 14418217 entries, 0 to 14418216\n",
      "Data columns (total 3 columns):\n",
      " #   Column     Dtype  \n",
      "---  ------     -----  \n",
      " 0   visitorid  int64  \n",
      " 1   itemid     int64  \n",
      " 2   hit_score  float64\n",
      "dtypes: float64(1), int64(2)\n",
      "memory usage: 330.0 MB\n"
     ]
    }
   ],
   "source": [
    "# считаем hit_score\n",
    "user_item_hit_score = events.query(\"visitorid in @hot_users\").groupby(\n",
    "    ['visitorid','itemid']\n",
    ").agg(\n",
    "    hit_score=('event','nunique')\n",
    ").reset_index().merge(\n",
    "    candidades[['visitorid','itemid']], how='right', on=['visitorid','itemid']\n",
    ").fillna(0)\n",
    "\n",
    "user_item_hit_score.info()"
   ]
  },
  {
   "cell_type": "code",
   "execution_count": 82,
   "metadata": {},
   "outputs": [
    {
     "name": "stdout",
     "output_type": "stream",
     "text": [
      "<class 'pandas.core.frame.DataFrame'>\n",
      "RangeIndex: 113697 entries, 0 to 113696\n",
      "Data columns (total 6 columns):\n",
      " #   Column         Non-Null Count   Dtype  \n",
      "---  ------         --------------   -----  \n",
      " 0   visitorid      113697 non-null  int64  \n",
      " 1   stage          113697 non-null  int64  \n",
      " 2   nclicks        113697 non-null  int64  \n",
      " 3   nbuys          113697 non-null  int64  \n",
      " 4   click_per_day  113697 non-null  float64\n",
      " 5   buy_per_click  113697 non-null  float64\n",
      "dtypes: float64(2), int64(4)\n",
      "memory usage: 5.2 MB\n"
     ]
    }
   ],
   "source": [
    "# добавляем признаки пользователя - \"стаж\" и активность\n",
    "user_features = events.query(\"visitorid in @hot_users\").groupby(\"visitorid\").agg(\n",
    "    stage  =('timestamp', lambda x: (infer_date - pd.to_datetime(x.min(),unit='ms')).days +1),\n",
    "    nclicks=('timestamp', 'count'),\n",
    "    nbuys  =('transactionid', 'count')\n",
    ").reset_index()\n",
    "user_features[\"click_per_day\"] = user_features[\"nclicks\"] / user_features[\"stage\"]\n",
    "user_features[\"buy_per_click\"] = user_features[\"nbuys\"]   / user_features[\"nclicks\"]\n",
    "user_features.info()"
   ]
  },
  {
   "cell_type": "code",
   "execution_count": 83,
   "metadata": {},
   "outputs": [
    {
     "name": "stdout",
     "output_type": "stream",
     "text": [
      "<class 'pandas.core.frame.DataFrame'>\n",
      "RangeIndex: 14418217 entries, 0 to 14418216\n",
      "Data columns (total 9 columns):\n",
      " #   Column         Non-Null Count     Dtype  \n",
      "---  ------         --------------     -----  \n",
      " 0   visitorid      14418217 non-null  int64  \n",
      " 1   itemid         14418217 non-null  int32  \n",
      " 2   sim_score      14418217 non-null  float32\n",
      " 3   als_score      1705455 non-null   float32\n",
      " 4   prop_score     14418217 non-null  float32\n",
      " 5   hit_score      14418217 non-null  float64\n",
      " 6   stage          14418217 non-null  int64  \n",
      " 7   click_per_day  14418217 non-null  float64\n",
      " 8   buy_per_click  14418217 non-null  float64\n",
      "dtypes: float32(3), float64(3), int32(1), int64(2)\n",
      "memory usage: 770.0 MB\n"
     ]
    }
   ],
   "source": [
    "# вносим сформированные дополнительные признаки в candidades_for_train\n",
    "candidades = candidades.merge(\n",
    "    user_item_prop_score, how='left', on=['visitorid','itemid']\n",
    ").merge(\n",
    "    user_item_hit_score,  how='left', on=['visitorid','itemid']\n",
    ").merge(\n",
    "    user_features[['visitorid','stage','click_per_day','buy_per_click']], how='left', on=['visitorid']\n",
    ")\n",
    "candidades.info(show_counts=True)\n"
   ]
  },
  {
   "cell_type": "code",
   "execution_count": 84,
   "metadata": {},
   "outputs": [
    {
     "data": {
      "text/plain": [
       "visitorid        113697\n",
       "itemid            28655\n",
       "sim_score        126818\n",
       "als_score        972419\n",
       "prop_score       735236\n",
       "hit_score             4\n",
       "stage               131\n",
       "click_per_day      2198\n",
       "buy_per_click       234\n",
       "dtype: int64"
      ]
     },
     "execution_count": 84,
     "metadata": {},
     "output_type": "execute_result"
    }
   ],
   "source": [
    "candidades.nunique()"
   ]
  },
  {
   "cell_type": "code",
   "execution_count": 3,
   "metadata": {},
   "outputs": [
    {
     "data": {
      "text/plain": [
       "'89.169.168.158'"
      ]
     },
     "execution_count": 3,
     "metadata": {},
     "output_type": "execute_result"
    }
   ],
   "source": [
    "import subprocess\n",
    "my_ip = subprocess.run(['curl', 'ifconfig.co/'], capture_output=True, text=True).stdout.strip()\n",
    "my_ip"
   ]
  },
  {
   "cell_type": "code",
   "execution_count": 1,
   "metadata": {},
   "outputs": [],
   "source": [
    "import requests\n",
    "def post_request(url, params):\n",
    "    headers = {'Content-type': 'application/json', 'Accept': 'text/plain'}\n",
    "\n",
    "    resp = requests.post(url, headers=headers, params=params)\n",
    "\n",
    "    if resp.status_code == 200:\n",
    "        recs = resp.json()\n",
    "    else:\n",
    "        recs = {\"result\": \"ERROR\", \"code\": f\"{resp.status_code}\"}\n",
    "        print(f\"Error status code: {resp.status_code} received from {url} ({params})\")\n",
    "    return recs    \n"
   ]
  },
  {
   "cell_type": "code",
   "execution_count": 4,
   "metadata": {},
   "outputs": [
    {
     "data": {
      "text/plain": [
       "{'result': 'OK'}"
      ]
     },
     "execution_count": 4,
     "metadata": {},
     "output_type": "execute_result"
    }
   ],
   "source": [
    "recs = post_request(f\"http://{my_ip}:8090/reload\", \"{}\")\n",
    "recs"
   ]
  },
  {
   "cell_type": "code",
   "execution_count": 1,
   "metadata": {},
   "outputs": [
    {
     "data": {
      "text/plain": [
       "svmem(total=33651257344, available=31932575744, percent=5.1, used=1274212352, free=31504547840, active=283656192, inactive=1534652416, buffers=101191680, cached=771305472, shared=1187840, slab=169693184)"
      ]
     },
     "execution_count": 1,
     "metadata": {},
     "output_type": "execute_result"
    }
   ],
   "source": [
    "import psutil\n",
    "psutil.virtual_memory()"
   ]
  }
 ],
 "metadata": {
  "kernelspec": {
   "display_name": ".venv_mle-pr-final",
   "language": "python",
   "name": "python3"
  },
  "language_info": {
   "codemirror_mode": {
    "name": "ipython",
    "version": 3
   },
   "file_extension": ".py",
   "mimetype": "text/x-python",
   "name": "python",
   "nbconvert_exporter": "python",
   "pygments_lexer": "ipython3",
   "version": "3.10.12"
  },
  "orig_nbformat": 4
 },
 "nbformat": 4,
 "nbformat_minor": 2
}
